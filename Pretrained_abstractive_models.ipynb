{
  "nbformat": 4,
  "nbformat_minor": 0,
  "metadata": {
    "colab": {
      "name": "Pretrained_abstractive_models.ipynb",
      "provenance": [],
      "collapsed_sections": [],
      "toc_visible": true
    },
    "kernelspec": {
      "name": "python3",
      "display_name": "Python 3"
    },
    "language_info": {
      "name": "python"
    },
    "accelerator": "GPU"
  },
  "cells": [
    {
      "cell_type": "code",
      "metadata": {
        "colab": {
          "base_uri": "https://localhost:8080/"
        },
        "id": "4i0jTRmoTSJc",
        "outputId": "4d4c07f8-be8d-4def-fe44-e51308d1e410"
      },
      "source": [
        "!pip install sentencepiece\n",
        "!pip install rouge"
      ],
      "execution_count": null,
      "outputs": [
        {
          "output_type": "stream",
          "text": [
            "Requirement already satisfied: sentencepiece in /usr/local/lib/python3.7/dist-packages (0.1.95)\n",
            "Requirement already satisfied: rouge in /usr/local/lib/python3.7/dist-packages (1.0.0)\n",
            "Requirement already satisfied: six in /usr/local/lib/python3.7/dist-packages (from rouge) (1.15.0)\n"
          ],
          "name": "stdout"
        }
      ]
    },
    {
      "cell_type": "code",
      "metadata": {
        "colab": {
          "base_uri": "https://localhost:8080/"
        },
        "id": "KhexL0SIed8k",
        "outputId": "1d9de5e1-3052-43f4-db9d-ec4b16264517"
      },
      "source": [
        "!pip install transformers"
      ],
      "execution_count": null,
      "outputs": [
        {
          "output_type": "stream",
          "text": [
            "Requirement already satisfied: transformers in /usr/local/lib/python3.7/dist-packages (4.7.0)\n",
            "Requirement already satisfied: numpy>=1.17 in /usr/local/lib/python3.7/dist-packages (from transformers) (1.19.5)\n",
            "Requirement already satisfied: huggingface-hub==0.0.8 in /usr/local/lib/python3.7/dist-packages (from transformers) (0.0.8)\n",
            "Requirement already satisfied: pyyaml in /usr/local/lib/python3.7/dist-packages (from transformers) (3.13)\n",
            "Requirement already satisfied: requests in /usr/local/lib/python3.7/dist-packages (from transformers) (2.23.0)\n",
            "Requirement already satisfied: sacremoses in /usr/local/lib/python3.7/dist-packages (from transformers) (0.0.45)\n",
            "Requirement already satisfied: tokenizers<0.11,>=0.10.1 in /usr/local/lib/python3.7/dist-packages (from transformers) (0.10.3)\n",
            "Requirement already satisfied: importlib-metadata; python_version < \"3.8\" in /usr/local/lib/python3.7/dist-packages (from transformers) (4.5.0)\n",
            "Requirement already satisfied: regex!=2019.12.17 in /usr/local/lib/python3.7/dist-packages (from transformers) (2019.12.20)\n",
            "Requirement already satisfied: tqdm>=4.27 in /usr/local/lib/python3.7/dist-packages (from transformers) (4.41.1)\n",
            "Requirement already satisfied: filelock in /usr/local/lib/python3.7/dist-packages (from transformers) (3.0.12)\n",
            "Requirement already satisfied: packaging in /usr/local/lib/python3.7/dist-packages (from transformers) (20.9)\n",
            "Requirement already satisfied: idna<3,>=2.5 in /usr/local/lib/python3.7/dist-packages (from requests->transformers) (2.10)\n",
            "Requirement already satisfied: chardet<4,>=3.0.2 in /usr/local/lib/python3.7/dist-packages (from requests->transformers) (3.0.4)\n",
            "Requirement already satisfied: urllib3!=1.25.0,!=1.25.1,<1.26,>=1.21.1 in /usr/local/lib/python3.7/dist-packages (from requests->transformers) (1.24.3)\n",
            "Requirement already satisfied: certifi>=2017.4.17 in /usr/local/lib/python3.7/dist-packages (from requests->transformers) (2021.5.30)\n",
            "Requirement already satisfied: six in /usr/local/lib/python3.7/dist-packages (from sacremoses->transformers) (1.15.0)\n",
            "Requirement already satisfied: joblib in /usr/local/lib/python3.7/dist-packages (from sacremoses->transformers) (1.0.1)\n",
            "Requirement already satisfied: click in /usr/local/lib/python3.7/dist-packages (from sacremoses->transformers) (7.1.2)\n",
            "Requirement already satisfied: typing-extensions>=3.6.4; python_version < \"3.8\" in /usr/local/lib/python3.7/dist-packages (from importlib-metadata; python_version < \"3.8\"->transformers) (3.7.4.3)\n",
            "Requirement already satisfied: zipp>=0.5 in /usr/local/lib/python3.7/dist-packages (from importlib-metadata; python_version < \"3.8\"->transformers) (3.4.1)\n",
            "Requirement already satisfied: pyparsing>=2.0.2 in /usr/local/lib/python3.7/dist-packages (from packaging->transformers) (2.4.7)\n"
          ],
          "name": "stdout"
        }
      ]
    },
    {
      "cell_type": "code",
      "metadata": {
        "id": "fjMid0NEDWc7"
      },
      "source": [
        "import pandas as pd\n",
        "from sklearn.model_selection import train_test_split\n",
        "from nltk.corpus import stopwords\n",
        "import nltk\n",
        "import numpy as np\n",
        "import re\n",
        "from keras.preprocessing.text import Tokenizer\n",
        "from tensorflow.keras.preprocessing.sequence import pad_sequences\n",
        "import matplotlib.pyplot as plt\n",
        "from tensorflow.keras.layers import Input, LSTM, Embedding, Dense, Concatenate, TimeDistributed\n",
        "from tensorflow.keras.models import Model\n",
        "from tensorflow.keras.callbacks import EarlyStopping\n",
        "import transformers\n",
        "from numpy.random import randint"
      ],
      "execution_count": null,
      "outputs": []
    },
    {
      "cell_type": "code",
      "metadata": {
        "colab": {
          "base_uri": "https://localhost:8080/"
        },
        "id": "v8zc5y8sCJnC",
        "outputId": "fd7b57b1-b3d6-4254-dd18-10f0f4117052"
      },
      "source": [
        "nltk.download('punkt')\n",
        "nltk.download('stopwords')"
      ],
      "execution_count": null,
      "outputs": [
        {
          "output_type": "stream",
          "text": [
            "[nltk_data] Downloading package punkt to /root/nltk_data...\n",
            "[nltk_data]   Package punkt is already up-to-date!\n",
            "[nltk_data] Downloading package stopwords to /root/nltk_data...\n",
            "[nltk_data]   Package stopwords is already up-to-date!\n"
          ],
          "name": "stdout"
        },
        {
          "output_type": "execute_result",
          "data": {
            "text/plain": [
              "True"
            ]
          },
          "metadata": {
            "tags": []
          },
          "execution_count": 6
        }
      ]
    },
    {
      "cell_type": "markdown",
      "metadata": {
        "id": "vL7DF13QhZA9"
      },
      "source": [
        "Importing datasets"
      ]
    },
    {
      "cell_type": "code",
      "metadata": {
        "id": "shMSrnZIIDhI",
        "colab": {
          "base_uri": "https://localhost:8080/",
          "height": 36
        },
        "outputId": "9bf9ed0c-1683-4fa0-9c4a-db19281c713b"
      },
      "source": [
        "# Import PyDrive and associated libraries.\n",
        "# This only needs to be done once per notebook.\n",
        "from pydrive.auth import GoogleAuth\n",
        "from pydrive.drive import GoogleDrive\n",
        "from google.colab import auth\n",
        "from oauth2client.client import GoogleCredentials\n",
        "\n",
        "# Authenticate and create the PyDrive client.\n",
        "# This only needs to be done once per notebook.\n",
        "auth.authenticate_user()\n",
        "gauth = GoogleAuth()\n",
        "gauth.credentials = GoogleCredentials.get_application_default()\n",
        "drive = GoogleDrive(gauth)\n",
        "\n",
        "# Download a file based on its file ID.\n",
        "#\n",
        "\n",
        "# A file ID looks like: laggVyWshwcyP6kEI-y_W3P8D26sz\n",
        "file_id = '1elNqcb5tW9snmf-xRfMK0AvLUfEcOhC1'\n",
        "downloaded = drive.CreateFile({'id': file_id})\n",
        "downloaded.GetContentFile('news_summary.csv')\n",
        "'''\n",
        "file_id = '1rAKmHTbGPOeuREC7Olk5oNHjNrdFHKkz'\n",
        "downloaded = drive.CreateFile({'id': file_id})\n",
        "downloaded.GetContentFile('news_summary_more.csv')\n",
        "'''"
      ],
      "execution_count": null,
      "outputs": [
        {
          "output_type": "execute_result",
          "data": {
            "application/vnd.google.colaboratory.intrinsic+json": {
              "type": "string"
            },
            "text/plain": [
              "\"\\nfile_id = '1rAKmHTbGPOeuREC7Olk5oNHjNrdFHKkz'\\ndownloaded = drive.CreateFile({'id': file_id})\\ndownloaded.GetContentFile('news_summary_more.csv')\\n\""
            ]
          },
          "metadata": {
            "tags": []
          },
          "execution_count": 7
        }
      ]
    },
    {
      "cell_type": "code",
      "metadata": {
        "id": "YJhwSyeIC9ud"
      },
      "source": [
        "data = pd.read_csv('news_summary.csv', encoding='latin-1') #check encodings types\n",
        "#more_data = pd.read_csv('news_summary_more.csv', encoding='latin-1')"
      ],
      "execution_count": null,
      "outputs": []
    },
    {
      "cell_type": "markdown",
      "metadata": {
        "id": "eWGlO_SasW6q"
      },
      "source": [
        "#Exploring the datasets"
      ]
    },
    {
      "cell_type": "markdown",
      "metadata": {
        "id": "RDu_47Eesb2E"
      },
      "source": [
        "## news_summary dataset\n"
      ]
    },
    {
      "cell_type": "code",
      "metadata": {
        "colab": {
          "base_uri": "https://localhost:8080/"
        },
        "id": "H2FiIOaHih6H",
        "outputId": "74855610-3b30-47c0-d016-62ac8a7f3a75"
      },
      "source": [
        "data.info()"
      ],
      "execution_count": null,
      "outputs": [
        {
          "output_type": "stream",
          "text": [
            "<class 'pandas.core.frame.DataFrame'>\n",
            "RangeIndex: 4514 entries, 0 to 4513\n",
            "Data columns (total 6 columns):\n",
            " #   Column     Non-Null Count  Dtype \n",
            "---  ------     --------------  ----- \n",
            " 0   author     4514 non-null   object\n",
            " 1   date       4514 non-null   object\n",
            " 2   headlines  4514 non-null   object\n",
            " 3   read_more  4514 non-null   object\n",
            " 4   text       4514 non-null   object\n",
            " 5   ctext      4396 non-null   object\n",
            "dtypes: object(6)\n",
            "memory usage: 211.7+ KB\n"
          ],
          "name": "stdout"
        }
      ]
    },
    {
      "cell_type": "code",
      "metadata": {
        "colab": {
          "base_uri": "https://localhost:8080/",
          "height": 288
        },
        "id": "dCH9IBOSDbBg",
        "outputId": "552a6c4d-6b24-4810-ee4d-425803edb8cd"
      },
      "source": [
        "data.head()"
      ],
      "execution_count": null,
      "outputs": [
        {
          "output_type": "execute_result",
          "data": {
            "text/html": [
              "<div>\n",
              "<style scoped>\n",
              "    .dataframe tbody tr th:only-of-type {\n",
              "        vertical-align: middle;\n",
              "    }\n",
              "\n",
              "    .dataframe tbody tr th {\n",
              "        vertical-align: top;\n",
              "    }\n",
              "\n",
              "    .dataframe thead th {\n",
              "        text-align: right;\n",
              "    }\n",
              "</style>\n",
              "<table border=\"1\" class=\"dataframe\">\n",
              "  <thead>\n",
              "    <tr style=\"text-align: right;\">\n",
              "      <th></th>\n",
              "      <th>author</th>\n",
              "      <th>date</th>\n",
              "      <th>headlines</th>\n",
              "      <th>read_more</th>\n",
              "      <th>text</th>\n",
              "      <th>ctext</th>\n",
              "    </tr>\n",
              "  </thead>\n",
              "  <tbody>\n",
              "    <tr>\n",
              "      <th>0</th>\n",
              "      <td>Chhavi Tyagi</td>\n",
              "      <td>03 Aug 2017,Thursday</td>\n",
              "      <td>Daman &amp; Diu revokes mandatory Rakshabandhan in...</td>\n",
              "      <td>http://www.hindustantimes.com/india-news/raksh...</td>\n",
              "      <td>The Administration of Union Territory Daman an...</td>\n",
              "      <td>The Daman and Diu administration on Wednesday ...</td>\n",
              "    </tr>\n",
              "    <tr>\n",
              "      <th>1</th>\n",
              "      <td>Daisy Mowke</td>\n",
              "      <td>03 Aug 2017,Thursday</td>\n",
              "      <td>Malaika slams user who trolled her for 'divorc...</td>\n",
              "      <td>http://www.hindustantimes.com/bollywood/malaik...</td>\n",
              "      <td>Malaika Arora slammed an Instagram user who tr...</td>\n",
              "      <td>From her special numbers to TV?appearances, Bo...</td>\n",
              "    </tr>\n",
              "    <tr>\n",
              "      <th>2</th>\n",
              "      <td>Arshiya Chopra</td>\n",
              "      <td>03 Aug 2017,Thursday</td>\n",
              "      <td>'Virgin' now corrected to 'Unmarried' in IGIMS...</td>\n",
              "      <td>http://www.hindustantimes.com/patna/bihar-igim...</td>\n",
              "      <td>The Indira Gandhi Institute of Medical Science...</td>\n",
              "      <td>The Indira Gandhi Institute of Medical Science...</td>\n",
              "    </tr>\n",
              "    <tr>\n",
              "      <th>3</th>\n",
              "      <td>Sumedha Sehra</td>\n",
              "      <td>03 Aug 2017,Thursday</td>\n",
              "      <td>Aaj aapne pakad liya: LeT man Dujana before be...</td>\n",
              "      <td>http://indiatoday.intoday.in/story/abu-dujana-...</td>\n",
              "      <td>Lashkar-e-Taiba's Kashmir commander Abu Dujana...</td>\n",
              "      <td>Lashkar-e-Taiba's Kashmir commander Abu Dujana...</td>\n",
              "    </tr>\n",
              "    <tr>\n",
              "      <th>4</th>\n",
              "      <td>Aarushi Maheshwari</td>\n",
              "      <td>03 Aug 2017,Thursday</td>\n",
              "      <td>Hotel staff to get training to spot signs of s...</td>\n",
              "      <td>http://indiatoday.intoday.in/story/sex-traffic...</td>\n",
              "      <td>Hotels in Maharashtra will train their staff t...</td>\n",
              "      <td>Hotels in Mumbai and other Indian cities are t...</td>\n",
              "    </tr>\n",
              "  </tbody>\n",
              "</table>\n",
              "</div>"
            ],
            "text/plain": [
              "               author  ...                                              ctext\n",
              "0        Chhavi Tyagi  ...  The Daman and Diu administration on Wednesday ...\n",
              "1         Daisy Mowke  ...  From her special numbers to TV?appearances, Bo...\n",
              "2      Arshiya Chopra  ...  The Indira Gandhi Institute of Medical Science...\n",
              "3       Sumedha Sehra  ...  Lashkar-e-Taiba's Kashmir commander Abu Dujana...\n",
              "4  Aarushi Maheshwari  ...  Hotels in Mumbai and other Indian cities are t...\n",
              "\n",
              "[5 rows x 6 columns]"
            ]
          },
          "metadata": {
            "tags": []
          },
          "execution_count": 10
        }
      ]
    },
    {
      "cell_type": "code",
      "metadata": {
        "colab": {
          "base_uri": "https://localhost:8080/"
        },
        "id": "1Tcsae0evIu9",
        "outputId": "e42634d5-ad06-42ff-98d2-b4794d46310e"
      },
      "source": [
        "duplicateRows1 = data[data.duplicated(subset=['ctext'])]\n",
        "print('complete text duplicates')\n",
        "print(duplicateRows1)"
      ],
      "execution_count": null,
      "outputs": [
        {
          "output_type": "stream",
          "text": [
            "complete text duplicates\n",
            "                  author  ...                                              ctext\n",
            "42          Chhavi Tyagi  ...  The Daman and Diu administration on Wednesday ...\n",
            "190         Chhavi Tyagi  ...  Charges and counter charges flew in the Lok Sa...\n",
            "231   Niharika Prabhakar  ...                                                NaN\n",
            "286        Saloni Tandon  ...                                                NaN\n",
            "368         Chhavi Tyagi  ...  Bihar chief minister Nitish Kumar comfortably ...\n",
            "...                  ...  ...                                                ...\n",
            "4381        Chhavi Tyagi  ...  Rounding off a day of hectic electioneering in...\n",
            "4423      Mansha Mahajan  ...                                                NaN\n",
            "4454     Abhishek Bansal  ...                                                NaN\n",
            "4500      Mansha Mahajan  ...                                                NaN\n",
            "4508        Tarun Khanna  ...                                                NaN\n",
            "\n",
            "[172 rows x 6 columns]\n"
          ],
          "name": "stdout"
        }
      ]
    },
    {
      "cell_type": "code",
      "metadata": {
        "colab": {
          "base_uri": "https://localhost:8080/"
        },
        "id": "0fRPNJrTvUl8",
        "outputId": "3f5cb387-3e23-408e-c743-e8eb11f5c03c"
      },
      "source": [
        "duplicateRows2 = data[data.duplicated(subset=['text'])]\n",
        "print('summary text duplicates',duplicateRows2)\n"
      ],
      "execution_count": null,
      "outputs": [
        {
          "output_type": "stream",
          "text": [
            "summary text duplicates Empty DataFrame\n",
            "Columns: [author, date, headlines, read_more, text, ctext]\n",
            "Index: []\n"
          ],
          "name": "stdout"
        }
      ]
    },
    {
      "cell_type": "code",
      "metadata": {
        "colab": {
          "base_uri": "https://localhost:8080/"
        },
        "id": "8j6X1IFxpdjg",
        "outputId": "e5d8a321-c77a-4775-c1b2-0528887e5aa9"
      },
      "source": [
        "duplicateRows3 = data[data.duplicated(subset=['headlines'])]\n",
        "print('headlines duplicates',duplicateRows3)"
      ],
      "execution_count": null,
      "outputs": [
        {
          "output_type": "stream",
          "text": [
            "headlines duplicates Empty DataFrame\n",
            "Columns: [author, date, headlines, read_more, text, ctext]\n",
            "Index: []\n"
          ],
          "name": "stdout"
        }
      ]
    },
    {
      "cell_type": "code",
      "metadata": {
        "colab": {
          "base_uri": "https://localhost:8080/",
          "height": 204
        },
        "id": "PGjDANaEl6fw",
        "outputId": "8c8cf72d-69bc-4704-d0b9-be1709580e81"
      },
      "source": [
        "selected_features = data[['headlines','text']]\n",
        "selected_features.head()"
      ],
      "execution_count": null,
      "outputs": [
        {
          "output_type": "execute_result",
          "data": {
            "text/html": [
              "<div>\n",
              "<style scoped>\n",
              "    .dataframe tbody tr th:only-of-type {\n",
              "        vertical-align: middle;\n",
              "    }\n",
              "\n",
              "    .dataframe tbody tr th {\n",
              "        vertical-align: top;\n",
              "    }\n",
              "\n",
              "    .dataframe thead th {\n",
              "        text-align: right;\n",
              "    }\n",
              "</style>\n",
              "<table border=\"1\" class=\"dataframe\">\n",
              "  <thead>\n",
              "    <tr style=\"text-align: right;\">\n",
              "      <th></th>\n",
              "      <th>headlines</th>\n",
              "      <th>text</th>\n",
              "    </tr>\n",
              "  </thead>\n",
              "  <tbody>\n",
              "    <tr>\n",
              "      <th>0</th>\n",
              "      <td>Daman &amp; Diu revokes mandatory Rakshabandhan in...</td>\n",
              "      <td>The Administration of Union Territory Daman an...</td>\n",
              "    </tr>\n",
              "    <tr>\n",
              "      <th>1</th>\n",
              "      <td>Malaika slams user who trolled her for 'divorc...</td>\n",
              "      <td>Malaika Arora slammed an Instagram user who tr...</td>\n",
              "    </tr>\n",
              "    <tr>\n",
              "      <th>2</th>\n",
              "      <td>'Virgin' now corrected to 'Unmarried' in IGIMS...</td>\n",
              "      <td>The Indira Gandhi Institute of Medical Science...</td>\n",
              "    </tr>\n",
              "    <tr>\n",
              "      <th>3</th>\n",
              "      <td>Aaj aapne pakad liya: LeT man Dujana before be...</td>\n",
              "      <td>Lashkar-e-Taiba's Kashmir commander Abu Dujana...</td>\n",
              "    </tr>\n",
              "    <tr>\n",
              "      <th>4</th>\n",
              "      <td>Hotel staff to get training to spot signs of s...</td>\n",
              "      <td>Hotels in Maharashtra will train their staff t...</td>\n",
              "    </tr>\n",
              "  </tbody>\n",
              "</table>\n",
              "</div>"
            ],
            "text/plain": [
              "                                           headlines                                               text\n",
              "0  Daman & Diu revokes mandatory Rakshabandhan in...  The Administration of Union Territory Daman an...\n",
              "1  Malaika slams user who trolled her for 'divorc...  Malaika Arora slammed an Instagram user who tr...\n",
              "2  'Virgin' now corrected to 'Unmarried' in IGIMS...  The Indira Gandhi Institute of Medical Science...\n",
              "3  Aaj aapne pakad liya: LeT man Dujana before be...  Lashkar-e-Taiba's Kashmir commander Abu Dujana...\n",
              "4  Hotel staff to get training to spot signs of s...  Hotels in Maharashtra will train their staff t..."
            ]
          },
          "metadata": {
            "tags": []
          },
          "execution_count": 15
        }
      ]
    },
    {
      "cell_type": "code",
      "metadata": {
        "colab": {
          "base_uri": "https://localhost:8080/"
        },
        "id": "_Ikxky5-1pt1",
        "outputId": "ab060db9-4847-475c-adb0-6f8023b2423d"
      },
      "source": [
        "selected_features.isnull().values.any()\n"
      ],
      "execution_count": null,
      "outputs": [
        {
          "output_type": "execute_result",
          "data": {
            "text/plain": [
              "False"
            ]
          },
          "metadata": {
            "tags": []
          },
          "execution_count": 16
        }
      ]
    },
    {
      "cell_type": "code",
      "metadata": {
        "colab": {
          "base_uri": "https://localhost:8080/"
        },
        "id": "ehZ_DoE1DA3K",
        "outputId": "1ed7fa95-1c31-4b54-f768-5e065e90e8fc"
      },
      "source": [
        "X = selected_features['text'].values\n",
        "Y = selected_features['headlines'].values"
      ],
      "execution_count": null,
      "outputs": [
        {
          "output_type": "execute_result",
          "data": {
            "text/plain": [
              "numpy.ndarray"
            ]
          },
          "metadata": {
            "tags": []
          },
          "execution_count": 17
        }
      ]
    },
    {
      "cell_type": "code",
      "metadata": {
        "id": "_OkFu84cTMJR",
        "colab": {
          "base_uri": "https://localhost:8080/"
        },
        "outputId": "5edd54e6-e3f7-4a30-f75b-9671ca2a4043"
      },
      "source": [
        "X_train, X_test, y_train, y_test = train_test_split(X,Y, test_size = 0.2)\n",
        "X_train.shape, X_test.shape"
      ],
      "execution_count": null,
      "outputs": [
        {
          "output_type": "execute_result",
          "data": {
            "text/plain": [
              "((3611,), (903,))"
            ]
          },
          "metadata": {
            "tags": []
          },
          "execution_count": 18
        }
      ]
    },
    {
      "cell_type": "code",
      "metadata": {
        "colab": {
          "base_uri": "https://localhost:8080/"
        },
        "id": "1-Z11AKKQOr3",
        "outputId": "3af95d3f-e2e9-42dd-ff6c-5762468a8aa0"
      },
      "source": [
        "for i in range(10):\n",
        "    idx = np.random.randint(0,3611)\n",
        "    print(X_train[idx].split())"
      ],
      "execution_count": null,
      "outputs": [
        {
          "output_type": "stream",
          "text": [
            "['Krishnamurthy,', 'a', 'resident', 'of', 'Erode', 'in', 'Tamil', 'Nadu,', 'has', 'filed', 'a', 'complaint', 'with', 'the', \"state's\", 'Chief', 'Secretary', 'claiming', 'that', 'he', 'is', 'the', 'only', 'son', 'of', 'Jayalalithaa', 'and', 'that', 'his', 'mother', 'was', 'killed.', '\"She', '(Sasikala)', 'pushed', 'my', 'mother', 'down', 'the', 'stairs', 'on', '22nd', 'September', 'and', 'killed', 'her,\"', 'Krishnamurthy', 'alleged.', 'Krishnamurthy', 'also', 'stated', 'that', 'he', 'is', 'the', 'rightful', 'heir', 'to', \"Jayalalithaa's\", 'properties.']\n",
            "['More', 'than', '31', 'million', 'people,', 'that', 'is', 'one', 'person', 'every', 'second,', 'were', 'displaced', 'in', 'their', 'country', 'in', '2016', 'because', 'of', 'conflicts,', 'violence', 'and', 'natural', 'disasters,', 'a', 'Norwegian', 'Refugee', 'Council', 'report', 'has', 'revealed.', 'Adding', 'that', 'the', 'Democratic', 'Republic', 'of', 'the', 'Congo', 'was', 'the', 'worst', 'affected', 'country,', 'the', 'report', 'said', 'that', 'natural', 'disasters', 'displaced', 'over', 'three', 'times', 'the', 'number', 'uprooted', 'by', 'conflicts.']\n",
            "['Actor', 'Minaketan', 'Das,', 'known', 'for', 'his', 'roles', 'in', 'Odia', 'films', 'and', 'television', 'series,', 'passed', 'away', 'aged', '56', 'after', 'prolonged', 'illness', 'due', 'to', 'pancreatic', 'cancer.', 'He', 'was', 'undergoing', 'treatment', 'at', 'a', 'Mumbai', 'hospital.', 'Known', 'for', 'playing', 'negative', 'roles,', \"'Balunga\", \"Toka',\", \"'Jianta\", \"Bhuta'\", 'and', \"'Most\", \"Wanted'\", 'were', 'among', \"Minaketan's\", 'popular', 'films.']\n",
            "['ISRO', 'launched', \"India's\", 'heaviest', 'and', 'most', 'powerful', 'rocket', 'GSLV', 'MK-III', 'on', 'Monday,', 'also', 'carrying', 'GSAT-19,', 'the', 'heaviest', 'satellite', 'launched', 'by', 'an', 'Indian', 'rocket.', 'The', '3,136-kg', 'communications', 'satellite', 'is', 'the', 'first', 'to', 'be', 'powered', 'by', 'indigenous', 'Lithium-ion', 'batteries', 'and', 'can', 'be', 'the', 'first', 'to', 'provide', '\"Internet', 'services', 'using', 'a', 'space-based', 'platform\".', 'It', 'will', 'also', 'help', 'study', 'space', 'radiation', 'effects', 'on', 'satellites.']\n",
            "['A', 'German', 'court', 'on', 'Wednesday', 'ruled', 'that', 'the', 'parents', 'of', 'a', 'teenager,', 'who', 'died', 'in', '2012', 'after', 'falling', 'in', 'front', 'of', 'an', 'underground', 'train,', 'had', 'no', 'claim', 'to', 'access', 'her', 'Facebook', 'details', 'or', 'chat', 'history.', 'The', 'family', 'had', 'said', 'it', 'wanted', 'to', 'know', 'whether', 'the', \"girl's\", 'death', 'was', 'suicide', 'and,', 'if', 'so,', 'whether', 'it', 'was', 'the', 'consequence', 'of', 'online', 'bullying.']\n",
            "['The', 'organisers', 'of', 'French', 'disc', 'jockey', 'David', \"Guetta's\", 'show', 'have', 'cancelled', 'his', 'concert', 'which', 'was', 'scheduled', 'for', 'Thursday', 'night', 'in', 'Bengaluru.', 'Law', 'and', 'order', 'issues', 'following', 'the', 'molestation', 'incident', 'during', 'New', \"Year's\", 'eve', 'have', 'been', 'cited', 'as', 'the', 'reason.', 'The', 'organisers', 'said', 'they', 'hope', 'to', 'reschedule', 'the', 'concert', 'if', 'they', 'get', 'permission', 'from', 'the', 'authorities', 'and', 'the', 'artist.']\n",
            "['While', 'the', 'Opposition', 'in', 'India', 'has', 'raised', 'doubts', 'over', 'the', 'reliability', 'of', 'EVMs,', 'Russia', 'has', 'sought', \"India's\", 'EVM', 'technology', 'for', '2018', 'presidential', 'elections,', 'a', 'report', 'has', 'claimed.', 'During', 'the', 'Uttarakhand', 'Assembly', 'polls,', 'Deputy', 'Chairman', 'of', 'the', 'Russian', 'Election', 'Commission,', 'Nikolai', 'Levichev,', 'had', 'visited', 'the', 'state', 'to', 'closely', 'monitor', 'the', 'functioning', 'of', 'EVMs', 'and', 'the', 'electioneering', 'process.']\n",
            "['Doctors', 'at', 'the', 'All', 'India', 'Institute', 'of', 'Medical', 'Sciences', '(AIIMS)', 'in', 'Delhi', 'will', 'reportedly', 'assess', 'whether', 'it', 'is', 'possible', 'to', 'perform', 'surgery', 'to', 'separate', 'a', 'pair', 'of', 'two-year-old', 'twins', 'joined', 'at', 'the', 'head.', 'The', 'condition', 'afflicts', 'one', 'in', '30', 'lakh', 'children,', 'of', 'which', '50', 'per', 'cent', 'die', 'either', 'at', 'birth', 'or', 'within', '24', 'hours,', 'one', 'of', 'the', 'doctors', 'said.']\n",
            "['Former', 'cricketer', 'Sunil', 'Gavaskar', 'has', 'said', 'he', 'would', 'have', 'staged', 'a', 'protest', 'had', 'MS', 'Dhoni', 'retired', 'from', 'cricket', 'completely', 'rather', 'than', 'resigning', 'as', 'captain.', '\"If', 'he', 'had', 'quit', 'as', 'a', 'player,', 'I', 'would', 'have', 'been', 'the', 'first', 'one', 'outside', 'his', 'house,', 'having', 'a', 'dharna', 'asking', 'him', 'to', 'make', 'a', 'comeback...India', 'needs', 'him', 'as', 'a', 'player', 'very,', 'very', 'badly,\"', 'said', 'Gavaskar.']\n",
            "['A', 'group', 'of', 'thieves', 'allegedly', 'robbed', 'a', 'jewellery', 'store', 'in', 'Mumbai', 'by', 'drilling', 'a', 'hole', 'in', 'its', 'wall', 'from', 'a', 'vacant', 'store', 'next', 'door,', 'police', 'officials', 'said', 'on', 'Monday.', 'The', 'robbers', 'stole', '?8.5', 'lakh', 'worth', 'of', 'jewellery', 'and', 'left', 'behind', '?20', 'lakh', 'worth', 'of', 'gold', 'kept', 'in', 'an', 'iron', 'safe.', 'Police', 'are', 'probing', 'if', 'the', 'robbery', 'was', 'an', 'inside', 'job.']\n"
          ],
          "name": "stdout"
        }
      ]
    },
    {
      "cell_type": "markdown",
      "metadata": {
        "id": "hG2oLJlAJ3x7"
      },
      "source": [
        "# Abstractive Models"
      ]
    },
    {
      "cell_type": "markdown",
      "metadata": {
        "id": "5jeEaAMtKXwD"
      },
      "source": [
        "##GOOGLE's PEGASUS"
      ]
    },
    {
      "cell_type": "code",
      "metadata": {
        "id": "HORfWpzOJe0s"
      },
      "source": [
        "indx = randint(len(X_train),size = 10)"
      ],
      "execution_count": null,
      "outputs": []
    },
    {
      "cell_type": "code",
      "metadata": {
        "id": "R0DGTdzsE3ot"
      },
      "source": [
        "peg_model = transformers.pipeline('summarization','google/pegasus-xsum')"
      ],
      "execution_count": null,
      "outputs": []
    },
    {
      "cell_type": "code",
      "metadata": {
        "colab": {
          "base_uri": "https://localhost:8080/"
        },
        "id": "csJcZMEUHG-J",
        "outputId": "b0de0c67-42f0-460c-ea55-6052e9749ee9"
      },
      "source": [
        "peg_sents = [\"\"]*len(indx)\n",
        "j = 0\n",
        "for i in indx:\n",
        "  peg_sents[j] = peg_model(X_train[i])[0]['summary_text']\n",
        "  print('The article is: {}\\nThe headline is: {}\\nThe generated summary is:'.format(X_train[i], y_train[i]),peg_sents[j])\n",
        "  j+=1"
      ],
      "execution_count": null,
      "outputs": [
        {
          "output_type": "stream",
          "text": [
            "Your max_length is set to 64, but you input_length is only 63. You might consider decreasing max_length manually, e.g. summarizer('...', max_length=50)\n"
          ],
          "name": "stderr"
        },
        {
          "output_type": "stream",
          "text": [
            "The article is: At least 19 people were killed in different incidents of lightning strikes in Uttar Pradesh and Bihar. The most severely hit was Bihar, where 16 people died and two were injured in seven districts due to the strikes. Meanwhile, the death toll in Assam rose to 26 after one more life was claimed by the floods.\n",
            "The headline is: Lightning kills 19 in UP, Bihar; 26 killed in Assam floods\n",
            "The generated summary is: At least 39 people have been killed in separate incidents of lightning strikes in India's Bihar and Uttar Pradesh states in the past 24 hours.\n",
            "The article is: A Kotak Mahindra Bank branch manager arrested on Wednesday, Ashish Kumar, took ?1.5 crore to convert ?35 crore demonetised currency of Delhi-based lawyer Rohit Tandon, said the Enforcement Directorate. The bank has suspended the services of the manager. Earlier in December, two people were arrested for opening fake accounts in the branch with unaccounted deposits totalling ?34 crore.\n",
            "The headline is: Kotak Mahindra Bank manager took ?1.5 cr to convert ?35 cr\n",
            "The generated summary is: A bank manager has been arrested in connection with a money laundering case.\n",
            "The article is: Union Minister Ravi Shankar Prasad on Friday said that though Muslims don't vote for the BJP, the BJP government has given them \"proper sanctity\". \"We have got 13 chief ministers of our own. We are ruling the country. Have we victimised any Muslim gentleman working in the industry or service? Have we dismissed them,\" he asked. \n",
            "The headline is: Muslims don't vote for us, but we gave them sanctity: Prasad\n",
            "The generated summary is: The Bharatiya Janata Party (BJP) has accused the Samajwadi Party (SP) of \"victimising\" Muslims.\n",
            "The article is: A 22-year-old man was arrested in west Delhi for allegedly raping his 17-year-old sister and molesting his 13-year-old sister, police said. Reportedly, the accused had been assaulting his sisters for the past one year and threatened to throw them out of the house if they complained. Their father passed away two years ago and their mother is suffering from cancer.\n",
            "The headline is: Man arrested for raping, molesting teenage sisters\n",
            "The generated summary is: Police in the Indian capital, Delhi, have arrested a man for allegedly raping his teenage sister.\n",
            "The article is: The Brihanmumbai Municipal Corporation (BMC) has issued a notice to NGO Praja Foundation for 'misrepresenting' data in a report stating that a third of the children in BMC schools are malnourished. Officials accused the NGO of not factoring in changes in the screening process for malnourishment. The civic body demanded a public apology and threatened legal action against the NGO.\n",
            "The headline is: BMC notice to NGO for report on malnutrition in schools\n",
            "The generated summary is: A civic body in the western Indian city of Mumbai has threatened to take legal action against a non-governmental organisation (NGO) for 'misrepresenting' data in a report.\n",
            "The article is: Ex-England cricketer Geoffrey Boycott named his Dream XI cricket team which did not feature any of the Indian greats. Boycott said he did not pick Gavaskar in the side as batsmen from yesteryears like WG Grace and Jack Hobbs played under higher degree of challenges. \"The Dream XI selected by the ICC's online readers insults...achievements of the greats,\" added Boycott.\n",
            "The headline is: No Indians in Geoffrey Boycott's Dream XI\n",
            "The generated summary is: Former India captain Sunil Gavaskar has been described as an \"insult\" by a former cricketer.\n",
            "The article is: The Vishwa Hindu Parishad (VHP) has decided to recruit 5,000 'religious soldiers' in Uttar Pradesh's Aligarh district, to control cow smuggling and love jihad in the region. Only Bajrang Dal activists who have completed bravery training will be eligible for the post, recruitment for which will start in September. They will also protect \"Hindu boys and girls, maths and temples\".\n",
            "The headline is: VHP 'religious soldiers' to fight love jihad, cow smuggling\n",
            "The generated summary is: All images are copyrighted.\n"
          ],
          "name": "stdout"
        },
        {
          "output_type": "stream",
          "text": [
            "Your max_length is set to 64, but you input_length is only 62. You might consider decreasing max_length manually, e.g. summarizer('...', max_length=50)\n"
          ],
          "name": "stderr"
        },
        {
          "output_type": "stream",
          "text": [
            "The article is: As per a survey conducted by the World Water Council (WWC), 71% Indians believe the standard of drinking water in India has improved in the last five years. \"I think Mr Modi is very much concerned with water and sanitation issues. He has even appointed a special secretary to deal with the Ganga river cleanup,\" said WWC President Benedito Braga.n\n",
            "The headline is: Drinking water standards have improved in India: WWC\n",
            "The generated summary is: India's Prime Minister Narendra Modi has been praised for his focus on water and sanitation issues.\n",
            "The article is: The Bombay High Court on Tuesday slammed over 4,500 resident doctors in Maharashtra who had gone on mass leave since March 20 and asked them to join work or face action by the management. The HC was hearing a PIL filed against the strike wherein the advocate representing the petitioners claimed 58 people have died in Maharashtra since Monday.\n",
            "The headline is: Join work or face action: Bombay HC to protesting doctors\n",
            "The generated summary is: The Bombay High Court on Tuesday slammed over 4,500 resident doctors in Maharashtra who had gone on mass leave since March 20 and asked them to join work or face action by the management.\n",
            "The article is: The new Nokia 3310 has a 2.4-inch colour screen unlike the original phone, which came with an 84x84 black and white display. The 2017 Nokia 3310's 1200mAh battery life is 10 times more than the original. The new model, which is slimmer and lighter than the original, has an updated version of the 'Snake' game, which was made by Gameloft.\n",
            "The headline is: How is the new Nokia 3310 different from its older version?\n",
            "The generated summary is: Nokia has released a new version of its 3310 mobile phone.\n"
          ],
          "name": "stdout"
        }
      ]
    },
    {
      "cell_type": "markdown",
      "metadata": {
        "id": "OhaFcpy6lMgK"
      },
      "source": [
        "##facebook/bart-large-cnn"
      ]
    },
    {
      "cell_type": "code",
      "metadata": {
        "id": "z_vfZmchbu-r"
      },
      "source": [
        "smr_bart = transformers.pipeline(task=\"summarization\", model=\"facebook/bart-large-cnn\")"
      ],
      "execution_count": null,
      "outputs": []
    },
    {
      "cell_type": "code",
      "metadata": {
        "colab": {
          "base_uri": "https://localhost:8080/"
        },
        "id": "Q55weVsAGf0V",
        "outputId": "ba2f316a-cad2-4471-c3e1-6aa06e404c7c"
      },
      "source": [
        "smr_bart_sents = [\"\"]*len(indx)\n",
        "j = 0\n",
        "for i in indx:\n",
        "    smr_bart_sents[j] = smr_bart(X_train[i],max_length=20)[0]['summary_text']\n",
        "    print('The article is: {}\\nThe headline is: {}\\nThe generated summary is:'.format(X_train[i], y_train[i]),smr_bart_sents[j])\n",
        "    j+=1"
      ],
      "execution_count": null,
      "outputs": [
        {
          "output_type": "stream",
          "text": [
            "The article is: At least 19 people were killed in different incidents of lightning strikes in Uttar Pradesh and Bihar. The most severely hit was Bihar, where 16 people died and two were injured in seven districts due to the strikes. Meanwhile, the death toll in Assam rose to 26 after one more life was claimed by the floods.\n",
            "The headline is: Lightning kills 19 in UP, Bihar; 26 killed in Assam floods\n",
            "The generated summary is: At least 19 people were killed in different incidents of lightning strikes in Uttar Pradesh and Bihar\n",
            "The article is: A Kotak Mahindra Bank branch manager arrested on Wednesday, Ashish Kumar, took ?1.5 crore to convert ?35 crore demonetised currency of Delhi-based lawyer Rohit Tandon, said the Enforcement Directorate. The bank has suspended the services of the manager. Earlier in December, two people were arrested for opening fake accounts in the branch with unaccounted deposits totalling ?34 crore.\n",
            "The headline is: Kotak Mahindra Bank manager took ?1.5 cr to convert ?35 cr\n",
            "The generated summary is: Ashish Kumar took ?1.5 crore to convert ?35 crore demonetised\n",
            "The article is: Union Minister Ravi Shankar Prasad on Friday said that though Muslims don't vote for the BJP, the BJP government has given them \"proper sanctity\". \"We have got 13 chief ministers of our own. We are ruling the country. Have we victimised any Muslim gentleman working in the industry or service? Have we dismissed them,\" he asked. \n",
            "The headline is: Muslims don't vote for us, but we gave them sanctity: Prasad\n",
            "The generated summary is: Ravi Shankar Prasad says Muslims don't vote for the BJP, but\n",
            "The article is: A 22-year-old man was arrested in west Delhi for allegedly raping his 17-year-old sister and molesting his 13-year-old sister, police said. Reportedly, the accused had been assaulting his sisters for the past one year and threatened to throw them out of the house if they complained. Their father passed away two years ago and their mother is suffering from cancer.\n",
            "The headline is: Man arrested for raping, molesting teenage sisters\n",
            "The generated summary is: A 22-year-old man was arrested in west Delhi for allegedly raping his 17\n",
            "The article is: The Brihanmumbai Municipal Corporation (BMC) has issued a notice to NGO Praja Foundation for 'misrepresenting' data in a report stating that a third of the children in BMC schools are malnourished. Officials accused the NGO of not factoring in changes in the screening process for malnourishment. The civic body demanded a public apology and threatened legal action against the NGO.\n",
            "The headline is: BMC notice to NGO for report on malnutrition in schools\n",
            "The generated summary is: BMC has issued a notice to NGO Praja Foundation for 'misrepresenting'\n",
            "The article is: Ex-England cricketer Geoffrey Boycott named his Dream XI cricket team which did not feature any of the Indian greats. Boycott said he did not pick Gavaskar in the side as batsmen from yesteryears like WG Grace and Jack Hobbs played under higher degree of challenges. \"The Dream XI selected by the ICC's online readers insults...achievements of the greats,\" added Boycott.\n",
            "The headline is: No Indians in Geoffrey Boycott's Dream XI\n",
            "The generated summary is: Ex-England cricketer Geoffrey Boycott named his Dream XI cricket team. Boy\n",
            "The article is: The Vishwa Hindu Parishad (VHP) has decided to recruit 5,000 'religious soldiers' in Uttar Pradesh's Aligarh district, to control cow smuggling and love jihad in the region. Only Bajrang Dal activists who have completed bravery training will be eligible for the post, recruitment for which will start in September. They will also protect \"Hindu boys and girls, maths and temples\".\n",
            "The headline is: VHP 'religious soldiers' to fight love jihad, cow smuggling\n",
            "The generated summary is: Vishwa Hindu Parishad to recruit 5,000 'religious soldiers' in Al\n",
            "The article is: As per a survey conducted by the World Water Council (WWC), 71% Indians believe the standard of drinking water in India has improved in the last five years. \"I think Mr Modi is very much concerned with water and sanitation issues. He has even appointed a special secretary to deal with the Ganga river cleanup,\" said WWC President Benedito Braga.n\n",
            "The headline is: Drinking water standards have improved in India: WWC\n",
            "The generated summary is: 71% Indians believe the standard of drinking water in India has improved in the last five\n",
            "The article is: The Bombay High Court on Tuesday slammed over 4,500 resident doctors in Maharashtra who had gone on mass leave since March 20 and asked them to join work or face action by the management. The HC was hearing a PIL filed against the strike wherein the advocate representing the petitioners claimed 58 people have died in Maharashtra since Monday.\n",
            "The headline is: Join work or face action: Bombay HC to protesting doctors\n",
            "The generated summary is: The Bombay High Court on Tuesday slammed over 4,500 resident doctors in Maharashtra who had\n",
            "The article is: The new Nokia 3310 has a 2.4-inch colour screen unlike the original phone, which came with an 84x84 black and white display. The 2017 Nokia 3310's 1200mAh battery life is 10 times more than the original. The new model, which is slimmer and lighter than the original, has an updated version of the 'Snake' game, which was made by Gameloft.\n",
            "The headline is: How is the new Nokia 3310 different from its older version?\n",
            "The generated summary is: The new Nokia 3310 has a 2.4-inch colour screen unlike the original\n"
          ],
          "name": "stdout"
        }
      ]
    },
    {
      "cell_type": "code",
      "metadata": {
        "id": "CCtg_rAPmYJd"
      },
      "source": [
        "y_train[indx[4]]"
      ],
      "execution_count": null,
      "outputs": []
    },
    {
      "cell_type": "markdown",
      "metadata": {
        "id": "ZJlJeL88lVDX"
      },
      "source": [
        "##google/roberta2roberta_L-24_bbc"
      ]
    },
    {
      "cell_type": "code",
      "metadata": {
        "colab": {
          "base_uri": "https://localhost:8080/"
        },
        "id": "skapVqjnSkF-",
        "outputId": "70499fb8-9424-4bb8-e4a0-5c46ec24fff2"
      },
      "source": [
        "from transformers import AutoTokenizer, AutoModelForSeq2SeqLM\n",
        "\n",
        "tokenizer = AutoTokenizer.from_pretrained(\"google/roberta2roberta_L-24_bbc\")\n",
        "model = AutoModelForSeq2SeqLM.from_pretrained(\"google/roberta2roberta_L-24_bbc\")\n",
        "sents = []\n",
        "j = 0\n",
        "for i in indx:\n",
        "  input_ids = tokenizer(X_train[i], return_tensors=\"pt\").input_ids\n",
        "  output_ids = model.generate(input_ids)[0]\n",
        "  sents.append(tokenizer.decode(output_ids, skip_special_tokens=True))\n",
        "  print('The article is: {}\\nThe headline is: {}\\nThe generated summary is:'.format(X_train[i], y_train[i]),sents[j])\n",
        "  j+=1\n"
      ],
      "execution_count": null,
      "outputs": [
        {
          "output_type": "stream",
          "text": [
            "The article is: At least 19 people were killed in different incidents of lightning strikes in Uttar Pradesh and Bihar. The most severely hit was Bihar, where 16 people died and two were injured in seven districts due to the strikes. Meanwhile, the death toll in Assam rose to 26 after one more life was claimed by the floods.\n",
            "The headline is: Lightning kills 19 in UP, Bihar; 26 killed in Assam floods\n",
            "The generated summary is: More than 100 people have been killed and more than 100 others injured in floods and landslides in India and the northern states of Assam and Assam.\n",
            "The article is: A Kotak Mahindra Bank branch manager arrested on Wednesday, Ashish Kumar, took ?1.5 crore to convert ?35 crore demonetised currency of Delhi-based lawyer Rohit Tandon, said the Enforcement Directorate. The bank has suspended the services of the manager. Earlier in December, two people were arrested for opening fake accounts in the branch with unaccounted deposits totalling ?34 crore.\n",
            "The headline is: Kotak Mahindra Bank manager took ?1.5 cr to convert ?35 cr\n",
            "The generated summary is: A senior Indian bank manager has been arrested in connection with a multi - million pound fraud in Delhi.\n",
            "The article is: Union Minister Ravi Shankar Prasad on Friday said that though Muslims don't vote for the BJP, the BJP government has given them \"proper sanctity\". \"We have got 13 chief ministers of our own. We are ruling the country. Have we victimised any Muslim gentleman working in the industry or service? Have we dismissed them,\" he asked. \n",
            "The headline is: Muslims don't vote for us, but we gave them sanctity: Prasad\n",
            "The generated summary is: India's ruling Bharatiya Janata Party ( BJP ) has said that it has no problem with Muslims working in the state government.\n",
            "The article is: A 22-year-old man was arrested in west Delhi for allegedly raping his 17-year-old sister and molesting his 13-year-old sister, police said. Reportedly, the accused had been assaulting his sisters for the past one year and threatened to throw them out of the house if they complained. Their father passed away two years ago and their mother is suffering from cancer.\n",
            "The headline is: Man arrested for raping, molesting teenage sisters\n",
            "The generated summary is: Police in the Indian capital Delhi have arrested a man accused of raping two sisters.\n",
            "The article is: The Brihanmumbai Municipal Corporation (BMC) has issued a notice to NGO Praja Foundation for 'misrepresenting' data in a report stating that a third of the children in BMC schools are malnourished. Officials accused the NGO of not factoring in changes in the screening process for malnourishment. The civic body demanded a public apology and threatened legal action against the NGO.\n",
            "The headline is: BMC notice to NGO for report on malnutrition in schools\n",
            "The generated summary is: A civic organisation in the southern Indian city of Mumbai has been accused of spreading false news about the state of school malnutrition.\n",
            "The article is: Ex-England cricketer Geoffrey Boycott named his Dream XI cricket team which did not feature any of the Indian greats. Boycott said he did not pick Gavaskar in the side as batsmen from yesteryears like WG Grace and Jack Hobbs played under higher degree of challenges. \"The Dream XI selected by the ICC's online readers insults...achievements of the greats,\" added Boycott.\n",
            "The headline is: No Indians in Geoffrey Boycott's Dream XI\n",
            "The generated summary is: Former England batsman Varun Gavaskar has been criticised for not being the best cricketer in the history of the International Cricket Council ( ICC ).\n",
            "The article is: The Vishwa Hindu Parishad (VHP) has decided to recruit 5,000 'religious soldiers' in Uttar Pradesh's Aligarh district, to control cow smuggling and love jihad in the region. Only Bajrang Dal activists who have completed bravery training will be eligible for the post, recruitment for which will start in September. They will also protect \"Hindu boys and girls, maths and temples\".\n",
            "The headline is: VHP 'religious soldiers' to fight love jihad, cow smuggling\n",
            "The generated summary is: A Hindu nationalist group in India has announced plans to recruit 500 soldiers to fight against the so - called Islamic State ( IS ).\n",
            "The article is: As per a survey conducted by the World Water Council (WWC), 71% Indians believe the standard of drinking water in India has improved in the last five years. \"I think Mr Modi is very much concerned with water and sanitation issues. He has even appointed a special secretary to deal with the Ganga river cleanup,\" said WWC President Benedito Braga.n\n",
            "The headline is: Drinking water standards have improved in India: WWC\n",
            "The generated summary is: Prime Minister Narendra Modi has been praised for his efforts to improve water quality in India.\n",
            "The article is: The Bombay High Court on Tuesday slammed over 4,500 resident doctors in Maharashtra who had gone on mass leave since March 20 and asked them to join work or face action by the management. The HC was hearing a PIL filed against the strike wherein the advocate representing the petitioners claimed 58 people have died in Maharashtra since Monday.\n",
            "The headline is: Join work or face action: Bombay HC to protesting doctors\n",
            "The generated summary is: A week - long strike by doctors in the western Indian state of Maharashtra has ended.\n",
            "The article is: The new Nokia 3310 has a 2.4-inch colour screen unlike the original phone, which came with an 84x84 black and white display. The 2017 Nokia 3310's 1200mAh battery life is 10 times more than the original. The new model, which is slimmer and lighter than the original, has an updated version of the 'Snake' game, which was made by Gameloft.\n",
            "The headline is: How is the new Nokia 3310 different from its older version?\n",
            "The generated summary is: Nokia has revealed that its flagship mobile phone is back on sale in the UK and Ireland.\n"
          ],
          "name": "stdout"
        }
      ]
    },
    {
      "cell_type": "code",
      "metadata": {
        "colab": {
          "base_uri": "https://localhost:8080/"
        },
        "id": "GjcXHVzOmpnx",
        "outputId": "a2bba957-90c4-474f-abef-abf866f3f44c"
      },
      "source": [
        "print(X_train[indx[9]])"
      ],
      "execution_count": null,
      "outputs": [
        {
          "output_type": "stream",
          "text": [
            "The new Nokia 3310 has a 2.4-inch colour screen unlike the original phone, which came with an 84x84 black and white display. The 2017 Nokia 3310's 1200mAh battery life is 10 times more than the original. The new model, which is slimmer and lighter than the original, has an updated version of the 'Snake' game, which was made by Gameloft.\n"
          ],
          "name": "stdout"
        }
      ]
    },
    {
      "cell_type": "markdown",
      "metadata": {
        "id": "1BCDEHCMb0Xk"
      },
      "source": [
        "##Evaluation"
      ]
    },
    {
      "cell_type": "code",
      "metadata": {
        "id": "3RbpbXBPVUnw"
      },
      "source": [
        "from rouge import Rouge"
      ],
      "execution_count": null,
      "outputs": []
    },
    {
      "cell_type": "code",
      "metadata": {
        "colab": {
          "base_uri": "https://localhost:8080/"
        },
        "id": "U4-tjMLOXKB6",
        "outputId": "6055bce7-4c8e-4d66-b3cb-79b9a2714093"
      },
      "source": [
        "print('google/pegasus-xsum rouge-1 score')\n",
        "rouge_metric = Rouge()\n",
        "score = rouge_metric.get_scores(list(y_train[indx]), peg_sents, avg=True)\n",
        "rouge1 = score.get('rouge-1')\n",
        "print(rouge1)"
      ],
      "execution_count": null,
      "outputs": [
        {
          "output_type": "stream",
          "text": [
            "google/pegasus-xsum rouge-1 score\n",
            "{'f': 0.15234493824976872, 'p': 0.23641774891774894, 'r': 0.12066067483714545}\n"
          ],
          "name": "stdout"
        }
      ]
    },
    {
      "cell_type": "code",
      "metadata": {
        "colab": {
          "base_uri": "https://localhost:8080/"
        },
        "id": "mHOXV7GPXrIr",
        "outputId": "be9ab3e1-5d91-4f11-d005-66d8b362d092"
      },
      "source": [
        "print('facebook/bart-large-cnn rouge-1 score')\n",
        "rouge_metric = Rouge()\n",
        "score = rouge_metric.get_scores(list(y_train[indx]), smr_bart_sents , avg=True)\n",
        "rouge1 = score.get('rouge-1')\n",
        "print(rouge1)"
      ],
      "execution_count": null,
      "outputs": [
        {
          "output_type": "stream",
          "text": [
            "facebook/bart-large-cnn rouge-1 score\n",
            "{'f': 0.3421554529896391, 'p': 0.38953463203463207, 'r': 0.31358477307006716}\n"
          ],
          "name": "stdout"
        }
      ]
    },
    {
      "cell_type": "code",
      "metadata": {
        "colab": {
          "base_uri": "https://localhost:8080/"
        },
        "id": "sG75XtgZZHMP",
        "outputId": "af08510c-9f2c-4439-c89c-b9c115b6f15e"
      },
      "source": [
        "print('google/roberta2roberta_L-24_bbc rouge-1 score')\n",
        "rouge_metric = Rouge()\n",
        "score = rouge_metric.get_scores(list(y_train[indx]), sents, avg=True)\n",
        "rouge1 = score.get('rouge-1')\n",
        "print(rouge1)"
      ],
      "execution_count": null,
      "outputs": [
        {
          "output_type": "stream",
          "text": [
            "google/roberta2roberta_L-24_bbc rouge-1 score\n",
            "{'f': 0.1400761432407765, 'p': 0.2193217893217893, 'r': 0.10463552823066216}\n"
          ],
          "name": "stdout"
        }
      ]
    }
  ]
}