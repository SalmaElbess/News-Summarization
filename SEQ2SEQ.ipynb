{
  "nbformat": 4,
  "nbformat_minor": 0,
  "metadata": {
    "colab": {
      "name": "SEQ2SEQ.ipynb",
      "provenance": [],
      "collapsed_sections": [
        "5jeEaAMtKXwD"
      ]
    },
    "kernelspec": {
      "name": "python3",
      "display_name": "Python 3"
    },
    "language_info": {
      "name": "python"
    },
    "accelerator": "GPU"
  },
  "cells": [
    {
      "cell_type": "code",
      "metadata": {
        "id": "fjMid0NEDWc7"
      },
      "source": [
        "import pandas as pd\n",
        "from sklearn.model_selection import train_test_split\n",
        "from nltk.corpus import stopwords\n",
        "import nltk\n",
        "import numpy as np\n",
        "import re\n",
        "from keras.preprocessing.text import Tokenizer\n",
        "from tensorflow.keras.preprocessing.sequence import pad_sequences\n",
        "import matplotlib.pyplot as plt\n",
        "from tensorflow.keras.layers import Input, LSTM, Embedding, Dense, Concatenate, TimeDistributed\n",
        "from tensorflow.keras.models import Model\n",
        "from tensorflow.keras.callbacks import EarlyStopping\n",
        "from tensorflow.keras.optimizers import Adam\n",
        "#import transformers"
      ],
      "execution_count": null,
      "outputs": []
    },
    {
      "cell_type": "code",
      "metadata": {
        "colab": {
          "base_uri": "https://localhost:8080/"
        },
        "id": "v8zc5y8sCJnC",
        "outputId": "21dd1e10-9373-4556-b2a7-17b765d12677"
      },
      "source": [
        "nltk.download('punkt')\n",
        "nltk.download('stopwords')"
      ],
      "execution_count": null,
      "outputs": [
        {
          "output_type": "stream",
          "text": [
            "[nltk_data] Downloading package punkt to /root/nltk_data...\n",
            "[nltk_data]   Unzipping tokenizers/punkt.zip.\n",
            "[nltk_data] Downloading package stopwords to /root/nltk_data...\n",
            "[nltk_data]   Unzipping corpora/stopwords.zip.\n"
          ],
          "name": "stdout"
        },
        {
          "output_type": "execute_result",
          "data": {
            "text/plain": [
              "True"
            ]
          },
          "metadata": {
            "tags": []
          },
          "execution_count": 2
        }
      ]
    },
    {
      "cell_type": "markdown",
      "metadata": {
        "id": "vL7DF13QhZA9"
      },
      "source": [
        "Importing datasets"
      ]
    },
    {
      "cell_type": "code",
      "metadata": {
        "id": "shMSrnZIIDhI",
        "colab": {
          "base_uri": "https://localhost:8080/",
          "height": 35
        },
        "outputId": "7386c819-03e4-4701-ef8b-ddab6c34177b"
      },
      "source": [
        "# Import PyDrive and associated libraries.\n",
        "# This only needs to be done once per notebook.\n",
        "from pydrive.auth import GoogleAuth\n",
        "from pydrive.drive import GoogleDrive\n",
        "from google.colab import auth\n",
        "from oauth2client.client import GoogleCredentials\n",
        "\n",
        "# Authenticate and create the PyDrive client.\n",
        "# This only needs to be done once per notebook.\n",
        "auth.authenticate_user()\n",
        "gauth = GoogleAuth()\n",
        "gauth.credentials = GoogleCredentials.get_application_default()\n",
        "drive = GoogleDrive(gauth)\n",
        "\n",
        "# Download a file based on its file ID.\n",
        "#\n",
        "\n",
        "# A file ID looks like: laggVyWshwcyP6kEI-y_W3P8D26sz\n",
        "file_id = '1elNqcb5tW9snmf-xRfMK0AvLUfEcOhC1'\n",
        "downloaded = drive.CreateFile({'id': file_id})\n",
        "downloaded.GetContentFile('news_summary.csv')\n",
        "'''\n",
        "file_id = '1rAKmHTbGPOeuREC7Olk5oNHjNrdFHKkz'\n",
        "downloaded = drive.CreateFile({'id': file_id})\n",
        "downloaded.GetContentFile('news_summary_more.csv')\n",
        "'''"
      ],
      "execution_count": null,
      "outputs": [
        {
          "output_type": "execute_result",
          "data": {
            "application/vnd.google.colaboratory.intrinsic+json": {
              "type": "string"
            },
            "text/plain": [
              "\"\\nfile_id = '1rAKmHTbGPOeuREC7Olk5oNHjNrdFHKkz'\\ndownloaded = drive.CreateFile({'id': file_id})\\ndownloaded.GetContentFile('news_summary_more.csv')\\n\""
            ]
          },
          "metadata": {
            "tags": []
          },
          "execution_count": 3
        }
      ]
    },
    {
      "cell_type": "code",
      "metadata": {
        "id": "YJhwSyeIC9ud"
      },
      "source": [
        "data = pd.read_csv('news_summary.csv', encoding='latin-1') #check encodings types\n",
        "#more_data = pd.read_csv('news_summary_more.csv', encoding='latin-1')"
      ],
      "execution_count": null,
      "outputs": []
    },
    {
      "cell_type": "markdown",
      "metadata": {
        "id": "eWGlO_SasW6q"
      },
      "source": [
        "#Exploring the datasets"
      ]
    },
    {
      "cell_type": "markdown",
      "metadata": {
        "id": "RDu_47Eesb2E"
      },
      "source": [
        "## news_summary dataset\n"
      ]
    },
    {
      "cell_type": "code",
      "metadata": {
        "colab": {
          "base_uri": "https://localhost:8080/"
        },
        "id": "H2FiIOaHih6H",
        "outputId": "dcc4873e-0df8-4781-9d37-76612dd4d8fb"
      },
      "source": [
        "data.info()"
      ],
      "execution_count": null,
      "outputs": [
        {
          "output_type": "stream",
          "text": [
            "<class 'pandas.core.frame.DataFrame'>\n",
            "RangeIndex: 4514 entries, 0 to 4513\n",
            "Data columns (total 6 columns):\n",
            " #   Column     Non-Null Count  Dtype \n",
            "---  ------     --------------  ----- \n",
            " 0   author     4514 non-null   object\n",
            " 1   date       4514 non-null   object\n",
            " 2   headlines  4514 non-null   object\n",
            " 3   read_more  4514 non-null   object\n",
            " 4   text       4514 non-null   object\n",
            " 5   ctext      4396 non-null   object\n",
            "dtypes: object(6)\n",
            "memory usage: 211.7+ KB\n"
          ],
          "name": "stdout"
        }
      ]
    },
    {
      "cell_type": "markdown",
      "metadata": {
        "id": "kEdUyv0Vvr2V"
      },
      "source": [
        "Nan values is found in the complete text "
      ]
    },
    {
      "cell_type": "code",
      "metadata": {
        "colab": {
          "base_uri": "https://localhost:8080/",
          "height": 288
        },
        "id": "dCH9IBOSDbBg",
        "outputId": "1d2bb7b8-78d7-4517-ddfa-2f59abc2d473"
      },
      "source": [
        "data.head()"
      ],
      "execution_count": null,
      "outputs": [
        {
          "output_type": "execute_result",
          "data": {
            "text/html": [
              "<div>\n",
              "<style scoped>\n",
              "    .dataframe tbody tr th:only-of-type {\n",
              "        vertical-align: middle;\n",
              "    }\n",
              "\n",
              "    .dataframe tbody tr th {\n",
              "        vertical-align: top;\n",
              "    }\n",
              "\n",
              "    .dataframe thead th {\n",
              "        text-align: right;\n",
              "    }\n",
              "</style>\n",
              "<table border=\"1\" class=\"dataframe\">\n",
              "  <thead>\n",
              "    <tr style=\"text-align: right;\">\n",
              "      <th></th>\n",
              "      <th>author</th>\n",
              "      <th>date</th>\n",
              "      <th>headlines</th>\n",
              "      <th>read_more</th>\n",
              "      <th>text</th>\n",
              "      <th>ctext</th>\n",
              "    </tr>\n",
              "  </thead>\n",
              "  <tbody>\n",
              "    <tr>\n",
              "      <th>0</th>\n",
              "      <td>Chhavi Tyagi</td>\n",
              "      <td>03 Aug 2017,Thursday</td>\n",
              "      <td>Daman &amp; Diu revokes mandatory Rakshabandhan in...</td>\n",
              "      <td>http://www.hindustantimes.com/india-news/raksh...</td>\n",
              "      <td>The Administration of Union Territory Daman an...</td>\n",
              "      <td>The Daman and Diu administration on Wednesday ...</td>\n",
              "    </tr>\n",
              "    <tr>\n",
              "      <th>1</th>\n",
              "      <td>Daisy Mowke</td>\n",
              "      <td>03 Aug 2017,Thursday</td>\n",
              "      <td>Malaika slams user who trolled her for 'divorc...</td>\n",
              "      <td>http://www.hindustantimes.com/bollywood/malaik...</td>\n",
              "      <td>Malaika Arora slammed an Instagram user who tr...</td>\n",
              "      <td>From her special numbers to TV?appearances, Bo...</td>\n",
              "    </tr>\n",
              "    <tr>\n",
              "      <th>2</th>\n",
              "      <td>Arshiya Chopra</td>\n",
              "      <td>03 Aug 2017,Thursday</td>\n",
              "      <td>'Virgin' now corrected to 'Unmarried' in IGIMS...</td>\n",
              "      <td>http://www.hindustantimes.com/patna/bihar-igim...</td>\n",
              "      <td>The Indira Gandhi Institute of Medical Science...</td>\n",
              "      <td>The Indira Gandhi Institute of Medical Science...</td>\n",
              "    </tr>\n",
              "    <tr>\n",
              "      <th>3</th>\n",
              "      <td>Sumedha Sehra</td>\n",
              "      <td>03 Aug 2017,Thursday</td>\n",
              "      <td>Aaj aapne pakad liya: LeT man Dujana before be...</td>\n",
              "      <td>http://indiatoday.intoday.in/story/abu-dujana-...</td>\n",
              "      <td>Lashkar-e-Taiba's Kashmir commander Abu Dujana...</td>\n",
              "      <td>Lashkar-e-Taiba's Kashmir commander Abu Dujana...</td>\n",
              "    </tr>\n",
              "    <tr>\n",
              "      <th>4</th>\n",
              "      <td>Aarushi Maheshwari</td>\n",
              "      <td>03 Aug 2017,Thursday</td>\n",
              "      <td>Hotel staff to get training to spot signs of s...</td>\n",
              "      <td>http://indiatoday.intoday.in/story/sex-traffic...</td>\n",
              "      <td>Hotels in Maharashtra will train their staff t...</td>\n",
              "      <td>Hotels in Mumbai and other Indian cities are t...</td>\n",
              "    </tr>\n",
              "  </tbody>\n",
              "</table>\n",
              "</div>"
            ],
            "text/plain": [
              "               author  ...                                              ctext\n",
              "0        Chhavi Tyagi  ...  The Daman and Diu administration on Wednesday ...\n",
              "1         Daisy Mowke  ...  From her special numbers to TV?appearances, Bo...\n",
              "2      Arshiya Chopra  ...  The Indira Gandhi Institute of Medical Science...\n",
              "3       Sumedha Sehra  ...  Lashkar-e-Taiba's Kashmir commander Abu Dujana...\n",
              "4  Aarushi Maheshwari  ...  Hotels in Mumbai and other Indian cities are t...\n",
              "\n",
              "[5 rows x 6 columns]"
            ]
          },
          "metadata": {
            "tags": []
          },
          "execution_count": 7
        }
      ]
    },
    {
      "cell_type": "code",
      "metadata": {
        "colab": {
          "base_uri": "https://localhost:8080/"
        },
        "id": "1Tcsae0evIu9",
        "outputId": "8fd3aa00-1ede-4a97-a28f-2b42753cb7bd"
      },
      "source": [
        "duplicateRows1 = data[data.duplicated(subset=['ctext'])]\n",
        "print('complete text duplicates')\n",
        "print(duplicateRows1)"
      ],
      "execution_count": null,
      "outputs": [
        {
          "output_type": "stream",
          "text": [
            "complete text duplicates\n",
            "                  author  ...                                              ctext\n",
            "42          Chhavi Tyagi  ...  The Daman and Diu administration on Wednesday ...\n",
            "190         Chhavi Tyagi  ...  Charges and counter charges flew in the Lok Sa...\n",
            "231   Niharika Prabhakar  ...                                                NaN\n",
            "286        Saloni Tandon  ...                                                NaN\n",
            "368         Chhavi Tyagi  ...  Bihar chief minister Nitish Kumar comfortably ...\n",
            "...                  ...  ...                                                ...\n",
            "4381        Chhavi Tyagi  ...  Rounding off a day of hectic electioneering in...\n",
            "4423      Mansha Mahajan  ...                                                NaN\n",
            "4454     Abhishek Bansal  ...                                                NaN\n",
            "4500      Mansha Mahajan  ...                                                NaN\n",
            "4508        Tarun Khanna  ...                                                NaN\n",
            "\n",
            "[172 rows x 6 columns]\n"
          ],
          "name": "stdout"
        }
      ]
    },
    {
      "cell_type": "code",
      "metadata": {
        "colab": {
          "base_uri": "https://localhost:8080/"
        },
        "id": "VRUpYpkQwNPE",
        "outputId": "1351a56b-2aaa-4aa9-9d54-c66e1e1bfc82"
      },
      "source": [
        "print(str(data[4283:4284]['text']))\n",
        "print(str(data[4285:4286]['text']))"
      ],
      "execution_count": null,
      "outputs": [
        {
          "output_type": "stream",
          "text": [
            "4283    Elections in Goa ended up in a hung Assembly, ...\n",
            "Name: text, dtype: object\n",
            "4285    Uttar Pradesh Chief Minister Akhilesh Yadav on...\n",
            "Name: text, dtype: object\n"
          ],
          "name": "stdout"
        }
      ]
    },
    {
      "cell_type": "code",
      "metadata": {
        "colab": {
          "base_uri": "https://localhost:8080/"
        },
        "id": "ehZ_DoE1DA3K",
        "outputId": "1f6f992a-681c-457f-9a79-9daed9c679b7"
      },
      "source": [
        "X = selected_features['text'].values\n",
        "Y = selected_features['headlines'].values\n",
        "type(X)"
      ],
      "execution_count": null,
      "outputs": [
        {
          "output_type": "execute_result",
          "data": {
            "text/plain": [
              "numpy.ndarray"
            ]
          },
          "metadata": {
            "tags": []
          },
          "execution_count": 7
        }
      ]
    },
    {
      "cell_type": "code",
      "metadata": {
        "id": "_OkFu84cTMJR",
        "colab": {
          "base_uri": "https://localhost:8080/"
        },
        "outputId": "323a717e-827f-46f8-8f86-fd07fd269b7f"
      },
      "source": [
        "X_train, X_test, y_train, y_test = train_test_split(X,Y, test_size = 0.2)\n",
        "X_train.shape, X_test.shape"
      ],
      "execution_count": null,
      "outputs": [
        {
          "output_type": "execute_result",
          "data": {
            "text/plain": [
              "((3611,), (903,))"
            ]
          },
          "metadata": {
            "tags": []
          },
          "execution_count": 8
        }
      ]
    },
    {
      "cell_type": "markdown",
      "metadata": {
        "id": "hG2oLJlAJ3x7"
      },
      "source": [
        "# Abstractive Models"
      ]
    },
    {
      "cell_type": "markdown",
      "metadata": {
        "id": "QEIRPdyHxo2m"
      },
      "source": [
        "## SEQ 2 SEQ\n",
        "\n"
      ]
    },
    {
      "cell_type": "code",
      "metadata": {
        "id": "NG06UFiU--Tt"
      },
      "source": [
        "from keras.preprocessing.sequence import pad_sequences"
      ],
      "execution_count": null,
      "outputs": []
    },
    {
      "cell_type": "markdown",
      "metadata": {
        "id": "40P4ZdJWUMCt"
      },
      "source": [
        "The preprocessing stange of the raw text will include the first step:\n",
        "1. Removing new line or escape spaces and replacing them with a regular space\n",
        "2. Using the contraction mapping dictionary below to expand the contractions in text\n",
        "3. Removin s-apostrophe ''s' of ownership\n",
        "4. Removing any non alphanumeric character with removing commas in numbers and keeping decimal dots.\n",
        "5. Removing stop words\n",
        "\n",
        "\n",
        "---\n",
        "Our dataset has proven very clean with manual investigation that's why for summary data, the last three processing steps won't be used in order to get better results.\n",
        "In addition to that a start and end tokens are added in case of summary\n",
        "---\n"
      ]
    },
    {
      "cell_type": "code",
      "metadata": {
        "id": "YWklBKvMWh5M"
      },
      "source": [
        "contraction_mapping = {\"ain't\": \"is not\", \"aren't\": \"are not\",\"can't\": \"cannot\", \"'cause\": \"because\", \"could've\": \"could have\", \"couldn't\": \"could not\",\n",
        "\n",
        "                           \"didn't\": \"did not\", \"doesn't\": \"does not\", \"don't\": \"do not\", \"hadn't\": \"had not\", \"hasn't\": \"has not\", \"haven't\": \"have not\",\n",
        "\n",
        "                           \"he'd\": \"he would\",\"he'll\": \"he will\", \"he's\": \"he is\", \"how'd\": \"how did\", \"how'd'y\": \"how do you\", \"how'll\": \"how will\", \"how's\": \"how is\",\n",
        "\n",
        "                           \"I'd\": \"I would\", \"I'd've\": \"I would have\", \"I'll\": \"I will\", \"I'll've\": \"I will have\",\"I'm\": \"I am\", \"I've\": \"I have\", \"i'd\": \"i would\",\n",
        "\n",
        "                           \"i'd've\": \"i would have\", \"i'll\": \"i will\",  \"i'll've\": \"i will have\",\"i'm\": \"i am\", \"i've\": \"i have\", \"isn't\": \"is not\", \"it'd\": \"it would\",\n",
        "\n",
        "                           \"it'd've\": \"it would have\", \"it'll\": \"it will\", \"it'll've\": \"it will have\",\"it's\": \"it is\", \"let's\": \"let us\", \"ma'am\": \"madam\",\n",
        "\n",
        "                           \"mayn't\": \"may not\", \"might've\": \"might have\",\"mightn't\": \"might not\",\"mightn't've\": \"might not have\", \"must've\": \"must have\",\n",
        "\n",
        "                           \"mustn't\": \"must not\", \"mustn't've\": \"must not have\", \"needn't\": \"need not\", \"needn't've\": \"need not have\",\"o'clock\": \"of the clock\",\n",
        "\n",
        "                           \"oughtn't\": \"ought not\", \"oughtn't've\": \"ought not have\", \"shan't\": \"shall not\", \"sha'n't\": \"shall not\", \"shan't've\": \"shall not have\",\n",
        "\n",
        "                           \"she'd\": \"she would\", \"she'd've\": \"she would have\", \"she'll\": \"she will\", \"she'll've\": \"she will have\", \"she's\": \"she is\",\n",
        "\n",
        "                           \"should've\": \"should have\", \"shouldn't\": \"should not\", \"shouldn't've\": \"should not have\", \"so've\": \"so have\",\"so's\": \"so as\",\n",
        "\n",
        "                           \"this's\": \"this is\",\"that'd\": \"that would\", \"that'd've\": \"that would have\", \"that's\": \"that is\", \"there'd\": \"there would\",\n",
        "\n",
        "                           \"there'd've\": \"there would have\", \"there's\": \"there is\", \"here's\": \"here is\",\"they'd\": \"they would\", \"they'd've\": \"they would have\",\n",
        "\n",
        "                           \"they'll\": \"they will\", \"they'll've\": \"they will have\", \"they're\": \"they are\", \"they've\": \"they have\", \"to've\": \"to have\",\n",
        "\n",
        "                           \"wasn't\": \"was not\", \"we'd\": \"we would\", \"we'd've\": \"we would have\", \"we'll\": \"we will\", \"we'll've\": \"we will have\", \"we're\": \"we are\",\n",
        "\n",
        "                           \"we've\": \"we have\", \"weren't\": \"were not\", \"what'll\": \"what will\", \"what'll've\": \"what will have\", \"what're\": \"what are\",\n",
        "\n",
        "                           \"what's\": \"what is\", \"what've\": \"what have\", \"when's\": \"when is\", \"when've\": \"when have\", \"where'd\": \"where did\", \"where's\": \"where is\",\n",
        "\n",
        "                           \"where've\": \"where have\", \"who'll\": \"who will\", \"who'll've\": \"who will have\", \"who's\": \"who is\", \"who've\": \"who have\",\n",
        "\n",
        "                           \"why's\": \"why is\", \"why've\": \"why have\", \"will've\": \"will have\", \"won't\": \"will not\", \"won't've\": \"will not have\",\n",
        "\n",
        "                           \"would've\": \"would have\", \"wouldn't\": \"would not\", \"wouldn't've\": \"would not have\", \"y'all\": \"you all\",\n",
        "\n",
        "                           \"y'all'd\": \"you all would\",\"y'all'd've\": \"you all would have\",\"y'all're\": \"you all are\",\"y'all've\": \"you all have\",\n",
        "\n",
        "                           \"you'd\": \"you would\", \"you'd've\": \"you would have\", \"you'll\": \"you will\", \"you'll've\": \"you will have\",\n",
        "\n",
        "                           \"you're\": \"you are\", \"you've\": \"you have\"}"
      ],
      "execution_count": null,
      "outputs": []
    },
    {
      "cell_type": "code",
      "metadata": {
        "id": "g3PEgonX50Rh"
      },
      "source": [
        "def preprocess_text(textset):\n",
        "    '''\n",
        "    This function applies necessary preprocessing in order to produce synsets for the similarity functions\n",
        "    Inputs:\n",
        "        sentences [array or list containing the sentences]\n",
        "    Outputs:\n",
        "        processed tokens\n",
        "    '''\n",
        "    stop_words = set(stopwords.words('english'))\n",
        "    cleaned_text = []\n",
        "    for text in textset: \n",
        "        # Replacine Irregular Spaces with regular ones \n",
        "        new_text=re.sub(\"(\\\\t)\", ' ', text).lower()\n",
        "        new_text=re.sub(\"(\\\\r)\", ' ', new_text) \n",
        "        new_text=re.sub(\"(\\\\n)\", ' ', new_text)\n",
        "        # Contraction mapping\n",
        "        new_text = ' '.join([contraction_mapping[word] if word in contraction_mapping.keys() else word for word in new_text.split()])\n",
        "        # Removing 's\n",
        "        new_text = re.sub(r\"'s\\b|s'\\b\",\"\",new_text)\n",
        "        # Removing any non alphanumeric character\n",
        "        new_text = re.sub(\"[^a-zA-Z0-9\\ ]\", \"\", new_text)\n",
        "        # Removing Stop words\n",
        "        new_text = ' '.join([word for word in new_text.split() if word not in stop_words])\n",
        "        \n",
        "        cleaned_text.append(new_text)\n",
        "    return cleaned_text\n",
        "\n",
        "\n",
        "def preprocess_summary(summaryset):\n",
        "    '''\n",
        "    This function applies necessary preprocessing in order to produce synsets for the similarity functions\n",
        "    Inputs:\n",
        "        sentences [array or list containing the sentences]\n",
        "    Outputs:\n",
        "        processed tokens\n",
        "    '''\n",
        "    cleaned_summary = []\n",
        "    for summary in summaryset: \n",
        "        # Replacine Irregular Spaces with regular ones \n",
        "        new_text=re.sub(\"(\\\\t)\", ' ', summary).lower()\n",
        "        new_text=re.sub(\"(\\\\r)\", ' ', new_text) \n",
        "        new_text=re.sub(\"(\\\\n)\", ' ', new_text)\n",
        "        # Contraction mapping\n",
        "        new_text = ' '.join([contraction_mapping[word] if word in contraction_mapping.keys() else word for word in new_text.split()])\n",
        "        # Adding start and End token to signify beginning and end of summary\n",
        "        new_text = 'ssss ' + new_text + ' aaaa'\n",
        "        cleaned_summary.append(new_text)\n",
        "    return cleaned_summary"
      ],
      "execution_count": null,
      "outputs": []
    },
    {
      "cell_type": "code",
      "metadata": {
        "id": "hhVdIIMS8nlY"
      },
      "source": [
        "cleaned_text = preprocess_text(X_train)\n",
        "cleaned_summary = preprocess_summary(y_train)\n",
        "cleaned_text_test = preprocess_text(X_test)\n",
        "cleaned_summary_test = preprocess_summary(y_test)"
      ],
      "execution_count": null,
      "outputs": []
    },
    {
      "cell_type": "code",
      "metadata": {
        "id": "DWQ6V3dXC1DN",
        "colab": {
          "base_uri": "https://localhost:8080/"
        },
        "outputId": "ee9afdb3-5d5a-4511-e3cf-8c705e6be745"
      },
      "source": [
        "for i in range(20):\n",
        "    print('TEXT:\\n' + cleaned_text[i] )\n",
        "    print('HEADLINE:\\n' + cleaned_summary[i] + '\\n\\n')"
      ],
      "execution_count": null,
      "outputs": [
        {
          "output_type": "stream",
          "text": [
            "TEXT:\n",
            "kerala police monday questioned congress mla anwar sadath cpim mlaactor mukesh connection malayalam actress abduction case anwar asked connections actor dileep arrested last week charges criminal conspiracy mukesh questioned police pulsar suni prime accused driver year\n",
            "HEADLINE:\n",
            "ssss police question 2 mlas in malayalam actress abduction case aaaa\n",
            "\n",
            "\n",
            "TEXT:\n",
            "pm narendra modi friday said indian side fired single bullet last 40 years border dispute china however acknowledged border dispute china responding question asking whether discord due china one belt one road obor project\n",
            "HEADLINE:\n",
            "ssss not a single bullet fired in 40 years on china: modi aaaa\n",
            "\n",
            "\n",
            "TEXT:\n",
            "human resource development minister prakash javadekar monday announced soon give approval 20 worldclass research teaching institutions called indian institutes eminence adding approval given parliament monsoon session said acclaimed ranked among top 200 universities world\n",
            "HEADLINE:\n",
            "ssss india to get 20 'institutes of eminence' for research aaaa\n",
            "\n",
            "\n",
            "TEXT:\n",
            "actor hrithik roshan responding exwife sussanne khan praise recently released film kaabil said glad liked film opinion means world added earlier sussanne tweeted kaabil hearted performance history indian cinema proud hrithik\n",
            "HEADLINE:\n",
            "ssss i am so glad sussanne liked 'kaabil': hrithik aaaa\n",
            "\n",
            "\n",
            "TEXT:\n",
            "aap mla chandni chowk alka lamba accused bjp trying poach aap legislators offering tickets lok sabha elections coveted government posts bjp leader called cited example shazia ilmi exaap leader joined bjp saying earning 5 lakh getting government post alleged\n",
            "HEADLINE:\n",
            "ssss bjp trying to poach aap mlas: alka lamba aaaa\n",
            "\n",
            "\n",
            "TEXT:\n",
            "former indian air force chief sp tyagi cousin sanjeev tyagi lawyer gautam khaitan sent judicial custody till december 30 connection 3600 crore agustawestland vvip chopper scam three accused filed bail applications patiala house court heard court december 21\n",
            "HEADLINE:\n",
            "ssss ex-iaf chief sent to jail till dec 30 in vvip chopper scam aaaa\n",
            "\n",
            "\n",
            "TEXT:\n",
            "delhi police suspended head constable allegedly caught accepting unidentified object gang women pickpockets cctv delhi metro station gang later arrested complaint usbased woman reported theft jewellery valuables travelling metro\n",
            "HEADLINE:\n",
            "ssss constable suspended for allegedly helping women pickpockets aaaa\n",
            "\n",
            "\n",
            "TEXT:\n",
            "home ministry reportedly returned bill moved delhi government salary hike 400 mlas ministry sought clarifications regarding provisions included bill per reports mha said burden exchequer would commensurate revenues delhi government\n",
            "HEADLINE:\n",
            "ssss mha returns bill on 400% salary hike for delhi mlas: report aaaa\n",
            "\n",
            "\n",
            "TEXT:\n",
            "36yearold woman teenage daughter fell ill accidentally cooked ate baby snake along cabbage indore madhya pradesh snakes poison becomes dangerous mixes blood gets circulated monitor condition patients next couple days doctor treating motherdaughter duo said\n",
            "HEADLINE:\n",
            "ssss mother, daughter fall ill after eating snake with cabbage aaaa\n",
            "\n",
            "\n",
            "TEXT:\n",
            "filmmaker madhur bhandarkar said sad nobody film fraternity came support indu sarkar row madhur added filmmaker always stood film fraternitywhether regarding udta punjab ae dil hai mushkil film said angry see selective activism\n",
            "HEADLINE:\n",
            "ssss sad that b'wood did not support me: madhur on indu sarkar row aaaa\n",
            "\n",
            "\n",
            "TEXT:\n",
            "pink coproducer shoojit sircar talking film winning national film award best film social issues said still disturbs watch film celebrations added film introspect film celebrate film revolves around issue sexual harassment consent\n",
            "HEADLINE:\n",
            "ssss no celebrations for pink's national award win: shoojit aaaa\n",
            "\n",
            "\n",
            "TEXT:\n",
            "pictures showing shah rukh khan character upcoming film tubelight emerged online pictures posted fan club shah rukh cameo appearance srk tubelight reportedly plays role magician shown film trailer silhouette\n",
            "HEADLINE:\n",
            "ssss pictures of srk's character from tubelight emerge online aaaa\n",
            "\n",
            "\n",
            "TEXT:\n",
            "ghaziabad police booked 14 people including 3 congress workers resorting violence protests front ala hazrat haj house monday nearly 500 protesters pelted stones police protest demanding facility opened pilgrims immediately facility remained sealed since inauguration last year\n",
            "HEADLINE:\n",
            "ssss congress workers booked for violence at ghaziabad haj house aaaa\n",
            "\n",
            "\n",
            "TEXT:\n",
            "minister ravi shankar prasad said technology major google much indian company american manner country people accepted google much obligation india us world said google india needs tailor operations country psyche added\n",
            "HEADLINE:\n",
            "ssss google as much an indian company as american: it minister aaaa\n",
            "\n",
            "\n",
            "TEXT:\n",
            "mexican photographer sergio tapiro velasco captured explosion volcano lightning connecting ash cloud volcano surface 2015 named national geographic travel photographer year 2017 friction ash particles generated lightning bolt 600 metres long ash volcano velasco described\n",
            "HEADLINE:\n",
            "ssss erupting volcano with lightning wins photographer of year aaaa\n",
            "\n",
            "\n",
            "TEXT:\n",
            "addressing rally ahead bmc polls mns chief raj thackeray tuesday alleged shiv sena using founder balasaheb thackerays name hide corruption said sena wants usurp plush seafacing mayor bungalow name balasaheb memorial sena plan shift mayor inside zoo premises added\n",
            "HEADLINE:\n",
            "ssss shiv sena using balasaheb?s name to hide its corruption: raj aaaa\n",
            "\n",
            "\n",
            "TEXT:\n",
            "pakistani woman hijaab asif praised indian external affairs minister sushma swaraj latter directed indian high commission pakistan issue asif medical visa sushmaswaraj call superwoman god words describe generosity wrote tweet adding pakistan would changed prime minister\n",
            "HEADLINE:\n",
            "ssss 'what do i call you? god?' pak woman to swaraj after visa aaaa\n",
            "\n",
            "\n",
            "TEXT:\n",
            "srinivas kunchubhotla 32 indian engineer shot dead two others injured bar kansas city united states wednesday man opened fire allegedly shouting racial slurs 51yearold accused adam purinton arrested allegedly yelled get country firing\n",
            "HEADLINE:\n",
            "ssss indian shot dead in us over alleged racism aaaa\n",
            "\n",
            "\n",
            "TEXT:\n",
            "subdivisional magistrate usha chaturvedi listened 2012 delhi gang rape victim nirbhaya last declaration reportedly revealed wanted rapists set fire hanged supreme court may 5 upheld delhi high court decision award death penalty four convicts nirbhaya gang rape case\n",
            "HEADLINE:\n",
            "ssss nirbhaya wanted her rapists to be set on fire: report aaaa\n",
            "\n",
            "\n",
            "TEXT:\n",
            "us president donald trump used speech 19th national boy scouts jamboree west virginia attack fake media allegedly misquoting crowd size events trump also urged audience 12 18yearolds boo presidential rival hillary clinton predecessor barack obama trump slammed using traditional address political endorsements\n",
            "HEADLINE:\n",
            "ssss trump uses boy scouts' speech to attack 'fake media', obama aaaa\n",
            "\n",
            "\n"
          ],
          "name": "stdout"
        }
      ]
    },
    {
      "cell_type": "markdown",
      "metadata": {
        "id": "yZhWsgshkWI-"
      },
      "source": [
        "Using Keras Tokenizer to vectorize the data and generate our vocab"
      ]
    },
    {
      "cell_type": "code",
      "metadata": {
        "id": "w4B3xIEDjlEI"
      },
      "source": [
        "## Tokenizing, vectorizing\n",
        "text_tokenizer = Tokenizer()\n",
        "text_tokenizer.fit_on_texts(cleaned_text)\n",
        "x_train_seq = text_tokenizer.texts_to_sequences(cleaned_text)\n",
        "x_test_seq = text_tokenizer.texts_to_sequences(cleaned_text_test)\n",
        "\n",
        "## Tokenizing, vectorizing\n",
        "summary_tokenizer = Tokenizer()\n",
        "summary_tokenizer.fit_on_texts(list(cleaned_summary))\n",
        "y_train_seq = summary_tokenizer.texts_to_sequences(cleaned_summary)\n",
        "y_test_seq = summary_tokenizer.texts_to_sequences(cleaned_summary_test)"
      ],
      "execution_count": null,
      "outputs": []
    },
    {
      "cell_type": "markdown",
      "metadata": {
        "id": "xvtCakJtjmq7"
      },
      "source": [
        "Getting maximum length of train data text and summary to pad sequences according to them"
      ]
    },
    {
      "cell_type": "code",
      "metadata": {
        "colab": {
          "base_uri": "https://localhost:8080/"
        },
        "id": "1_FqNt1isvIY",
        "outputId": "d7e261b9-569d-4ae5-9029-a5dcdd47e8c3"
      },
      "source": [
        "max_t_len = [len(text) for text in x_train_seq]\n",
        "max_s_len =[len(summary) for summary in y_train_seq]\n",
        "max_t_len.sort()\n",
        "print(\"maximum text length is: {}\\nmaximum summary length is: {}\".format(max(max_t_len),max(max_s_len)))"
      ],
      "execution_count": null,
      "outputs": [
        {
          "output_type": "stream",
          "text": [
            "maximum text length is: 47\n",
            "maximum summary length is: 17\n"
          ],
          "name": "stdout"
        }
      ]
    },
    {
      "cell_type": "code",
      "metadata": {
        "colab": {
          "base_uri": "https://localhost:8080/",
          "height": 347
        },
        "id": "KYIQov2us87d",
        "outputId": "5bfc718a-86fe-4517-a2c5-7af85fd755c9"
      },
      "source": [
        "fig, axs = plt.subplots(1, 2, sharey=True, tight_layout=True)\n",
        "\n",
        "# We can set the number of bins with the `bins` kwarg\n",
        "axs[0].hist(max_t_len, bins=10)\n",
        "axs[1].hist(max_s_len, bins=5)"
      ],
      "execution_count": null,
      "outputs": [
        {
          "output_type": "execute_result",
          "data": {
            "text/plain": [
              "(array([  51.,  789., 1856.,  830.,   85.]),\n",
              " array([ 7.,  9., 11., 13., 15., 17.]),\n",
              " <a list of 5 Patch objects>)"
            ]
          },
          "metadata": {
            "tags": []
          },
          "execution_count": 16
        },
        {
          "output_type": "display_data",
          "data": {
            "image/png": "[encoded data removed]",
            "text/plain": [
              "<Figure size 432x288 with 2 Axes>"
            ]
          },
          "metadata": {
            "tags": [],
            "needs_background": "light"
          }
        }
      ]
    },
    {
      "cell_type": "code",
      "metadata": {
        "id": "w8LEsbc3tM7l"
      },
      "source": [
        "max_text_len = 47\n",
        "max_summary_len = 16"
      ],
      "execution_count": null,
      "outputs": []
    },
    {
      "cell_type": "code",
      "metadata": {
        "id": "d5CByo1NsryZ"
      },
      "source": [
        "# Padding text and vocab generation\n",
        "x_train_pad = pad_sequences(x_train_seq, maxlen=max_text_len, padding='post')\n",
        "x_test_pad = pad_sequences(x_test_seq, maxlen=max_text_len, padding='post')\n",
        "text_vocab = len(text_tokenizer.word_index) + 1\n",
        "\n",
        "# Padding summary and vocab generation\n",
        "y_train_pad = pad_sequences(y_train_seq, maxlen=max_summary_len, padding='post')\n",
        "y_test_pad = pad_sequences(y_test_seq, maxlen=max_summary_len, padding='post')\n",
        "summary_vocab = len(summary_tokenizer.word_index) + 1"
      ],
      "execution_count": null,
      "outputs": []
    },
    {
      "cell_type": "code",
      "metadata": {
        "colab": {
          "base_uri": "https://localhost:8080/"
        },
        "id": "KXDnKnWsmscw",
        "outputId": "6ebec473-0490-4b25-9eee-b5d08590ec01"
      },
      "source": [
        "for i in range(0,10):\n",
        "    print('TEXT VECTOR:\\n{}'.format(x_train_pad[i]) )\n",
        "    print('HEADLINE VECTOR:\\n{}\\n\\n',format(y_train_pad[i]))"
      ],
      "execution_count": null,
      "outputs": [
        {
          "output_type": "stream",
          "text": [
            "TEXT VECTOR:\n",
            "[  460     6    48  1065    42   447  7286 10274  3092 10275  3491   842\n",
            "  1581    54  2273    58  7286    51  4696    28  2274    62    35   227\n",
            "   405   927  2275  3491  1065     6  5662  4697   110    41   471    25\n",
            "     0     0     0     0     0     0     0     0     0     0     0]\n",
            "HEADLINE VECTOR:\n",
            "{}\n",
            "\n",
            " [   1   39 1336   32  261    4  756  197  905   49    2    0    0    0\n",
            "    0    0]\n",
            "TEXT VECTOR:\n",
            "[   66    72    29    57     1    11   605  1492   778  2756    35   928\n",
            "    27   280  2502   100    70  4698   280  2502   100  1402  1019   415\n",
            "   472 10276    91   100    19  7287    19   349 10277   371     0     0\n",
            "     0     0     0     0     0     0     0     0     0     0     0]\n",
            "HEADLINE VECTOR:\n",
            "{}\n",
            "\n",
            " [   1    9   12  757 1337  652    4  504   82    7   72   34    2    0\n",
            "    0    0]\n",
            "TEXT VECTOR:\n",
            "[  461  5663   416     9  1925  2276    48    92   525   274  1194   248\n",
            "  4699  1020  3492  2277    96    11  4700 10278   293  1194   153   426\n",
            "  2503   809     1 10279  1403   174   385   929  4017    34     0     0\n",
            "     0     0     0     0     0     0     0     0     0     0     0]\n",
            "HEADLINE VECTOR:\n",
            "{}\n",
            "\n",
            " [   1   14    3   61  230 3746    6 3747    5 2382    2    0    0    0\n",
            "    0    0]\n",
            "TEXT VECTOR:\n",
            "[   28  1798  1926  1402  7288  4701    49  5664   168   261    10  2278\n",
            "     1  7289  4702    10  1927  1928    34     3    36  4701   225  2278\n",
            " 10280   843   626    11  1679  1799  1798     0     0     0     0     0\n",
            "     0     0     0     0     0     0     0     0     0     0     0]\n",
            "HEADLINE VECTOR:\n",
            "{}\n",
            "\n",
            " [   1   24  198 1338 3748 3749 2383 1712  758    2    0    0    0    0\n",
            "    0    0]\n",
            "TEXT VECTOR:\n",
            "[  126   447  3493  1929 10281  7290    41    23   372 10282   126  1800\n",
            "  1801   930   627   294   241 10283     7   931    23    64    96  3494\n",
            "  3093  7291  5665 10284    64   582    23   118  7292   286    26   462\n",
            "     7   151    76     0     0     0     0     0     0     0     0]\n",
            "HEADLINE VECTOR:\n",
            "{}\n",
            "\n",
            " [   1   27  906    3 3750   69  261 3751 3752    2    0    0    0    0\n",
            "    0    0]\n",
            "TEXT VECTOR:\n",
            "[   31    11    83   262    22  1327  5666  7293  4018  5666  1493  1582\n",
            " 10285   540  1680  1066   417   373   275   842  5667    15 10286  4019\n",
            "  4020   932    46    41   146  1328  2504  4703    86    13  1270    13\n",
            "   373   881     0     0     0     0     0     0     0     0     0]\n",
            "HEADLINE VECTOR:\n",
            "{}\n",
            "\n",
            " [   1  101  505   94 1713    3  105  415 1071  231    4 2384 1339  567\n",
            "    2    0]\n",
            "TEXT VECTOR:\n",
            "[   4    6  810  320 1930   40  583 2757 1802 4704  779   45 5668 1195\n",
            "    4  197  222  779  158   62  306 1583   59  321 1931 1681 3495  882\n",
            "  197    0    0    0    0    0    0    0    0    0    0    0    0    0\n",
            "    0    0    0    0    0]\n",
            "HEADLINE VECTOR:\n",
            "{}\n",
            "\n",
            " [   1 1714  759    5 1715 3753   66 2385    2    0    0    0    0    0\n",
            "    0    0]\n",
            "TEXT VECTOR:\n",
            "[  138   217     8  1196   427  1197     4     7  1021  2758  1584   482\n",
            "   217   448  5669  1198  3496  1585   427    77    17  5670     1  2759\n",
            " 10287    20 10288  5671     4     7     0     0     0     0     0     0\n",
            "     0     0     0     0     0     0     0     0     0     0     0]\n",
            "HEADLINE VECTOR:\n",
            "{}\n",
            "\n",
            " [   1 3754  653  284    7 1716  347 1340    5    8  261   31    2    0\n",
            "    0    0]\n",
            "TEXT VECTOR:\n",
            "[ 4021    59  2760   235   692  3497  4022  5672  5673   883  1682   188\n",
            " 10289  2761   501    53  5674  4705  3094  4023 10290  1329  1271  4706\n",
            "  3095  1330  1272   134   606   107  1273  7294 10291  1331     1     0\n",
            "     0     0     0     0     0     0     0     0     0     0     0]\n",
            "HEADLINE VECTOR:\n",
            "{}\n",
            "\n",
            " [   1  416  172 1717 2386   13 2387  907   11 3755    2    0    0    0\n",
            "    0    0]\n",
            "TEXT VECTOR:\n",
            "[  406  3498  4024     1  3096  2092    10  7295   175   299  2505  1803\n",
            "  4707  3498     3   406   933  1683    10 10292  1198  4708   255 10293\n",
            "  4709  1128 10294    10     1  2506   436 10295  7296     0     0     0\n",
            "     0     0     0     0     0     0     0     0     0     0     0]\n",
            "HEADLINE VECTOR:\n",
            "{}\n",
            "\n",
            " [   1 1718  199  654  160    9  417   78 1719    7 1341 1342  382    2\n",
            "    0    0]\n"
          ],
          "name": "stdout"
        }
      ]
    },
    {
      "cell_type": "code",
      "metadata": {
        "id": "KcUOTnJip0w2"
      },
      "source": [
        "x_train,Y_train= (np.array(x_train_pad),np.array(y_train_pad))"
      ],
      "execution_count": null,
      "outputs": []
    },
    {
      "cell_type": "markdown",
      "metadata": {
        "id": "l2PEXnNwpxFQ"
      },
      "source": [
        "#### The Creation of the model"
      ]
    },
    {
      "cell_type": "code",
      "metadata": {
        "id": "5jfWCHJKxspo"
      },
      "source": [
        "latent_dim = 300\n",
        "embedding_dim= 200"
      ],
      "execution_count": null,
      "outputs": []
    },
    {
      "cell_type": "code",
      "metadata": {
        "colab": {
          "base_uri": "https://localhost:8080/"
        },
        "id": "pmcFKAQfxCA7",
        "outputId": "c68d7995-5865-433d-85fa-31db17c0271c"
      },
      "source": [
        "# Encoder\n",
        "encoder_inputs = Input(shape=(max_text_len,), name = 'encoder_imputs')\n",
        "\n",
        "#embedding layer\n",
        "enc_emb =  Embedding(text_vocab, embedding_dim,trainable=True, name = 'enc_emb')(encoder_inputs)\n",
        "\n",
        "### 2 LSTM layers for encode\n",
        "\n",
        "#encoder lstm 1\n",
        "encoder_lstm1 = LSTM(latent_dim,return_sequences=True,return_state=True,dropout=0.4,recurrent_dropout=0.4, name = 'encoder_lstm1')\n",
        "encoder_output1, state_h1, state_c1 = encoder_lstm1(enc_emb)\n",
        "\n",
        "#encoder lstm 2\n",
        "encoder_lstm2 = LSTM(latent_dim,return_sequences=True,return_state=True,dropout=0.4,recurrent_dropout=0.4, name= 'encoder_lstm2')\n",
        "encoder_output2, state_h2, state_c2 = encoder_lstm2(encoder_output1)\n",
        "\n",
        "#encoder lstm 3\n",
        "encoder_lstm3=LSTM(latent_dim, return_state=True, return_sequences=True,dropout=0.4,recurrent_dropout=0.4, name= 'encoder_lstm3')\n",
        "encoder_output, state_h, state_c= encoder_lstm3(encoder_output2)\n",
        "\n",
        "### Decoder\n",
        "\n",
        "# using `encoder_states` as initial state.\n",
        "decoder_inputs = Input(shape=(None,), name= 'decoder_inputs')\n",
        "\n",
        "#embedding layer\n",
        "dec_emb_layer = Embedding(summary_vocab, embedding_dim,trainable=True, name= 'dec_emb_layer')\n",
        "dec_emb = dec_emb_layer(decoder_inputs)\n",
        "\n",
        "decoder_lstm = LSTM(latent_dim, return_sequences=True, return_state=True,dropout=0.4,recurrent_dropout=0.2, name='decoder_lstm')\n",
        "decoder_outputs, decoder_fwd_state, decoder_back_state = decoder_lstm(dec_emb,initial_state=[state_h, state_c])\n",
        "\n",
        "#dense layer\n",
        "decoder_dense =  TimeDistributed(Dense(summary_vocab, activation='softmax'), name= 'decoder_dense')\n",
        "decoder_outputs = decoder_dense(decoder_outputs)\n",
        "\n",
        "# Define the model \n",
        "model = Model([encoder_inputs, decoder_inputs], decoder_outputs)\n",
        "\n",
        "model.summary()"
      ],
      "execution_count": null,
      "outputs": [
        {
          "output_type": "stream",
          "text": [
            "WARNING:tensorflow:Layer encoder_lstm1 will not use cuDNN kernels since it doesn't meet the criteria. It will use a generic GPU kernel as fallback when running on GPU.\n",
            "WARNING:tensorflow:Layer encoder_lstm2 will not use cuDNN kernels since it doesn't meet the criteria. It will use a generic GPU kernel as fallback when running on GPU.\n",
            "WARNING:tensorflow:Layer encoder_lstm3 will not use cuDNN kernels since it doesn't meet the criteria. It will use a generic GPU kernel as fallback when running on GPU.\n",
            "WARNING:tensorflow:Layer decoder_lstm will not use cuDNN kernels since it doesn't meet the criteria. It will use a generic GPU kernel as fallback when running on GPU.\n",
            "Model: \"model\"\n",
            "__________________________________________________________________________________________________\n",
            "Layer (type)                    Output Shape         Param #     Connected to                     \n",
            "==================================================================================================\n",
            "encoder_imputs (InputLayer)     [(None, 47)]         0                                            \n",
            "__________________________________________________________________________________________________\n",
            "enc_emb (Embedding)             (None, 47, 200)      3842800     encoder_imputs[0][0]             \n",
            "__________________________________________________________________________________________________\n",
            "encoder_lstm1 (LSTM)            [(None, 47, 300), (N 601200      enc_emb[0][0]                    \n",
            "__________________________________________________________________________________________________\n",
            "decoder_inputs (InputLayer)     [(None, None)]       0                                            \n",
            "__________________________________________________________________________________________________\n",
            "encoder_lstm2 (LSTM)            [(None, 47, 300), (N 721200      encoder_lstm1[0][0]              \n",
            "__________________________________________________________________________________________________\n",
            "dec_emb_layer (Embedding)       (None, None, 200)    1657000     decoder_inputs[0][0]             \n",
            "__________________________________________________________________________________________________\n",
            "encoder_lstm3 (LSTM)            [(None, 47, 300), (N 721200      encoder_lstm2[0][0]              \n",
            "__________________________________________________________________________________________________\n",
            "decoder_lstm (LSTM)             [(None, None, 300),  601200      dec_emb_layer[0][0]              \n",
            "                                                                 encoder_lstm3[0][1]              \n",
            "                                                                 encoder_lstm3[0][2]              \n",
            "__________________________________________________________________________________________________\n",
            "decoder_dense (TimeDistributed) (None, None, 8285)   2493785     decoder_lstm[0][0]               \n",
            "==================================================================================================\n",
            "Total params: 10,638,385\n",
            "Trainable params: 10,638,385\n",
            "Non-trainable params: 0\n",
            "__________________________________________________________________________________________________\n"
          ],
          "name": "stdout"
        }
      ]
    },
    {
      "cell_type": "code",
      "metadata": {
        "colab": {
          "base_uri": "https://localhost:8080/",
          "height": 754
        },
        "id": "rRBkVrrQgeLR",
        "outputId": "c9ecdab4-280d-4628-8aed-63f2ad74dc0d"
      },
      "source": [
        "from tensorflow.keras.utils import plot_model\n",
        "plot_model(model, to_file='model_plot4a.png', show_shapes=True, show_layer_names=True)"
      ],
      "execution_count": null,
      "outputs": [
        {
          "output_type": "execute_result",
          "data": {
            "image/png": "[encoded data removed]",
            "text/plain": [
              "<IPython.core.display.Image object>"
            ]
          },
          "metadata": {
            "tags": []
          },
          "execution_count": 24
        }
      ]
    },
    {
      "cell_type": "code",
      "metadata": {
        "id": "t7a0yAt50DPl"
      },
      "source": [
        "lr = 0.001\n",
        "model.compile(optimizer = Adam(learning_rate = lr), loss='sparse_categorical_crossentropy')\n",
        "es = EarlyStopping(monitor='val_loss', mode='min', verbose=1,patience=5)"
      ],
      "execution_count": null,
      "outputs": []
    },
    {
      "cell_type": "code",
      "metadata": {
        "colab": {
          "base_uri": "https://localhost:8080/"
        },
        "id": "6jh_V5sR0P9Y",
        "outputId": "ecb78c4c-f1a8-413a-a60e-9a311a5ece68"
      },
      "source": [
        "history=model.fit([x_train,Y_train[:,:-1]], Y_train.reshape(Y_train.shape[0],Y_train.shape[1], 1)[:,1:] ,epochs=10,batch_size=20)"
      ],
      "execution_count": null,
      "outputs": [
        {
          "output_type": "stream",
          "text": [
            "Epoch 1/10\n",
            "181/181 [==============================] - 112s 576ms/step - loss: 3.4748\n",
            "Epoch 2/10\n",
            "181/181 [==============================] - 104s 577ms/step - loss: 3.1785\n",
            "Epoch 3/10\n",
            "181/181 [==============================] - 105s 578ms/step - loss: 2.9871\n",
            "Epoch 4/10\n",
            "181/181 [==============================] - 104s 574ms/step - loss: 2.8125\n",
            "Epoch 5/10\n",
            "181/181 [==============================] - 103s 569ms/step - loss: 2.6569\n",
            "Epoch 6/10\n",
            "181/181 [==============================] - 103s 570ms/step - loss: 2.5095\n",
            "Epoch 7/10\n",
            "181/181 [==============================] - 105s 579ms/step - loss: 2.3755\n",
            "Epoch 8/10\n",
            "181/181 [==============================] - 103s 570ms/step - loss: 2.2572\n",
            "Epoch 9/10\n",
            "181/181 [==============================] - 103s 571ms/step - loss: 2.1518\n",
            "Epoch 10/10\n",
            "181/181 [==============================] - 103s 571ms/step - loss: 2.0497\n"
          ],
          "name": "stdout"
        }
      ]
    },
    {
      "cell_type": "code",
      "metadata": {
        "colab": {
          "base_uri": "https://localhost:8080/"
        },
        "id": "SbpMXkAGTON6",
        "outputId": "ac6a661f-ed65-4329-c4fa-249cb5693e92"
      },
      "source": [
        "history=model.fit([x_train,Y_train[:,:-1]], Y_train.reshape(Y_train.shape[0],Y_train.shape[1], 1)[:,1:] ,epochs=10,batch_size=64)"
      ],
      "execution_count": null,
      "outputs": [
        {
          "output_type": "stream",
          "text": [
            "Epoch 1/10\n",
            "57/57 [==============================] - 36s 626ms/step - loss: 1.2192\n",
            "Epoch 2/10\n",
            "57/57 [==============================] - 36s 627ms/step - loss: 1.1950\n",
            "Epoch 3/10\n",
            "57/57 [==============================] - 36s 629ms/step - loss: 1.1708\n",
            "Epoch 4/10\n",
            "57/57 [==============================] - 36s 625ms/step - loss: 1.1562\n",
            "Epoch 5/10\n",
            "57/57 [==============================] - 36s 631ms/step - loss: 1.1405\n",
            "Epoch 6/10\n",
            "57/57 [==============================] - 36s 624ms/step - loss: 1.1245\n",
            "Epoch 7/10\n",
            "57/57 [==============================] - 36s 624ms/step - loss: 1.1109\n",
            "Epoch 8/10\n",
            "57/57 [==============================] - 35s 620ms/step - loss: 1.0982\n",
            "Epoch 9/10\n",
            "57/57 [==============================] - 36s 624ms/step - loss: 1.0837\n",
            "Epoch 10/10\n",
            "57/57 [==============================] - 35s 619ms/step - loss: 1.0703\n"
          ],
          "name": "stdout"
        }
      ]
    },
    {
      "cell_type": "code",
      "metadata": {
        "colab": {
          "base_uri": "https://localhost:8080/"
        },
        "id": "V8wsKcMzUV4z",
        "outputId": "6e0f5993-5fa2-48fd-f1ef-7ebced1bea75"
      },
      "source": [
        "history=model.fit([x_train,Y_train[:,:-1]], Y_train.reshape(Y_train.shape[0],Y_train.shape[1], 1)[:,1:] ,epochs=10,batch_size=20)"
      ],
      "execution_count": null,
      "outputs": [
        {
          "output_type": "stream",
          "text": [
            "Epoch 1/10\n",
            "181/181 [==============================] - 104s 574ms/step - loss: 1.1351\n",
            "Epoch 2/10\n",
            "181/181 [==============================] - 104s 573ms/step - loss: 1.1132\n",
            "Epoch 3/10\n",
            "181/181 [==============================] - 103s 569ms/step - loss: 1.0753\n",
            "Epoch 4/10\n",
            "181/181 [==============================] - 103s 568ms/step - loss: 1.0364\n",
            "Epoch 5/10\n",
            "181/181 [==============================] - 104s 572ms/step - loss: 1.0041\n",
            "Epoch 6/10\n",
            "181/181 [==============================] - 103s 570ms/step - loss: 0.9749\n",
            "Epoch 7/10\n",
            "181/181 [==============================] - 104s 577ms/step - loss: 0.9456\n",
            "Epoch 8/10\n",
            "181/181 [==============================] - 105s 578ms/step - loss: 0.9164\n",
            "Epoch 9/10\n",
            "181/181 [==============================] - 104s 575ms/step - loss: 0.8921\n",
            "Epoch 10/10\n",
            "181/181 [==============================] - 104s 574ms/step - loss: 0.8631\n"
          ],
          "name": "stdout"
        }
      ]
    },
    {
      "cell_type": "code",
      "metadata": {
        "colab": {
          "base_uri": "https://localhost:8080/"
        },
        "id": "dzNBuH66adhv",
        "outputId": "d502759b-ef49-4f8a-910d-b9e8c35d78bc"
      },
      "source": [
        "EPOCHS = 40\n",
        "history=model.fit([x_train,Y_train[:,:-1]], Y_train.reshape(Y_train.shape[0],Y_train.shape[1], 1)[:,1:] ,\n",
        "                  epochs=EPOCHS,batch_size=128, validation_data=([x_valid,Y_valid[:,:-1]],\n",
        "                  Y_valid.reshape(Y_valid.shape[0],Y_valid.shape[1], 1)[:,1:]))"
      ],
      "execution_count": null,
      "outputs": [
        {
          "output_type": "stream",
          "text": [
            "Epoch 1/40\n",
            "23/23 [==============================] - 16s 684ms/step - loss: 2.6085 - val_loss: 5.9697\n",
            "Epoch 2/40\n",
            "23/23 [==============================] - 16s 679ms/step - loss: 2.5742 - val_loss: 5.9743\n",
            "Epoch 3/40\n",
            "23/23 [==============================] - 16s 687ms/step - loss: 2.5427 - val_loss: 5.9920\n",
            "Epoch 4/40\n",
            "23/23 [==============================] - 16s 682ms/step - loss: 2.5087 - val_loss: 6.0013\n",
            "Epoch 5/40\n",
            "23/23 [==============================] - 16s 685ms/step - loss: 2.4755 - val_loss: 6.0096\n",
            "Epoch 6/40\n",
            "23/23 [==============================] - 15s 666ms/step - loss: 2.4447 - val_loss: 6.0212\n",
            "Epoch 7/40\n",
            "23/23 [==============================] - 16s 681ms/step - loss: 2.4108 - val_loss: 6.0328\n",
            "Epoch 8/40\n",
            "23/23 [==============================] - 16s 690ms/step - loss: 2.3790 - val_loss: 6.0437\n",
            "Epoch 9/40\n",
            "23/23 [==============================] - 16s 690ms/step - loss: 2.3509 - val_loss: 6.0507\n",
            "Epoch 10/40\n",
            "23/23 [==============================] - 16s 676ms/step - loss: 2.3193 - val_loss: 6.0685\n",
            "Epoch 11/40\n",
            "23/23 [==============================] - 16s 688ms/step - loss: 2.2907 - val_loss: 6.0722\n",
            "Epoch 12/40\n",
            "23/23 [==============================] - 15s 672ms/step - loss: 2.2608 - val_loss: 6.0824\n",
            "Epoch 13/40\n",
            "23/23 [==============================] - 16s 684ms/step - loss: 2.2299 - val_loss: 6.0964\n",
            "Epoch 14/40\n",
            "23/23 [==============================] - 16s 688ms/step - loss: 2.2004 - val_loss: 6.1106\n",
            "Epoch 15/40\n",
            "23/23 [==============================] - 16s 680ms/step - loss: 2.1709 - val_loss: 6.1166\n",
            "Epoch 16/40\n",
            "23/23 [==============================] - 16s 679ms/step - loss: 2.1446 - val_loss: 6.1256\n",
            "Epoch 17/40\n",
            "23/23 [==============================] - 16s 679ms/step - loss: 2.1135 - val_loss: 6.1354\n",
            "Epoch 18/40\n",
            "23/23 [==============================] - 16s 675ms/step - loss: 2.0880 - val_loss: 6.1444\n",
            "Epoch 19/40\n",
            "23/23 [==============================] - 16s 688ms/step - loss: 2.0604 - val_loss: 6.1560\n",
            "Epoch 20/40\n",
            "23/23 [==============================] - 16s 678ms/step - loss: 2.0368 - val_loss: 6.1652\n",
            "Epoch 21/40\n",
            "23/23 [==============================] - 15s 672ms/step - loss: 2.0100 - val_loss: 6.1731\n",
            "Epoch 22/40\n",
            "23/23 [==============================] - 15s 673ms/step - loss: 1.9824 - val_loss: 6.1829\n",
            "Epoch 23/40\n",
            "23/23 [==============================] - 15s 665ms/step - loss: 1.9557 - val_loss: 6.1949\n",
            "Epoch 24/40\n",
            "23/23 [==============================] - 16s 681ms/step - loss: 1.9329 - val_loss: 6.2055\n",
            "Epoch 25/40\n",
            "23/23 [==============================] - 15s 664ms/step - loss: 1.9063 - val_loss: 6.2162\n",
            "Epoch 26/40\n",
            "23/23 [==============================] - 15s 672ms/step - loss: 1.8863 - val_loss: 6.2189\n",
            "Epoch 27/40\n",
            "23/23 [==============================] - 16s 677ms/step - loss: 1.8593 - val_loss: 6.2267\n",
            "Epoch 28/40\n",
            "23/23 [==============================] - 16s 679ms/step - loss: 1.8370 - val_loss: 6.2406\n",
            "Epoch 29/40\n",
            "23/23 [==============================] - 16s 678ms/step - loss: 1.8164 - val_loss: 6.2452\n",
            "Epoch 30/40\n",
            "23/23 [==============================] - 15s 670ms/step - loss: 1.7898 - val_loss: 6.2571\n",
            "Epoch 31/40\n",
            "23/23 [==============================] - 15s 666ms/step - loss: 1.7679 - val_loss: 6.2610\n",
            "Epoch 32/40\n",
            "23/23 [==============================] - 15s 664ms/step - loss: 1.7493 - val_loss: 6.2616\n",
            "Epoch 33/40\n",
            "23/23 [==============================] - 15s 665ms/step - loss: 1.7248 - val_loss: 6.2710\n",
            "Epoch 34/40\n",
            "23/23 [==============================] - 15s 672ms/step - loss: 1.7022 - val_loss: 6.2805\n",
            "Epoch 35/40\n",
            "23/23 [==============================] - 15s 669ms/step - loss: 1.6845 - val_loss: 6.2849\n",
            "Epoch 36/40\n",
            "23/23 [==============================] - 15s 665ms/step - loss: 1.6695 - val_loss: 6.2982\n",
            "Epoch 37/40\n",
            "23/23 [==============================] - 15s 659ms/step - loss: 1.6453 - val_loss: 6.3087\n",
            "Epoch 38/40\n",
            "23/23 [==============================] - 15s 664ms/step - loss: 1.6252 - val_loss: 6.3188\n",
            "Epoch 39/40\n",
            "23/23 [==============================] - 15s 673ms/step - loss: 1.6024 - val_loss: 6.3277\n",
            "Epoch 40/40\n",
            "23/23 [==============================] - 15s 668ms/step - loss: 1.5820 - val_loss: 6.3330\n"
          ],
          "name": "stdout"
        }
      ]
    },
    {
      "cell_type": "code",
      "metadata": {
        "colab": {
          "base_uri": "https://localhost:8080/"
        },
        "id": "2QefGKzyikjk",
        "outputId": "51e5e9a0-0b90-43f2-d61c-c8235cc721ff"
      },
      "source": [
        "EPOCHS = 70\n",
        "history=model.fit([x_train,Y_train[:,:-1]], Y_train.reshape(Y_train.shape[0],Y_train.shape[1], 1)[:,1:] ,\n",
        "                  epochs=EPOCHS,batch_size=128, validation_data=([x_valid,Y_valid[:,:-1]],\n",
        "                  Y_valid.reshape(Y_valid.shape[0],Y_valid.shape[1], 1)[:,1:]))"
      ],
      "execution_count": null,
      "outputs": [
        {
          "output_type": "stream",
          "text": [
            "Epoch 1/70\n",
            "23/23 [==============================] - 16s 682ms/step - loss: 1.2451 - val_loss: 6.4856\n",
            "Epoch 2/70\n",
            "23/23 [==============================] - 16s 682ms/step - loss: 1.2317 - val_loss: 6.4891\n",
            "Epoch 3/70\n",
            "23/23 [==============================] - 15s 673ms/step - loss: 1.2175 - val_loss: 6.4963\n",
            "Epoch 4/70\n",
            "23/23 [==============================] - 16s 677ms/step - loss: 1.2074 - val_loss: 6.5044\n",
            "Epoch 5/70\n",
            "23/23 [==============================] - 16s 682ms/step - loss: 1.1949 - val_loss: 6.5155\n",
            "Epoch 6/70\n",
            "23/23 [==============================] - 16s 679ms/step - loss: 1.1815 - val_loss: 6.5194\n",
            "Epoch 7/70\n",
            "23/23 [==============================] - 15s 674ms/step - loss: 1.1684 - val_loss: 6.5233\n",
            "Epoch 8/70\n",
            "23/23 [==============================] - 15s 671ms/step - loss: 1.1589 - val_loss: 6.5316\n",
            "Epoch 9/70\n",
            "23/23 [==============================] - 15s 668ms/step - loss: 1.1457 - val_loss: 6.5335\n",
            "Epoch 10/70\n",
            "23/23 [==============================] - 15s 670ms/step - loss: 1.1327 - val_loss: 6.5391\n",
            "Epoch 11/70\n",
            "23/23 [==============================] - 16s 680ms/step - loss: 1.1215 - val_loss: 6.5596\n",
            "Epoch 12/70\n",
            "23/23 [==============================] - 15s 669ms/step - loss: 1.1101 - val_loss: 6.5462\n",
            "Epoch 13/70\n",
            "23/23 [==============================] - 15s 667ms/step - loss: 1.0994 - val_loss: 6.5709\n",
            "Epoch 14/70\n",
            "23/23 [==============================] - 15s 663ms/step - loss: 1.0911 - val_loss: 6.5693\n",
            "Epoch 15/70\n",
            "23/23 [==============================] - 15s 669ms/step - loss: 1.0784 - val_loss: 6.5883\n",
            "Epoch 16/70\n",
            "23/23 [==============================] - 15s 670ms/step - loss: 1.0707 - val_loss: 6.5795\n",
            "Epoch 17/70\n",
            "23/23 [==============================] - 16s 683ms/step - loss: 1.0590 - val_loss: 6.6008\n",
            "Epoch 18/70\n",
            "23/23 [==============================] - 16s 683ms/step - loss: 1.0476 - val_loss: 6.5879\n",
            "Epoch 19/70\n",
            "23/23 [==============================] - 15s 671ms/step - loss: 1.0395 - val_loss: 6.6115\n",
            "Epoch 20/70\n",
            "23/23 [==============================] - 15s 664ms/step - loss: 1.0292 - val_loss: 6.6241\n",
            "Epoch 21/70\n",
            "23/23 [==============================] - 16s 678ms/step - loss: 1.0190 - val_loss: 6.6150\n",
            "Epoch 22/70\n",
            "23/23 [==============================] - 15s 668ms/step - loss: 1.0094 - val_loss: 6.6271\n",
            "Epoch 23/70\n",
            "23/23 [==============================] - 15s 670ms/step - loss: 1.0002 - val_loss: 6.6323\n",
            "Epoch 24/70\n",
            "23/23 [==============================] - 15s 667ms/step - loss: 0.9913 - val_loss: 6.6397\n",
            "Epoch 25/70\n",
            "23/23 [==============================] - 15s 672ms/step - loss: 0.9854 - val_loss: 6.6518\n",
            "Epoch 26/70\n",
            "23/23 [==============================] - 16s 677ms/step - loss: 0.9744 - val_loss: 6.6554\n",
            "Epoch 27/70\n",
            "23/23 [==============================] - 15s 668ms/step - loss: 0.9652 - val_loss: 6.6520\n",
            "Epoch 28/70\n",
            "23/23 [==============================] - 15s 663ms/step - loss: 0.9568 - val_loss: 6.6663\n",
            "Epoch 29/70\n",
            "23/23 [==============================] - 15s 666ms/step - loss: 0.9507 - val_loss: 6.6689\n",
            "Epoch 30/70\n",
            "23/23 [==============================] - 15s 667ms/step - loss: 0.9426 - val_loss: 6.6725\n",
            "Epoch 31/70\n",
            "23/23 [==============================] - 16s 675ms/step - loss: 0.9330 - val_loss: 6.6664\n",
            "Epoch 32/70\n",
            "23/23 [==============================] - 15s 673ms/step - loss: 0.9282 - val_loss: 6.6788\n",
            "Epoch 33/70\n",
            "23/23 [==============================] - 15s 663ms/step - loss: 0.9200 - val_loss: 6.6881\n",
            "Epoch 34/70\n",
            "23/23 [==============================] - 15s 668ms/step - loss: 0.9141 - val_loss: 6.6995\n",
            "Epoch 35/70\n",
            "23/23 [==============================] - 15s 657ms/step - loss: 0.9040 - val_loss: 6.6993\n",
            "Epoch 36/70\n",
            "23/23 [==============================] - 15s 665ms/step - loss: 0.9006 - val_loss: 6.7020\n",
            "Epoch 37/70\n",
            "23/23 [==============================] - 15s 669ms/step - loss: 0.8888 - val_loss: 6.7128\n",
            "Epoch 38/70\n",
            "23/23 [==============================] - 15s 667ms/step - loss: 0.8861 - val_loss: 6.7188\n",
            "Epoch 39/70\n",
            "23/23 [==============================] - 15s 666ms/step - loss: 0.8751 - val_loss: 6.7297\n",
            "Epoch 40/70\n",
            "23/23 [==============================] - 15s 667ms/step - loss: 0.8684 - val_loss: 6.7277\n",
            "Epoch 41/70\n",
            "23/23 [==============================] - 15s 662ms/step - loss: 0.8635 - val_loss: 6.7269\n",
            "Epoch 42/70\n",
            "23/23 [==============================] - 15s 670ms/step - loss: 0.8596 - val_loss: 6.7483\n",
            "Epoch 43/70\n",
            "23/23 [==============================] - 15s 665ms/step - loss: 0.8542 - val_loss: 6.7428\n",
            "Epoch 44/70\n",
            "23/23 [==============================] - 15s 659ms/step - loss: 0.8439 - val_loss: 6.7548\n",
            "Epoch 45/70\n",
            "23/23 [==============================] - 15s 662ms/step - loss: 0.8380 - val_loss: 6.7511\n",
            "Epoch 46/70\n",
            "23/23 [==============================] - 15s 660ms/step - loss: 0.8304 - val_loss: 6.7711\n",
            "Epoch 47/70\n",
            "23/23 [==============================] - 15s 674ms/step - loss: 0.8252 - val_loss: 6.7659\n",
            "Epoch 48/70\n",
            "23/23 [==============================] - 15s 658ms/step - loss: 0.8168 - val_loss: 6.7687\n",
            "Epoch 49/70\n",
            "23/23 [==============================] - 15s 658ms/step - loss: 0.8146 - val_loss: 6.7798\n",
            "Epoch 50/70\n",
            "23/23 [==============================] - 16s 675ms/step - loss: 0.8063 - val_loss: 6.7809\n",
            "Epoch 51/70\n",
            "23/23 [==============================] - 15s 665ms/step - loss: 0.8025 - val_loss: 6.7780\n",
            "Epoch 52/70\n",
            "23/23 [==============================] - 15s 669ms/step - loss: 0.7966 - val_loss: 6.7880\n",
            "Epoch 53/70\n",
            "23/23 [==============================] - 15s 663ms/step - loss: 0.7896 - val_loss: 6.7996\n",
            "Epoch 54/70\n",
            "23/23 [==============================] - 15s 666ms/step - loss: 0.7840 - val_loss: 6.8119\n",
            "Epoch 55/70\n",
            "23/23 [==============================] - 15s 668ms/step - loss: 0.7802 - val_loss: 6.8111\n",
            "Epoch 56/70\n",
            "23/23 [==============================] - 15s 668ms/step - loss: 0.7723 - val_loss: 6.8183\n",
            "Epoch 57/70\n",
            "23/23 [==============================] - 15s 662ms/step - loss: 0.7661 - val_loss: 6.8222\n",
            "Epoch 58/70\n",
            "23/23 [==============================] - 15s 671ms/step - loss: 0.7638 - val_loss: 6.8254\n",
            "Epoch 59/70\n",
            "23/23 [==============================] - 15s 661ms/step - loss: 0.7568 - val_loss: 6.8390\n",
            "Epoch 60/70\n",
            "23/23 [==============================] - 15s 669ms/step - loss: 0.7523 - val_loss: 6.8392\n",
            "Epoch 61/70\n",
            "23/23 [==============================] - 15s 666ms/step - loss: 0.7464 - val_loss: 6.8410\n",
            "Epoch 62/70\n",
            "23/23 [==============================] - 15s 666ms/step - loss: 0.7448 - val_loss: 6.8456\n",
            "Epoch 63/70\n",
            "23/23 [==============================] - 15s 670ms/step - loss: 0.7375 - val_loss: 6.8437\n",
            "Epoch 64/70\n",
            "23/23 [==============================] - 15s 669ms/step - loss: 0.7316 - val_loss: 6.8497\n",
            "Epoch 65/70\n",
            "23/23 [==============================] - 15s 661ms/step - loss: 0.7262 - val_loss: 6.8528\n",
            "Epoch 66/70\n",
            "23/23 [==============================] - 16s 677ms/step - loss: 0.7243 - val_loss: 6.8690\n",
            "Epoch 67/70\n",
            "23/23 [==============================] - 15s 655ms/step - loss: 0.7182 - val_loss: 6.8756\n",
            "Epoch 68/70\n",
            "23/23 [==============================] - 15s 667ms/step - loss: 0.7135 - val_loss: 6.8803\n",
            "Epoch 69/70\n",
            "23/23 [==============================] - 15s 665ms/step - loss: 0.7076 - val_loss: 6.8744\n",
            "Epoch 70/70\n",
            "23/23 [==============================] - 15s 666ms/step - loss: 0.7033 - val_loss: 6.8861\n"
          ],
          "name": "stdout"
        }
      ]
    },
    {
      "cell_type": "code",
      "metadata": {
        "id": "IKUjpTCq2Fw3"
      },
      "source": [
        "model.save('first_model.h5')"
      ],
      "execution_count": null,
      "outputs": []
    },
    {
      "cell_type": "markdown",
      "metadata": {
        "id": "CbDGBVvPcpaC"
      },
      "source": [
        "#Inference Models"
      ]
    },
    {
      "cell_type": "markdown",
      "metadata": {
        "id": "KqiepEEKfy77"
      },
      "source": [
        " build the **Encoder inference model** to <br>\n",
        "- Encode the input sequence \n",
        "- Get the decoder initial states"
      ]
    },
    {
      "cell_type": "code",
      "metadata": {
        "colab": {
          "base_uri": "https://localhost:8080/"
        },
        "id": "aIn_hfbUzQ9u",
        "outputId": "168d110a-c3ef-4614-bb6c-287d301c15fd"
      },
      "source": [
        "encoder_model = Model(inputs = encoder_inputs, outputs = [encoder_output,state_h,state_c])\n",
        "encoder_model.summary()"
      ],
      "execution_count": null,
      "outputs": [
        {
          "output_type": "stream",
          "text": [
            "Model: \"model_1\"\n",
            "_________________________________________________________________\n",
            "Layer (type)                 Output Shape              Param #   \n",
            "=================================================================\n",
            "encoder_imputs (InputLayer)  [(None, 47)]              0         \n",
            "_________________________________________________________________\n",
            "enc_emb (Embedding)          (None, 47, 200)           3842800   \n",
            "_________________________________________________________________\n",
            "encoder_lstm1 (LSTM)         [(None, 47, 300), (None,  601200    \n",
            "_________________________________________________________________\n",
            "encoder_lstm2 (LSTM)         [(None, 47, 300), (None,  721200    \n",
            "_________________________________________________________________\n",
            "encoder_lstm3 (LSTM)         [(None, 47, 300), (None,  721200    \n",
            "=================================================================\n",
            "Total params: 5,886,400\n",
            "Trainable params: 5,886,400\n",
            "Non-trainable params: 0\n",
            "_________________________________________________________________\n"
          ],
          "name": "stdout"
        }
      ]
    },
    {
      "cell_type": "markdown",
      "metadata": {
        "id": "0vfCfFlAf5zV"
      },
      "source": [
        "**Decoder inference model**"
      ]
    },
    {
      "cell_type": "code",
      "metadata": {
        "id": "_Ifa-GCsdNrA"
      },
      "source": [
        "decoder_state_input_h = Input(shape=(latent_dim,))\n",
        "decoder_state_input_c = Input(shape=(latent_dim,))\n",
        "decoder_hidden_state_input = Input(shape=(max_text_len,latent_dim))\n",
        "#decoder_states_inputs = [decoder_state_input_h, decoder_state_input_c]\n",
        "embedded_decoder_inputs = dec_emb_layer(decoder_inputs)\n",
        "decoder_outputs, decoder_state_h, decoder_state_c = decoder_lstm(\n",
        "    embedded_decoder_inputs , initial_state=[decoder_state_input_h,decoder_state_input_c])\n",
        "decoder_outputs2 = decoder_dense(decoder_outputs) \n",
        "\n",
        "# Final decoder model\n",
        "decoder_model = Model(\n",
        "    [decoder_inputs] + [decoder_hidden_state_input,decoder_state_input_h, decoder_state_input_c],\n",
        "    [decoder_outputs2] + [ decoder_state_h, decoder_state_c])\n"
      ],
      "execution_count": null,
      "outputs": []
    },
    {
      "cell_type": "markdown",
      "metadata": {
        "id": "iLnoytTG60cw"
      },
      "source": [
        "# Summarization functions"
      ]
    },
    {
      "cell_type": "markdown",
      "metadata": {
        "id": "a_6QCQhH7v4n"
      },
      "source": [
        "Use the generated toxenizer to get three dictionaries:\n",
        "1. summary_index_dict a dictionary containing the indices keys of summary words and those words as values \n",
        "2. text_index_dict a dictionary containing the indices keys of text words and those words as values\n",
        "3. summary_word_index a dictionary that has summary words as keys and their indices as values"
      ]
    },
    {
      "cell_type": "code",
      "metadata": {
        "id": "IEATosDu8dK8"
      },
      "source": [
        "summary_index_dict =summary_tokenizer.index_word\n",
        "text_index_dice =text_tokenizer.index_word\n",
        "summary_word_index=summary_tokenizer.word_index"
      ],
      "execution_count": null,
      "outputs": []
    },
    {
      "cell_type": "code",
      "metadata": {
        "id": "th3oE3iU6wrA"
      },
      "source": [
        "def summarize(input_seq):\n",
        "    '''\n",
        "    This function produces summary sequences with the inference models generated from the trained model\n",
        "    Input:\n",
        "        It takes the input sequence to be summarized\n",
        "    Output:\n",
        "        It yields the summary sequence\n",
        "\n",
        "    '''\n",
        "    # Encode the input as state vectors.\n",
        "    e_out, e_h, e_c = encoder_model.predict(input_seq)\n",
        "    \n",
        "    # Generate empty target sequence of length 1.\n",
        "    summary_seq = np.zeros((1,1))\n",
        "    \n",
        "    # Populate the first word of target sequence with the start word.\n",
        "    summary_seq[0, 0] = summary_word_index['ssss']\n",
        "\n",
        "    stop_condition = False\n",
        "    decoded_sentence = ''\n",
        "    while not stop_condition:\n",
        "        # Decoding using the states from the encoder and the decoder output fro the last instance\n",
        "        output_tokens, h, c = decoder_model.predict([summary_seq] + [e_out, e_h, e_c])\n",
        "\n",
        "        # Sample a token\n",
        "        sampled_token_index = np.argmax(output_tokens[0, -1, :])\n",
        "        #print(sampled_token_index)\n",
        "\n",
        "        # get the word of the output token\n",
        "        sampled_token = summary_index_dict[sampled_token_index]\n",
        "        \n",
        "        # Check if its the end token\n",
        "        if(sampled_token!= 'aaaa'):\n",
        "            decoded_sentence += ' '+sampled_token\n",
        "\n",
        "        # Exit condition: either hit max length or find stop word.\n",
        "        if (sampled_token == 'aaaa'  or len(decoded_sentence.split()) >= (max_summary_len-1)):\n",
        "            stop_condition = True\n",
        "\n",
        "        # Update the target sequence (of length 1).\n",
        "        summary_seq = np.zeros((1,1))\n",
        "        summary_seq[0, 0] = sampled_token_index\n",
        "\n",
        "        # Update internal states\n",
        "        e_h, e_c = h, c\n",
        "    \n",
        "    #print(len(output_tokens[0,-1,:]))        \n",
        "    return decoded_sentence"
      ],
      "execution_count": null,
      "outputs": []
    },
    {
      "cell_type": "code",
      "metadata": {
        "colab": {
          "base_uri": "https://localhost:8080/"
        },
        "id": "vlXu-mW0O4O8",
        "outputId": "9938ae86-132a-4a09-e80e-49062b658efe"
      },
      "source": [
        "for i in range(60,80):\n",
        "  print(\"\\n Predicted summary:\",summarize(x_test_pad[i].reshape(1,max_text_len)))\n",
        "  print(X_test[i])"
      ],
      "execution_count": null,
      "outputs": [
        {
          "output_type": "stream",
          "text": [
            "\n",
            " Predicted summary:  i am blessed that you even know i exist ranveer to amitabh\n",
            "Actress Bipasha Basu has shared pictures of her performing various yoga asanas with her husband Karan Singh Grover on the occasion of International Yoga Day on Wednesday. Bipasha captioned one of the pictures, \"Yoga is like Life - It's a beautiful balance of holding on & letting go.\" She also used the hashtag '#yogimonkey' while sharing the three pictures.\n",
            "\n",
            " Predicted summary:  delhi metro to launch housing scheme with 2bhk 3bhk flats\n",
            "A painting which went missing from Air India's archives, was recently delivered to the airline's head office via post. The package did not mention the sender's name and had the painting made by Jatin Das for Air India, in a rolled up and damaged condition. The address registered by the sender was found to be a fake one in Gurugram. \n",
            "\n",
            " Predicted summary:  delhi metro to get swipe machines for online transactions\n",
            "The Railways is planning to purchase recycled water from private players to cut down its water bill and save up to ?400 crore a year, a senior official said. The Railways presently buys water from the states, spending ?4,000 crore a year. It is expected to unveil its first-ever water management policy on March 22 (World Water Day). \n",
            "\n",
            " Predicted summary:  delhi metro to get 'driverless' trains in june\n",
            "Effigies of Rajinikanth were burnt in Tamil Nadu and protestors from pro-Tamilian groups including Thamizhar Munnetra Padai (TMP) termed him Kannadiga. The protests were in response to the actor hinting that he might join politics in a meeting with fans. TMP leader Veeralakshmi said Tamil political leaders were capable and the state doesn't need someone (referring to Rajinikanth) from Karnataka.\n",
            "\n",
            " Predicted summary:  delhi metro to get swipe machines for online transactions\n",
            "The Indian Railways earned ?1,400 crore through cancellation of reserved tickets on request of passengers, in FY 2016-17. Further, the earnings from reserved ticket cancellations in 2015-16 were ?1,123 crore, ?908 crore in 2014-15 and ?938 crore in 2013-14. The data was released by the Centre for Railway Information Systems (CRIS) in response to an RTI query.\n",
            "\n",
            " Predicted summary:  delhi metro to launch housing scheme with 2bhk 3bhk flats\n",
            "Billionaire Richard Branson has announced that he is selling 31% of Virgin Atlantic, giving up his controlling interest in the airline he founded in 1984. Branson will receive over $288 million (over ?1,800 crore) from the stake sale to Air France-KLM. He will retain a 20% stake and remain as the Chairman of the airline.\n",
            "\n",
            " Predicted summary:  delhi metro to get 'driverless' trains in june\n",
            "The Delhi Police on Friday told a city court that they cannot de-seal the five-star hotel room where Congress leader Shashi Tharoor's wife Sunanda Pushkar was found dead in 2014. More than three years after the incident, police said they still need time to investigate the case. The hotel claimed a loss of ?50 lakh because the room remained sealed.\n",
            "\n",
            " Predicted summary:  indian army's ammunition will run out after being claims home\n",
            "A sinkhole swallowed two houses and a boat in Florida, United States. Police said they were called after someone noticed a depression had formed under a boat parked outside a house, and \"the hole opened up\" within minutes. The residents had left for work, and firefighters managed to rescue two dogs and retrieve some belongings. nn\n",
            "\n",
            " Predicted summary:  i am blessed that you even know i exist ranveer to amitabh\n",
            "Pakistan Prime Minister Nawaz Sharif on Tuesday ordered authorities to take immediate action against blasphemous content on the social media and punish the perpetrators. \"Those behind this heinous crime should be dealt with, without any delay,\" Sharif said. He also asked the relevant departments to approach international social media platforms to put the blasphemous content off the internet.\n",
            "\n",
            " Predicted summary:  delhi police to get free mri ct scan at 21 labs\n",
            "The Ministry of Railways has cancelled a caterer's contract after a passenger found dead lizard in vegetable biryani served on Howrah-New Delhi Poorva Express. The passenger had ordered and eaten the dish without noticing the lizard but felt unwell later, a co-passenger tweeted. The incident follows CAG's report stating food on trains is \"unfit for human consumption\".\n",
            "\n",
            " Predicted summary:  delhi metro to get 'driverless' trains in june\n",
            "The Al Ponte café in Amsterdam, Netherlands provides discounts to residents in return for plastic wastes. The initiative is part of a pilot project named 'Wasted', which incentivises households to recycle their plastics. For every bag of plastics, households earn one green coin which can be used for a free second coffee.\n",
            "\n",
            " Predicted summary:  i am blessed that you even know what is probably me vaani\n",
            "Money.co.uk founder Chris Morling spent £3 million (?25.3 crore) to build an office which features an ice cave, ski lodge, Star Wars-themed movie theatre, and gaming arcade. The office, based in a Victorian castle in England, features Rolling Stones-themed bathrooms and a yoga studio. His staff, paid up to £500,000 a year, are also sent on annual all-expenses paid trips.\n",
            "\n",
            " Predicted summary:  pic of srk's kids suhana abram together shared online\n",
            "Haryana CM Manohar Lal Khattar has announced that the state will become stray cattle free by August 15. The tagging of 89.3% of cattle in gaushalas and nandishalas (shelters for bovine animals) has been completed and the work to rehabilitate abandoned cattle is being undertaken in a mission mode, Khattar said. \n",
            "\n",
            " Predicted summary:  i am dating but i feel single arbaaz on relationship status\n",
            "Actor Tom Hiddleston will star in a play on William Shakespeare's 'Hamlet', which will be directed by Kenneth Branagh. The production aims to raise money for the Royal Academy of Dramatic Art, the drama school attended by Hiddleston. Tickets will be available through a lottery and winners will be able to collect them only on the day of the performance.\n",
            "\n",
            " Predicted summary:  india stands 4th among fastest growing economies world bank\n",
            "Indian pacer Mohammed Shami, whose father passed away recently, reacted angrily after a Pakistani cricket fan sledged Indian players following Pakistan's Champions Trophy win against India on Sunday. The Pakistani fan was heard saying, \"Baap kaun hai?\", which is when Shami lost his cool and turned back towards the Pakistani fan and stared at him before MS Dhoni held him.\n",
            "\n",
            " Predicted summary:  no info on hiring class 12 boy 6 months over 12 years\n",
            "The South Delhi Municipal Corporation (SDMC) has reportedly authorised its health and sanitation officials to fine people defecating in the open. Violators will be fined on the spot and the fine amount has been fixed at ?50. \"Besides issuing challans, we will educate such people with the help of NGOs,\" SDMC Commissioner Puneet Goel said.\n",
            "\n",
            " Predicted summary:  i am blessed that you even know what is probably me vaani\n",
            "CPI(M) General Secretary Sitaram Yechury on Tuesday alleged that corruption, black money and terrorism have flourished post demonetisation. \"Six months on, still no data on how much money in old currency notes has returned to the system,\" he said. \"Government has let the big fish ? bank loan defaulters ? off and ruined India's informal economy,\" he added.\n",
            "\n",
            " Predicted summary:  india stands 4th among fastest growing economies world bank\n",
            "Union Minister Kiren Rijiju on Tuesday said the government has undertaken construction of 73 roads of 'operational significance' along Indo-China border. Out of the 73 roads, 46 are being constructed by the Defence Ministry and 27 by the Home Ministry. This comes while India and China are engaged in a standoff after China attempted to construct a road in Doklam.\n",
            "\n",
            " Predicted summary:  i am ashamed to be a part of hollywood charlize theron\n",
            "In what is believed to be a first, Karnataka Tourism will organise a surfing festival between May 27-29. The festival will be held at the Sasithithlu Beach in Mangalore. Along with this, the state's tourism ministry is also planning to introduce a set of recreational activities which will include skydiving and motorcycle tourism. \n",
            "\n",
            " Predicted summary:  ec transfers chennai commissioner ahead of rk nagar by polls\n",
            "The 14th Dalai Lama said that historically the Indians and Tibetans have had a long, enduring relationship as teachers (gurus) and disciples (chelas). \"We are not only chelas but quite reliable chelas,\" he added. The Dalai Lama, who was on a nine-day visit to Arunachal Pradesh, has traveled to the Indian state on six earlier occasions since 1983.\n"
          ],
          "name": "stdout"
        }
      ]
    },
    {
      "cell_type": "code",
      "metadata": {
        "colab": {
          "base_uri": "https://localhost:8080/"
        },
        "id": "BGgx7fXLkP1x",
        "outputId": "152a39eb-3ae7-44c0-b52c-b115fe55f803"
      },
      "source": [
        "for i in range(60,80):\n",
        "  print(\"\\n Predicted summary:\",summarize(x_train[i].reshape(1,max_text_len)))\n",
        "  #print(x_train[i])\n",
        "  print([ text_index_dice[X] for X in x_train[i] if X != 0]) \n",
        "  print([ summary_index_dict[X] for X in Y_train[i] if X != 0]) "
      ],
      "execution_count": null,
      "outputs": [
        {
          "output_type": "stream",
          "text": [
            "\n",
            " Predicted summary:  i am blessed that you even know i exist ranveer to amitabh\n",
            "['none', 'mobile', 'payment', 'apps', 'digital', 'wallets', 'country', 'fully', 'secure', 'mobile', 'technologies', 'leader', 'qualcomm', 'claimed', 'apps', 'actually', 'run', 'completely', 'android', 'mode', 'hardware', 'level', 'security', 'turn', 'used', 'compromise', 'users', 'password', 'fingerprint', 'said', 'qualcomm']\n",
            "['ssss', 'none', 'of', 'mobile', 'payment', 'apps', 'in', 'india', 'fully', 'secure', 'qualcomm', 'aaaa']\n",
            "\n",
            " Predicted summary:  delhi metro to get swipe machines for online transactions\n",
            "['central', 'board', 'film', 'certification', 'cbfc', 'reissue', 'film', 'certificate', 'jolly', 'llb', '2', 'following', 'bombay', 'high', 'court', 'order', 'delete', 'four', 'scenes', 'film', 'one', 'scenes', 'shows', 'shoe', 'hurled', 'film', 'producers', 'reportedly', 'approach', 'supreme', 'court', 'film', 'due', 'release', 'february', '10']\n",
            "['ssss', 'cbfc', 'to', 'reissue', 'certificate', 'to', 'jolly', 'llb', '2', 'after', 'hc', 'order', 'aaaa']\n",
            "\n",
            " Predicted summary:  india to launch 156 minisatellites for better internet\n",
            "['canadian', 'prime', 'minister', 'justin', 'trudeau', 'saturday', 'came', 'face', 'face', 'namesake', 'met', 'baby', 'syrian', 'refugees', 'named', 'honour', 'twomonthold', 'justin', 'trudeau', 'adam', 'bilan', 'seen', 'sleeping', 'prime', 'minister', 'held', 'boy', 'parents', 'named', 'gesture', 'thanks', 'country', 'offered', 'refuge']\n",
            "['ssss', 'canadian', 'pm', 'justin', 'trudeau', 'meets', 'baby', 'justin', 'trudeau', 'aaaa']\n",
            "\n",
            " Predicted summary:  i am ashamed to be a part of hollywood charlize theron\n",
            "['actor', 'akshay', 'kumar', 'sunday', 'attended', 'screening', 'rumoured', 'exgirlfriend', 'pooja', 'batra', 'film', 'mirror', 'games', 'mumbai', 'actor', 'reportedly', 'made', 'brief', 'appearance', 'stay', 'watch', 'film', 'according', 'source', 'akshay', 'wife', 'twinkle', 'also', 'supposed', 'join', 'could', 'attend', 'event', 'travel']\n",
            "['ssss', 'akshay', 'attends', 'rumoured', 'ex', 'girlfriend', \"pooja's\", 'film', 'screening', 'aaaa']\n",
            "\n",
            " Predicted summary:  delhi metro to get swipe machines for online transactions\n",
            "['plea', 'oscarwinning', 'filmmaker', 'roman', 'polanski', 'end', '40yearold', 'rape', 'case', 'rejected', 'polanski', 'lawyers', 'said', 'willing', 'return', 'us', 'assured', 'would', 'serve', 'time', 'jail', 'director', 'fled', 'us', '1978', 'pleading', 'guilty', 'raping', '13yearold', 'girl']\n",
            "['ssss', \"filmmaker's\", 'plea', 'to', 'end', '40', 'year', 'old', 'rape', 'case', 'rejected', 'aaaa']\n",
            "\n",
            " Predicted summary:  delhi govt to get 'driverless' trains in june\n",
            "['gujarat', 'government', 'launched', 'pilot', 'programme', 'tuesday', 'provide', 'subsidised', 'meals', 'labourers', '10', 'day', 'chief', 'minister', 'vijay', 'rupani', 'scheme', 'shramik', 'annapurna', 'yojana', 'meal', 'served', 'stalls', 'various', 'labourer', 'markets', 'although', 'government', 'plans', 'cover', '5', 'lakh', 'registered', 'labourers', 'presently', '25000', 'labourers', 'covered', '83', 'stalls']\n",
            "['ssss', 'gujarat', 'govt', 'canteens', 'to', 'offer', 'meals', 'at', '10', 'to', 'labourers', 'aaaa']\n",
            "\n",
            " Predicted summary:  no room for negotiations on sikkim standoff china\n",
            "['industry', 'body', 'coai', 'termed', 'launch', 'jiophone', 'effective', 'zero', 'price', 'clever', 'marketing', 'position', 'move', 'help', 'company', 'save', 'licence', 'fee', 'government', 'levies', 'coai', 'director', 'general', 'rajan', 'mathews', 'termed', 'phone', 'launch', 'clearly', 'big', 'win', 'jio', 'put', 'pressure', 'incumbent', 'telecom', 'operators']\n",
            "['ssss', 'jiophone', 'at', 'effectively', '0', 'clever', 'marketing', 'industry', 'body', 'aaaa']\n",
            "\n",
            " Predicted summary:  ec transfers chennai commissioner ahead of rk nagar by polls\n",
            "['candidates', 'seeking', 'election', 'indian', 'presidential', 'elections', 'deposit', 'sum', '15000', 'filing', 'nomination', 'papers', 'candidates', 'allowed', 'make', 'payments', 'digitally', 'cheque', 'according', 'reports', 'presidential', 'elections', 'scheduled', 'held', 'july', '17', 'counting', 'votes', 'july', '20']\n",
            "['ssss', 'no', 'card', 'only', 'hard', 'cash', 'for', 'presidential', 'poll', 'nomination', 'aaaa']\n",
            "\n",
            " Predicted summary:  indian women's hockey team reaches hwl semi final quarters\n",
            "['indian', 'pacer', 'parvinder', 'awana', 'also', 'represented', 'kings', 'xi', 'punjab', 'beaten', 'group', 'five', 'unknown', 'people', 'greater', 'noida', 'friday', 'incident', 'reportedly', 'happened', 'awana', 'crossing', 'greater', 'noida', 'returning', 'haridwar', 'group', 'thought', 'chasing', 'state', 'police', 'started', 'investigation', 'assault']\n",
            "['ssss', 'indian', 'fast', 'bowler', 'assaulted', 'in', 'greater', 'noida', 'aaaa']\n",
            "\n",
            " Predicted summary:  i am blessed that you even know i exist ranveer to amitabh\n",
            "['eight', 'member', 'nations', 'voted', 'bcci', 'proposal', 'retaining', 'icc', 'old', 'revenue', 'model', 'board', 'meeting', 'dubai', 'wednesday', 'sri', 'lankan', 'board', 'member', 'supported', 'bcci', 'stance', 'governance', 'joined', 'others', 'opposing', 'bcci', 'proposal', 'retain', 'revenue', 'structure', 'bcci', 'lose', '1000', 'crore', 'new', 'revenue', 'model', 'implemented']\n",
            "['ssss', 'bcci', 'loses', 'both', 'revenue', 'and', 'governance', 'votes', 'at', 'icc', 'meet', 'aaaa']\n",
            "\n",
            " Predicted summary:  i am blessed that you even know i exist ranveer to amitabh\n",
            "['niti', 'aayog', 'cited', 'air', 'india', 'fragile', 'finances', 'main', 'reason', 'recommending', 'disinvestment', 'union', 'minister', 'jayant', 'sinha', 'informed', 'rajya', 'sabha', 'tuesday', 'niti', 'aayog', 'says', 'support', 'unviable', 'nonpriority', 'company', 'matured', 'competitive', 'aviation', 'sector', 'would', 'best', 'use', 'scarce', 'financial', 'resources', 'government', 'sinha', 'added']\n",
            "['ssss', 'niti', 'aayog', 'cites', \"'fragile\", \"finances'\", 'for', 'air', 'india', 'sale', 'aaaa']\n",
            "\n",
            " Predicted summary:  kapil sharma ranked 11th in forbes india celebrity 100 list\n",
            "['supreme', 'courtappointed', 'bcci', 'committee', 'administrators', 'said', 'zaheer', 'khan', 'rahul', 'dravid', 'appointment', 'overseas', 'consultants', 'team', 'india', 'ratified', 'cricket', 'advisory', 'committee', 'recommendations', 'comes', 'bcci', 'confirmed', 'overseas', 'consultants', 'tourtotour', 'basis', 'sourav', 'ganguly', 'said', 'zaheer', 'would', 'contracted', '150', 'days', 'year']\n",
            "['ssss', 'dravid', \"zaheer's\", 'appointments', 'put', 'on', 'hold', 'by', 'bcci', 'panel', 'aaaa']\n",
            "\n",
            " Predicted summary:  delhi metro to get swipe machines for online transactions\n",
            "['world', 'bank', 'wednesday', 'decelerated', 'india', 'gdp', 'growth', 'forecast', 'fy', '201617', '7', 'previous', 'estimate', '76', 'due', 'demonetisation', 'challenges', 'encountered', 'phasing', 'large', 'currency', 'notes', 'replacing', 'new', 'ones', 'may', 'pose', 'risks', 'pace', 'economic', 'reforms', 'eg', 'goods', 'services', 'tax', 'labour', 'land', 'reforms', 'said']\n",
            "['ssss', 'world', 'bank', 'cuts', \"india's\", 'growth', 'forecast', 'to', '7', 'post', 'note', 'ban', 'aaaa']\n",
            "\n",
            " Predicted summary:  delhi metro constructs eco park using waste material\n",
            "['portugal', 'national', 'team', 'captain', 'cristiano', 'ronaldo', 'scored', 'leftfooted', 'longrange', 'effort', 'teammate', 'andr', 'silva', 'provided', 'midair', 'backheel', 'assist', 'aerial', 'long', 'ball', 'portugal', '30', 'friendly', 'win', 'hungary', 'sunday', '32yearold', 'also', 'scored', 'freekick', 'side', 'penalty', 'box', 'claiming', '70th', 'career', 'goal', 'portugal']\n",
            "['ssss', 'mid', 'air', 'backheel', 'assist', 'sets', 'up', \"ronaldo's\", 'long', 'range', 'goal', 'aaaa']\n",
            "\n",
            " Predicted summary:  pic shows srk with son aryan and saif's daughter sara\n",
            "['andhra', 'pradesh', 'minister', 'p', 'narayana', 'son', 'nishith', '23', 'friend', 'raja', 'ravi', 'wednesday', 'died', 'road', 'accident', 'nishith', 'driving', 'mercedez', 'benz', 'car', 'around', '3', 'car', 'hit', 'metro', 'pillar', 'police', 'said', 'however', 'yet', 'clear', 'nishith', 'drunk', 'postmortem', 'results', 'would', 'later']\n",
            "['ssss', 'andhra', \"minister's\", 'son', 'killed', 'in', 'road', 'accident', 'in', 'hyderabad', 'aaaa']\n",
            "\n",
            " Predicted summary:  raveena tandon starrer shab hits the theatres\n",
            "['raveena', 'tandon', 'starrer', 'shab', 'released', 'friday', 'dark', 'haunting', 'film', 'human', 'emotions', 'relationships', 'love', 'betrayal', 'wrote', 'hindustan', 'times', 'ndtv', 'wrote', 'shab', 'courageous', 'filmstylish', 'layered', 'evocative', 'koimoi', 'wrote', 'family', 'entertainer', 'film', 'everyone', 'would', 'like', 'watch', 'rated', '35', 'ht', 'ndtv', '155', 'koimoi']\n",
            "['ssss', 'raveena', 'tandon', 'starrer', 'shab', 'hits', 'the', 'theatres', 'aaaa']\n",
            "\n",
            " Predicted summary:  i am blessed that you even know i exist ranveer to amitabh\n",
            "['transitioning', 'biometric', 'attendance', 'brihanmumbai', 'municipal', 'corporation', 'bmc', 'announced', 'employees', 'receive', 'salary', 'fail', 'mark', 'attendance', 'system', 'almost', '70000', 'bmc', '1', 'lakh', 'employees', 'already', 'registered', 'new', 'system', 'reports', 'said', 'comes', 'part', 'revamp', 'also', 'includes', 'changing', 'official', 'duty', 'hours']\n",
            "['ssss', 'no', 'biometric', 'attendance', 'means', 'no', 'salary', 'bmc', 'to', 'employees', 'aaaa']\n",
            "\n",
            " Predicted summary:  indian army's ammunition will run out after being claims\n",
            "['maharashtra', 'government', 'tuesday', 'said', 'make', 'drip', 'irrigation', 'mandatory', 'sugarcane', 'cultivation', '2019', 'purpose', 'state', 'also', 'provide', 'loan', 'interest', 'rate', '2', 'farmers', 'drip', 'irrigation', 'expected', 'raise', 'sugarcane', 'production', 'also', 'help', 'conserving', 'water']\n",
            "['ssss', 'drip', 'irrigation', 'mandatory', 'for', 'sugarcane', 'crop', 'in', 'maharashtra', 'aaaa']\n",
            "\n",
            " Predicted summary:  i am blessed that you even know i exist ranveer to amitabh\n",
            "['actress', 'alia', 'bhatt', 'talking', 'playing', 'kashmiri', 'character', 'upcoming', 'film', 'raazi', 'said', 'scared', 'nervous', 'go', 'journey', 'kind', 'intensity', 'character', 'directed', 'meghna', 'gulzar', 'film', 'set', '1971', 'war', 'india', 'pakistan']\n",
            "['ssss', 'i', 'am', 'so', 'scared', 'nervous', 'alia', 'on', 'playing', 'a', 'kashmiri', 'in', 'raazi', 'aaaa']\n",
            "\n",
            " Predicted summary:  i am blessed that you even know what is probably me vaani\n",
            "['finance', 'ministry', 'received', 'around', '90', 'applications', 'post', 'rbi', 'deputy', 'governor', 'ss', 'mundra', 'threeyear', 'term', 'coming', 'end', 'month', 'per', 'reports', 'several', 'private', 'bankers', 'also', 'applied', 'post', 'position', 'open', 'private', 'sector', 'post', 'fixed', 'salary', '225', 'lakh', 'per', 'month', 'plus', 'allowances']\n",
            "['ssss', 'govt', 'receives', '90', 'applications', 'for', 'rbi', 'deputy', 'governor', 'post', 'aaaa']\n"
          ],
          "name": "stdout"
        }
      ]
    },
    {
      "cell_type": "markdown",
      "metadata": {
        "id": "ALyP--XC3RRu"
      },
      "source": [
        "## Results from testing on a larger dataset"
      ]
    },
    {
      "cell_type": "code",
      "metadata": {
        "id": "LGAn4z253Qro"
      },
      "source": [
        ""
      ],
      "execution_count": null,
      "outputs": []
    },
    {
      "cell_type": "code",
      "metadata": {
        "colab": {
          "base_uri": "https://localhost:8080/"
        },
        "id": "sYvpqddl3Uso",
        "outputId": "7f13f25b-9f23-4adf-dac3-503366c0a77b"
      },
      "source": [
        "for i in range(60,80):\n",
        "  print(\"\\n Predicted summary:\",summarize(x_test_pad[i].reshape(1,max_text_len)))\n",
        "  print(X_test[i])"
      ],
      "execution_count": null,
      "outputs": [
        {
          "output_type": "stream",
          "text": [
            "\n",
            " Predicted summary:  india s first lingerie vending machine to be brought down\n",
            "The Kerala government on Tuesday said the state's tourism sector registered a loss of about ?1,000 crore post the demonetisation drive by the Centre. The number of foreign tourists visiting the state decreased by 10-15% while the number of domestic tourists dipped by 20-30%. The fall is in contrast to the increase in the numbers before demonetisation, the government added. \n",
            "\n",
            " Predicted summary:  i am not a feminist i am a feminist i am scared karan johar\n",
            "A TV channel journalist who was reporting the shortfall of audience at Congress' Jan Aakrosh Rally by showing empty seats at the venue on Sunday was allegedly heckled by some party supporters. Delhi BJP Spokesperson Praveen S Kapoor tweeted a purported video of the incident, asking Congress leaders including Delhi Congress President Ajay Maken to apologise to the journalist.\n",
            "\n",
            " Predicted summary:  i am not a feminist i am a feminist i am scared karan johar\n",
            "Kotak Mahindra's Uday Kotak has said BJP's win in the state polls is positive for economic reforms, and the government should focus on re-activating \"animal spirits\" of the private sector to invest. \"[W]e just need to make sure that we are focused on growing the economy, getting the private sector's animal spirits back, and that will create jobs,\" Kotak said.\n",
            "\n",
            " Predicted summary:  i am not a feminist i am scared of my choice is vicky\n",
            "Television actor Hiten Tejwani has been evicted from the reality show Bigg Boss 11 as his co-contestants chose another contestant Priyank Sharma over him, during the elimination round this week. \"This kind of eviction is a first...We (Priyank and me) had the same number of votes. However, Bigg Boss asked the housemates (contestants) to save one of us,\" said Hiten.\n",
            "\n",
            " Predicted summary:  i am not a feminist i am a feminist i am scared karan johar\n",
            "Filmmaker Karan Johar, while talking about his childhood days, said, \"I used to dance on girls' songs and my friends used to make fun of me.\" \"Upset about this, I went to an elocution teacher at the age of 13 and she said, 'Why do you want to change the way you talk, you're just fine',\" he added.\n",
            "\n",
            " Predicted summary:  i am not a feminist i am a feminist i am scared karan johar\n",
            "After Israeli prison authorities released an image allegedly showing Palestinian prisoners' hunger strike leader Marwan Barghouti eating in his cell, restaurant chain Pizza Hut's Israel branch shared an altered image as an advertisement on social media. \"Barghouti, if you're going to break a strike, why not pizza?\" the food company wrote, adding a photoshopped pizza and box in the picture.\n",
            "\n",
            " Predicted summary:  i am not a feminist i am a feminist i am scared karan johar\n",
            "Most 2,000-year-old Roman monuments employed a mix of local volcanic ash with lime and seawater to make concrete, while modern-day concrete uses Portland cement mixed with sand. While cracks in Portland cement keep growing, Roman concrete structures don't corrode even in sea as seawater filtering through the concrete leads to the growth of interlocking minerals that provide added cohesion.\n",
            "\n",
            " Predicted summary:  i am not a feminist i am a feminist i am scared karan johar\n",
            "Morocco's 31-year-old forward Aziz Bouhaddouz scored an own goal in the 95th minute (injury time) to hand Iran a 1-0 victory in their first match of 2018 FIFA World Cup on Friday. The victory was Iran's first in the quadrennial tournament since 1998 and second overall in World Cup history. Further, it was Morocco's first WC match in 20 years.\n",
            "\n",
            " Predicted summary:  i am not a feminist i am a feminist i am scared karan johar\n",
            "A Karnataka girl's Facebook post about an Ola driver named Sunil, who refused to collect the fare for a trip she booked for her parents to a hospital, has gone viral. Dropping people to hospitals was the driver's way of helping the society, the girl said in her post. \"God bless him and his kind,\" she wrote in her post.\n",
            "\n",
            " Predicted summary:  i am not a feminist i am a feminist i am scared karan johar\n",
            "A government school in West Bengal reportedly distributed maps showing parts of Kashmir in Pakistan during a Geography examination. BJP State General Secretary Raju Banerjee claimed that the map also showed Arunachal Pradesh outside the Indian border. Alleging that the map was circulated by Trinamool Congress-led teachers, BJP said the party supported terrorists. \n",
            "\n",
            " Predicted summary:  i am not a feminist i am a feminist i am scared karan johar\n",
            "External Affairs Minister Sushma Swaraj on Monday said that as many as 80,000 people stranded in foreign countries have been successfully brought back to India in last three years. \"India's relations with nations from around the world have improved significantly. We've closer ties with almost every nation, than what we used to have till a few years ago,\" Swaraj added.\n",
            "\n",
            " Predicted summary:  i am not a feminist i am a feminist i am scared karan johar\n",
            "Infosys announced the appointment of Nilanjan Roy as its Chief Financial Officer (CFO) 1 hour and 8 minutes after Airtel said he resigned as its Global CFO. Roy spent 13 years with Airtel, before which he worked for 15 years with Unilever across their global operations. He is a B.Com (Hons) graduate from Delhi University and also a Chartered Accountant.\n",
            "\n",
            " Predicted summary:  i am not a feminist i am scared of my dad tiger on soty 2\n",
            "Elon Musk-led space exploration startup SpaceX on Sunday aborted its Falcon 9 rocket launch less than 10 seconds before the liftoff. The automated launch was stopped by the computer as something in the guidance system was \"out of limits\". The rocket was set to launch over 5,900-kg Intelsat 35e communications satellite, one of the heaviest satellites SpaceX has ever launched.\n",
            "\n",
            " Predicted summary:  india s first lingerie vending machine to be brought down\n",
            "Addressing Arab leaders in Saudi Arabia on Sunday, US President Donald Trump referred to Islam as \"one of the world's great faiths.\" He also asserted that \"this is not a battle between different faiths\" and urged the leaders to fight \"Islamist extremism\". Notably, Trump referred to \"Islamist extremism\" and not \"radical Islam\", indicating a shift in his earlier stance.\n",
            "\n",
            " Predicted summary:  i am not a feminist i am a feminist i am scared karan johar\n",
            "A 3-foot-long rabbit, which was expected to become the world's biggest rabbit but died on United Airlines' flight, was accidentally shut in a freezer by staff, reports said. An airport worker has revealed the pet was placed in temperatures of 0-2 degree celsius by mistake. The rabbit then reportedly froze to death after being left in there for 16 hours.\n",
            "\n",
            " Predicted summary:  i am not a feminist i am a feminist i am scared karan johar\n",
            "An 18-year-old girl and a policeman were shot dead by three unidentified bike-borne men in Haryana's Rohtak in a suspected case of honour killing. \"Girl's parents had filed a case against her after she married against their choice...she was being produced before court. She was killed in this regard,\" police said. The girl eloped with a Dalit boy last year.\n",
            "\n",
            " Predicted summary:  i am not a feminist i am a feminist i am scared karan johar\n",
            "Twenty-three out of the 107 star tortoises transferred to the Byculla Zoo in Mumbai for rehabilitation two years ago have survived. The anti-poaching unit in Thane this week transported the 23 surviving tortoises to an NGO, which said 15 are in a critical condition and only eight are eating. Byculla Zoo officials said 84 tortoises had died of natural causes. \n",
            "\n",
            " Predicted summary:  i am not a feminist i am a feminist i am scared karan johar\n",
            "Barcelona forward Lionel Messi on Tuesday posted a picture of himself with Luis SuÃÂ¡rez and former Barcelona player Neymar Jr to troll teammate Gerard PiquÃÂ©. Messi captioned the picture, \"He [Neymar] has returned, Gerard PiquÃÂ©\", taking a dig at PiquÃÂ© who had posted a picture of himself with Neymar, saying, \"He stays\", before the Brazilian's record Ã¢ÂÂ¹1670-crore transfer to PSG.\n",
            "\n",
            " Predicted summary:  i am not a feminist i am a feminist i am scared karan johar\n",
            "American fast-food chain Burger King trolled US President Donald Trump for his tweet about ordering more than 1,000 \"hamberders\" for the Clemson Tigers, winners of the US college football championship. Trump later reposted the tweet without the typo. Mocking Trump, Burger King tweeted, \"due to a large order placed yesterday, we're all out of hamberders. just serving hamburgers today.\"\n",
            "\n",
            " Predicted summary:  us to classify data on syria chemical attacks russia\n",
            "The BJP on Saturday released its first list of candidates for elections in Chhattisgarh, Telangana and Mizoram. The party announced names of 77 candidates for Chhattisgarh, 38 for Telangana and 13 for Mizoram. The two-phased Chhattisgarh elections will be on November 12 and 20 while polling in Mizoram and Telangana will take place on November 28 and December 7 respectively.\n"
          ],
          "name": "stdout"
        }
      ]
    },
    {
      "cell_type": "code",
      "metadata": {
        "colab": {
          "base_uri": "https://localhost:8080/"
        },
        "id": "Y3mvs1_03Usr",
        "outputId": "d1c969d7-f958-4e5c-a980-d9039908e7b8"
      },
      "source": [
        "for i in range(60,80):\n",
        "  print(\"\\n Predicted summary:\",summarize(x_train[i].reshape(1,max_text_len)))\n",
        "  #print(x_train[i])\n",
        "  print([ text_index_dice[X] for X in x_train[i] if X != 0]) "
      ],
      "execution_count": null,
      "outputs": [
        {
          "output_type": "stream",
          "text": [
            "\n",
            " Predicted summary:  us to classify data on syria chemical attacks russia\n",
            "['technology', 'giant', 'google', 'extended', 'warranty', 'pixel', '2', 'pixel', '2', 'xl', 'smartphones', 'two', 'years', 'vp', 'product', 'management', 'mario', 'queiroz', 'announced', 'comes', 'users', 'reported', 'pixel', '2', 'xl', 'screens', 'turning', 'grey', 'suggesting', 'burnin', 'google', 'also', 'add', 'mode', 'saturated', 'colours', 'via', 'software', 'update', 'devices', 'tackle', 'issue']\n",
            "\n",
            " Predicted summary:  i am not a feminist i am a feminist i am scared karan johar\n",
            "['minister', 'state', 'civil', 'aviation', 'jayant', 'sinha', 'tuesday', 'said', '285', 'theft', 'cases', 'reported', '13', 'airports', 'three', 'years', 'till', 'february', '2017', 'asserting', 'significant', 'increase', 'cases', 'sinha', 'said', 'six', 'theft', 'cases', 'reported', 'year', 'count', '64', '2016', '101', '2015', '114', '2014']\n",
            "\n",
            " Predicted summary:  i am not a feminist i am a feminist i am scared karan johar\n",
            "['tesla', 'said', 'driver', 'model', 'x', 'car', 'crashed', 'us', 'last', 'week', 'received', 'warnings', 'hands', 'detected', 'wheel', 'six', 'seconds', 'prior', 'collision', 'car', 'autopilot', 'mode', 'accident', 'killed', 'driver', 'took', 'place', 'driver', 'five', 'seconds', 'action', 'taken', 'tesla', 'added']\n",
            "\n",
            " Predicted summary:  i am not a feminist i am a feminist i am scared karan johar\n",
            "['bollywood', 'celebrities', 'including', 'salman', 'khan', 'shah', 'rukh', 'khan', 'katrina', 'kaif', 'karan', 'johar', 'attended', 'salman', 'adopted', 'sister', 'arpita', 'khan', 'sharma', 'prediwali', 'party', 'shilpa', 'shetty', 'wore', 'outfit', 'falguni', 'shane', 'peacock', 'dia', 'mirza', 'sported', 'outfit', 'raw', 'mango', 'also', 'present', 'event', 'fashion', 'designers', 'manish', 'malhotra', 'masaba', 'gupta', 'also', 'spotted']\n",
            "\n",
            " Predicted summary:  us to classify data on syria chemical attack submarines\n",
            "['indian', 'coast', 'guard', 'helicopter', 'made', 'emergency', 'landing', 'detecting', 'technical', 'difficulties', 'maharashtra', 'raigad', 'district', 'saturday', 'several', 'helicopters', 'sent', 'respond', 'situation', 'four', 'crew', 'members', 'flown', 'naval', 'hospital', 'female', 'pilot', 'said', 'injured', 'currently', 'undergoing', 'treatment']\n",
            "\n",
            " Predicted summary:  i am not a feminist i am a feminist i am scared karan johar\n",
            "['fake', 'town', 'agloe', 'new', 'york', 'invented', 'cartographical', 'ploy', '1930s', 'stop', 'people', 'plagiarising', 'map', 'however', 'another', 'cartographer', 'included', 'place', 'map', 'observed', 'agloe', 'general', 'store', 'actually', 'built', 'exact', 'place', 'agloe', 'located', 'company', 'maps']\n",
            "\n",
            " Predicted summary:  i am not a feminist i am a feminist i am scared karan johar\n",
            "['24yearold', 'dance', 'trainer', 'arrested', 'allegedly', 'raping', '16yearold', 'student', 'ghaziabad', 'parents', 'arrested', 'alleged', 'involvement', 'extorting', 'money', 'trainer', 'allegedly', 'threatened', 'girl', 'claiming', 'shot', 'videos', 'would', 'make', 'public', 'give', 'money', 'parents', 'realised', 'nearly', '1', 'lakh', 'went', 'missing']\n",
            "\n",
            " Predicted summary:  i am not a feminist i am a feminist i am scared karan johar\n",
            "['nba', 'star', 'lebron', 'james', 'passed', 'ball', 'backboard', 'slam', 'dunk', 'opening', 'minutes', 'nba', 'finals', 'game', '3', 'wednesday', 'james', 'plays', 'cleveland', 'cavaliers', 'ducked', 'past', 'golden', 'state', 'defender', 'threw', 'ball', 'backboard', 'caught', 'rebound', 'completing', 'dunk', 'referred', 'solo', 'alleyoop']\n",
            "\n",
            " Predicted summary:  i am not a feminist i am a feminist i am scared karan johar\n",
            "['minister', 'narendra', 'modi', 'thursday', 'added', 'jai', 'anusandhan', 'hail', 'research', 'slogan', 'jai', 'jawan', 'jai', 'kisan', 'jai', 'vigyan', 'inaugurating', '106th', 'indian', 'science', 'congress', 'isc', 'congress', 'attended', 'around', '20', '000', 'scientists', '60', 'countries', 'notably', 'atal', 'bihari', 'vajpayee', 'added', 'jai', 'vigyan', '1998', 'lal', 'bahadur', 'shastri', 'jai', 'jawan', 'jai', 'kisan', 'slogan', '1965']\n",
            "\n",
            " Predicted summary:  india s first lingerie vending machine to be brought down\n",
            "['congress', 'president', 'rahul', 'gandhi', 'denial', 'party', 'criminal', 'involvement', '1984', 'antisikh', 'riots', 'bjp', 'leader', 'tajinder', 'pal', 'singh', 'placed', 'hoardings', 'delhi', 'reading', 'rajiv', 'gandhi', 'father', 'mob', 'lynching', 'bjp', 'leader', 'also', 'shared', 'video', 'hoarding', 'twitter', 'around', '3', '000', 'sikhs', 'killed', '1984', 'riots', 'congress', 'centre']\n",
            "\n",
            " Predicted summary:  i am not a feminist i am a feminist i am scared karan johar\n",
            "['former', 'pakistani', 'captain', 'shahid', 'afridi', 'auctioned', 'autographed', 'virat', 'kohli', 'jersey', 'given', 'indian', 'team', 'raise', 'funds', 'charity', 'organisation', 'jersey', 'presented', 'afridi', 'retired', 'earlier', 'year', 'sold', '4', '300', '3', 'lakh', 'london', 'carries', 'signatures', 'indian', 'players', 'along', 'coach', 'ravi', 'shastri']\n",
            "\n",
            " Predicted summary:  i am not a feminist i am a feminist i am scared karan johar\n",
            "['chandigarh', 'man', 'arrested', 'allegedly', 'killed', 'labourer', 'fake', 'death', 'life', 'insurance', 'claim', 'police', 'said', 'accused', 'aakash', 'allegedly', 'burnt', 'car', 'body', 'found', 'police', 'arrested', 'nephew', 'well', 'became', 'suspicious', 'labourer', 'worked', 'aakash', 'reported', 'missing']\n",
            "\n",
            " Predicted summary:  i am not a feminist i am a feminist i am scared karan johar\n",
            "['tunisian', 'man', 'allegedly', 'served', 'former', 'alqaeda', 'chief', 'osama', 'bin', 'laden', 'bodyguard', 'receives', 'nearly', '94', '000', 'month', 'welfare', 'payments', 'germany', 'sami', 'living', 'germany', 'bochum', 'decade', 'report', 'police', 'daily', 'germany', 'refused', 'deport', 'tunisia', 'fears', 'could', 'tortured']\n",
            "\n",
            " Predicted summary:  india s first lingerie vending machine to be brought down\n",
            "['pakistan', 'army', 'spokesperson', 'major', 'general', 'asif', 'ghafoor', 'admitted', 'associations', 'terrorist', 'groups', 'country', 'top', 'intelligence', 'agency', 'interservices', 'intelligence', 'however', 'added', 'links', 'necessarily', 'mean', 'support', 'terror', 'organisations', 'ghafoor', 'added', 'government', 'discussing', 'ways', 'integrate', 'militantlinked', 'groups', 'country', 'mainstream', 'politics']\n",
            "\n",
            " Predicted summary:  i am not a feminist i am a feminist i am scared karan johar\n",
            "['central', 'university', 'gujarat', 'issued', 'show', 'cause', 'notices', 'nine', 'professors', 'based', 'complaint', 'campaigned', 'congress', 'patidar', 'leader', 'hardik', 'patel', 'assembly', 'elections', 'complaint', 'alleged', 'professors', 'turning', 'government', 'university', 'another', 'jnu', 'attached', 'photos', 'professors', 'event', 'held', 'congress', 'president', 'rahul', 'gandhi']\n",
            "\n",
            " Predicted summary:  i am not a feminist i am a feminist i am scared karan johar\n",
            "['researchers', 'mit', 'developed', 'system', 'mosculp', 'transform', 'videos', '3d', 'motion', 'sculptures', 'using', '2d', 'video', 'input', 'system', 'deploys', 'algorithm', 'create', 'motion', 'sculptures', 'person', 'body', 'moving', 'space', 'automatically', 'detects', 'human', 'body', 'key', 'points', 'takes', 'best', 'possible', 'poses', 'points', 'create', '3d', 'sculpture']\n",
            "\n",
            " Predicted summary:  i am not a feminist i am a feminist i am scared karan johar\n",
            "['quoting', 'dialogue', 'recently', 'released', 'film', 'uri', 'surgical', 'strike', 'pm', 'narendra', 'modi', 'asked', 'audience', 'inauguration', 'national', 'museum', 'indian', 'cinema', 'mumbai', 'josh', 'members', 'audience', 'heard', 'saying', 'high', 'sir', 'responsethe', 'ceremony', 'attended', 'aamir', 'khan', 'kangana', 'ranaut', 'karan', 'johar', 'rohit', 'shetty', 'among', 'others']\n",
            "\n",
            " Predicted summary:  i am not a feminist i am scared of my dad tiger on soty 2\n",
            "['facebook', 'microsoft', 'twitter', 'googleowned', 'youtube', 'monday', 'announced', 'global', 'internet', 'forum', 'counter', 'terrorism', 'companies', 'collaborate', 'engineering', 'solutions', 'target', 'remove', 'recruiting', 'materials', 'posted', 'terror', 'groups', 'december', '2016', 'four', 'companies', 'created', 'shared', 'industry', 'hash', 'database', 'allowing', 'companies', 'collectively', 'identify', 'terror', 'accounts']\n",
            "\n",
            " Predicted summary:  i am not a feminist i am scared i m pregnant serena\n",
            "['one', 'tiger', 'cubs', 'born', 'nandankanan', 'zoological', 'park', 'near', 'bhubaneswar', 'odisha', 'named', 'baahubali', 'cub', 'named', 'presence', 'odisha', 'forest', 'environment', 'minister', 'majority', 'zoo', 'visitors', 'suggested', 'name', 'six', 'cubs', 'named', 'kundan', 'adyasha', 'sahil', 'vicky', 'sinu', 'mousumi']\n",
            "\n",
            " Predicted summary:  i am not a feminist i am a feminist i am scared karan johar\n",
            "['28yearold', 'daily', 'wager', 'arrested', 'allegedly', 'kissing', 'state', 'government', 'officer', 'mumbai', 'chhatrapati', 'shivaji', 'maharaj', 'terminus', 'railway', 'station', 'friday', 'man', 'stalking', 'woman', 'past', 'two', 'days', 'kissed', 'phone', 'call', 'colleague', 'authorities', 'said', 'man', 'arrested', 'officer', 'raised', 'alarm']\n"
          ],
          "name": "stdout"
        }
      ]
    }
  ]
}