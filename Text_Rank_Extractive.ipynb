{
  "nbformat": 4,
  "nbformat_minor": 0,
  "metadata": {
    "kernelspec": {
      "display_name": "Python 3",
      "language": "python",
      "name": "python3"
    },
    "language_info": {
      "codemirror_mode": {
        "name": "ipython",
        "version": 3
      },
      "file_extension": ".py",
      "mimetype": "text/x-python",
      "name": "python",
      "nbconvert_exporter": "python",
      "pygments_lexer": "ipython3",
      "version": "3.8.5"
    },
    "colab": {
      "name": "Text-Rank-Extractive.ipynb",
      "provenance": [],
      "collapsed_sections": []
    }
  },
  "cells": [
    {
      "cell_type": "markdown",
      "metadata": {
        "id": "VXAMiAe5Ldrl"
      },
      "source": [
        "**Important Note: This notebook is run on Google Colab due to dependcies issues with anaconda!**"
      ]
    },
    {
      "cell_type": "markdown",
      "metadata": {
        "id": "0nziY1KOlewt"
      },
      "source": [
        "# **Imports**"
      ]
    },
    {
      "cell_type": "code",
      "metadata": {
        "colab": {
          "base_uri": "https://localhost:8080/"
        },
        "id": "UvZqMilzlewt",
        "outputId": "7094b6fc-59cb-47ea-9b16-b603ed9060c3"
      },
      "source": [
        "!pip install gensim"
      ],
      "execution_count": null,
      "outputs": [
        {
          "output_type": "stream",
          "text": [
            "Requirement already satisfied: gensim in /usr/local/lib/python3.7/dist-packages (3.6.0)\n",
            "Requirement already satisfied: scipy>=0.18.1 in /usr/local/lib/python3.7/dist-packages (from gensim) (1.4.1)\n",
            "Requirement already satisfied: smart-open>=1.2.1 in /usr/local/lib/python3.7/dist-packages (from gensim) (5.1.0)\n",
            "Requirement already satisfied: numpy>=1.11.3 in /usr/local/lib/python3.7/dist-packages (from gensim) (1.19.5)\n",
            "Requirement already satisfied: six>=1.5.0 in /usr/local/lib/python3.7/dist-packages (from gensim) (1.15.0)\n"
          ],
          "name": "stdout"
        }
      ]
    },
    {
      "cell_type": "code",
      "metadata": {
        "id": "UJYpDk4Nlewv"
      },
      "source": [
        "import pandas as pd\n",
        "from sklearn.model_selection import train_test_split\n",
        "import nltk\n",
        "from nltk.corpus import wordnet as wn\n",
        "from nltk.corpus import stopwords\n",
        "from nltk.tokenize import sent_tokenize, word_tokenize\n",
        "from nltk.stem.porter import PorterStemmer\n",
        "import math\n",
        "import numpy as np\n",
        "import pickle\n",
        "from gensim.models import Word2Vec\n",
        "from scipy import spatial\n",
        "import networkx as nx\n",
        "import time"
      ],
      "execution_count": null,
      "outputs": []
    },
    {
      "cell_type": "code",
      "metadata": {
        "colab": {
          "base_uri": "https://localhost:8080/"
        },
        "id": "_m5mbYRjP3w0",
        "outputId": "1ae63304-3efe-40cb-c17b-e587323b9e6c"
      },
      "source": [
        "nltk.download('punkt')\n",
        "nltk.download('stopwords')\n",
        "nltk.download('wordnet')"
      ],
      "execution_count": null,
      "outputs": [
        {
          "output_type": "stream",
          "text": [
            "[nltk_data] Downloading package punkt to /root/nltk_data...\n",
            "[nltk_data]   Unzipping tokenizers/punkt.zip.\n",
            "[nltk_data] Downloading package stopwords to /root/nltk_data...\n",
            "[nltk_data]   Unzipping corpora/stopwords.zip.\n",
            "[nltk_data] Downloading package wordnet to /root/nltk_data...\n",
            "[nltk_data]   Unzipping corpora/wordnet.zip.\n"
          ],
          "name": "stdout"
        },
        {
          "output_type": "execute_result",
          "data": {
            "text/plain": [
              "True"
            ]
          },
          "metadata": {
            "tags": []
          },
          "execution_count": 4
        }
      ]
    },
    {
      "cell_type": "code",
      "metadata": {
        "id": "IJBvrwj9P6KH"
      },
      "source": [
        "# Get the English stop words\n",
        "stop_words = set(stopwords.words('english')) \n",
        "my_stopwords = stopwords.words()\n",
        "# Create the stemmer\n",
        "stemmer = PorterStemmer()"
      ],
      "execution_count": null,
      "outputs": []
    },
    {
      "cell_type": "markdown",
      "metadata": {
        "id": "uPom6jXCleww"
      },
      "source": [
        "## **Importing dataset**"
      ]
    },
    {
      "cell_type": "code",
      "metadata": {
        "id": "OeG1cfRIleww"
      },
      "source": [
        "data = pd.read_csv('news_summary.csv', encoding='latin-1') #check encodings types"
      ],
      "execution_count": null,
      "outputs": []
    },
    {
      "cell_type": "markdown",
      "metadata": {
        "id": "Gb0IpPKIR13s"
      },
      "source": [
        "# **Exploring the dataset**"
      ]
    },
    {
      "cell_type": "code",
      "metadata": {
        "colab": {
          "base_uri": "https://localhost:8080/"
        },
        "id": "43F81NlRQBnV",
        "outputId": "af925ead-bbb6-42af-e2ca-c35f38b139fe"
      },
      "source": [
        "data.info()"
      ],
      "execution_count": null,
      "outputs": [
        {
          "output_type": "stream",
          "text": [
            "<class 'pandas.core.frame.DataFrame'>\n",
            "RangeIndex: 4514 entries, 0 to 4513\n",
            "Data columns (total 6 columns):\n",
            " #   Column     Non-Null Count  Dtype \n",
            "---  ------     --------------  ----- \n",
            " 0   author     4514 non-null   object\n",
            " 1   date       4514 non-null   object\n",
            " 2   headlines  4514 non-null   object\n",
            " 3   read_more  4514 non-null   object\n",
            " 4   text       4514 non-null   object\n",
            " 5   ctext      4396 non-null   object\n",
            "dtypes: object(6)\n",
            "memory usage: 211.7+ KB\n"
          ],
          "name": "stdout"
        }
      ]
    },
    {
      "cell_type": "code",
      "metadata": {
        "colab": {
          "base_uri": "https://localhost:8080/",
          "height": 281
        },
        "id": "sy7aKuXbQB8u",
        "outputId": "cf4f150a-8a7e-4e24-95a4-cc2fcf7487ee"
      },
      "source": [
        "data.head()"
      ],
      "execution_count": null,
      "outputs": [
        {
          "output_type": "execute_result",
          "data": {
            "text/html": [
              "<div>\n",
              "<style scoped>\n",
              "    .dataframe tbody tr th:only-of-type {\n",
              "        vertical-align: middle;\n",
              "    }\n",
              "\n",
              "    .dataframe tbody tr th {\n",
              "        vertical-align: top;\n",
              "    }\n",
              "\n",
              "    .dataframe thead th {\n",
              "        text-align: right;\n",
              "    }\n",
              "</style>\n",
              "<table border=\"1\" class=\"dataframe\">\n",
              "  <thead>\n",
              "    <tr style=\"text-align: right;\">\n",
              "      <th></th>\n",
              "      <th>author</th>\n",
              "      <th>date</th>\n",
              "      <th>headlines</th>\n",
              "      <th>read_more</th>\n",
              "      <th>text</th>\n",
              "      <th>ctext</th>\n",
              "    </tr>\n",
              "  </thead>\n",
              "  <tbody>\n",
              "    <tr>\n",
              "      <th>0</th>\n",
              "      <td>Chhavi Tyagi</td>\n",
              "      <td>03 Aug 2017,Thursday</td>\n",
              "      <td>Daman &amp; Diu revokes mandatory Rakshabandhan in...</td>\n",
              "      <td>http://www.hindustantimes.com/india-news/raksh...</td>\n",
              "      <td>The Administration of Union Territory Daman an...</td>\n",
              "      <td>The Daman and Diu administration on Wednesday ...</td>\n",
              "    </tr>\n",
              "    <tr>\n",
              "      <th>1</th>\n",
              "      <td>Daisy Mowke</td>\n",
              "      <td>03 Aug 2017,Thursday</td>\n",
              "      <td>Malaika slams user who trolled her for 'divorc...</td>\n",
              "      <td>http://www.hindustantimes.com/bollywood/malaik...</td>\n",
              "      <td>Malaika Arora slammed an Instagram user who tr...</td>\n",
              "      <td>From her special numbers to TV?appearances, Bo...</td>\n",
              "    </tr>\n",
              "    <tr>\n",
              "      <th>2</th>\n",
              "      <td>Arshiya Chopra</td>\n",
              "      <td>03 Aug 2017,Thursday</td>\n",
              "      <td>'Virgin' now corrected to 'Unmarried' in IGIMS...</td>\n",
              "      <td>http://www.hindustantimes.com/patna/bihar-igim...</td>\n",
              "      <td>The Indira Gandhi Institute of Medical Science...</td>\n",
              "      <td>The Indira Gandhi Institute of Medical Science...</td>\n",
              "    </tr>\n",
              "    <tr>\n",
              "      <th>3</th>\n",
              "      <td>Sumedha Sehra</td>\n",
              "      <td>03 Aug 2017,Thursday</td>\n",
              "      <td>Aaj aapne pakad liya: LeT man Dujana before be...</td>\n",
              "      <td>http://indiatoday.intoday.in/story/abu-dujana-...</td>\n",
              "      <td>Lashkar-e-Taiba's Kashmir commander Abu Dujana...</td>\n",
              "      <td>Lashkar-e-Taiba's Kashmir commander Abu Dujana...</td>\n",
              "    </tr>\n",
              "    <tr>\n",
              "      <th>4</th>\n",
              "      <td>Aarushi Maheshwari</td>\n",
              "      <td>03 Aug 2017,Thursday</td>\n",
              "      <td>Hotel staff to get training to spot signs of s...</td>\n",
              "      <td>http://indiatoday.intoday.in/story/sex-traffic...</td>\n",
              "      <td>Hotels in Maharashtra will train their staff t...</td>\n",
              "      <td>Hotels in Mumbai and other Indian cities are t...</td>\n",
              "    </tr>\n",
              "  </tbody>\n",
              "</table>\n",
              "</div>"
            ],
            "text/plain": [
              "               author  ...                                              ctext\n",
              "0        Chhavi Tyagi  ...  The Daman and Diu administration on Wednesday ...\n",
              "1         Daisy Mowke  ...  From her special numbers to TV?appearances, Bo...\n",
              "2      Arshiya Chopra  ...  The Indira Gandhi Institute of Medical Science...\n",
              "3       Sumedha Sehra  ...  Lashkar-e-Taiba's Kashmir commander Abu Dujana...\n",
              "4  Aarushi Maheshwari  ...  Hotels in Mumbai and other Indian cities are t...\n",
              "\n",
              "[5 rows x 6 columns]"
            ]
          },
          "metadata": {
            "tags": []
          },
          "execution_count": 8
        }
      ]
    },
    {
      "cell_type": "code",
      "metadata": {
        "colab": {
          "base_uri": "https://localhost:8080/"
        },
        "id": "fgGP3KQSQFAP",
        "outputId": "fa26549f-5290-4ffc-fa68-74f7eda07c9c"
      },
      "source": [
        "duplicateRows1 = data[data.duplicated(subset=['ctext'])]\n",
        "print('complete text duplicates')\n",
        "print(duplicateRows1)"
      ],
      "execution_count": null,
      "outputs": [
        {
          "output_type": "stream",
          "text": [
            "complete text duplicates\n",
            "                  author  ...                                              ctext\n",
            "42          Chhavi Tyagi  ...  The Daman and Diu administration on Wednesday ...\n",
            "190         Chhavi Tyagi  ...  Charges and counter charges flew in the Lok Sa...\n",
            "231   Niharika Prabhakar  ...                                                NaN\n",
            "286        Saloni Tandon  ...                                                NaN\n",
            "368         Chhavi Tyagi  ...  Bihar chief minister Nitish Kumar comfortably ...\n",
            "...                  ...  ...                                                ...\n",
            "4381        Chhavi Tyagi  ...  Rounding off a day of hectic electioneering in...\n",
            "4423      Mansha Mahajan  ...                                                NaN\n",
            "4454     Abhishek Bansal  ...                                                NaN\n",
            "4500      Mansha Mahajan  ...                                                NaN\n",
            "4508        Tarun Khanna  ...                                                NaN\n",
            "\n",
            "[172 rows x 6 columns]\n"
          ],
          "name": "stdout"
        }
      ]
    },
    {
      "cell_type": "code",
      "metadata": {
        "colab": {
          "base_uri": "https://localhost:8080/"
        },
        "id": "25AT1FHiQFfa",
        "outputId": "6b9b95d2-2117-450c-d9bf-7b5daa0d2111"
      },
      "source": [
        "print(str(data[4283:4284]['text']))\n",
        "print(str(data[4285:4286]['text']))"
      ],
      "execution_count": null,
      "outputs": [
        {
          "output_type": "stream",
          "text": [
            "4283    Elections in Goa ended up in a hung Assembly, ...\n",
            "Name: text, dtype: object\n",
            "4285    Uttar Pradesh Chief Minister Akhilesh Yadav on...\n",
            "Name: text, dtype: object\n"
          ],
          "name": "stdout"
        }
      ]
    },
    {
      "cell_type": "code",
      "metadata": {
        "colab": {
          "base_uri": "https://localhost:8080/"
        },
        "id": "JVLM_NoiQHXK",
        "outputId": "61a7ae35-49a7-4cd2-97ad-9fcfac454fb9"
      },
      "source": [
        "duplicateRows2 = data[data.duplicated(subset=['text'])]\n",
        "print('summary text duplicates',duplicateRows2)"
      ],
      "execution_count": null,
      "outputs": [
        {
          "output_type": "stream",
          "text": [
            "summary text duplicates Empty DataFrame\n",
            "Columns: [author, date, headlines, read_more, text, ctext]\n",
            "Index: []\n"
          ],
          "name": "stdout"
        }
      ]
    },
    {
      "cell_type": "code",
      "metadata": {
        "colab": {
          "base_uri": "https://localhost:8080/"
        },
        "id": "MZIO5sprQKxw",
        "outputId": "3a0d9776-be2b-43a9-aaa0-ee6cbe4a230e"
      },
      "source": [
        "duplicateRows3 = data[data.duplicated(subset=['headlines'])]\n",
        "print('headlines duplicates',duplicateRows3)"
      ],
      "execution_count": null,
      "outputs": [
        {
          "output_type": "stream",
          "text": [
            "headlines duplicates Empty DataFrame\n",
            "Columns: [author, date, headlines, read_more, text, ctext]\n",
            "Index: []\n"
          ],
          "name": "stdout"
        }
      ]
    },
    {
      "cell_type": "code",
      "metadata": {
        "colab": {
          "base_uri": "https://localhost:8080/",
          "height": 197
        },
        "id": "jsKci1n4QNQg",
        "outputId": "30e59ac0-746f-48a7-9575-a6abecf92aea"
      },
      "source": [
        "selected_features = data[['headlines','text']]\n",
        "selected_features.head()"
      ],
      "execution_count": null,
      "outputs": [
        {
          "output_type": "execute_result",
          "data": {
            "text/html": [
              "<div>\n",
              "<style scoped>\n",
              "    .dataframe tbody tr th:only-of-type {\n",
              "        vertical-align: middle;\n",
              "    }\n",
              "\n",
              "    .dataframe tbody tr th {\n",
              "        vertical-align: top;\n",
              "    }\n",
              "\n",
              "    .dataframe thead th {\n",
              "        text-align: right;\n",
              "    }\n",
              "</style>\n",
              "<table border=\"1\" class=\"dataframe\">\n",
              "  <thead>\n",
              "    <tr style=\"text-align: right;\">\n",
              "      <th></th>\n",
              "      <th>headlines</th>\n",
              "      <th>text</th>\n",
              "    </tr>\n",
              "  </thead>\n",
              "  <tbody>\n",
              "    <tr>\n",
              "      <th>0</th>\n",
              "      <td>Daman &amp; Diu revokes mandatory Rakshabandhan in...</td>\n",
              "      <td>The Administration of Union Territory Daman an...</td>\n",
              "    </tr>\n",
              "    <tr>\n",
              "      <th>1</th>\n",
              "      <td>Malaika slams user who trolled her for 'divorc...</td>\n",
              "      <td>Malaika Arora slammed an Instagram user who tr...</td>\n",
              "    </tr>\n",
              "    <tr>\n",
              "      <th>2</th>\n",
              "      <td>'Virgin' now corrected to 'Unmarried' in IGIMS...</td>\n",
              "      <td>The Indira Gandhi Institute of Medical Science...</td>\n",
              "    </tr>\n",
              "    <tr>\n",
              "      <th>3</th>\n",
              "      <td>Aaj aapne pakad liya: LeT man Dujana before be...</td>\n",
              "      <td>Lashkar-e-Taiba's Kashmir commander Abu Dujana...</td>\n",
              "    </tr>\n",
              "    <tr>\n",
              "      <th>4</th>\n",
              "      <td>Hotel staff to get training to spot signs of s...</td>\n",
              "      <td>Hotels in Maharashtra will train their staff t...</td>\n",
              "    </tr>\n",
              "  </tbody>\n",
              "</table>\n",
              "</div>"
            ],
            "text/plain": [
              "                                           headlines                                               text\n",
              "0  Daman & Diu revokes mandatory Rakshabandhan in...  The Administration of Union Territory Daman an...\n",
              "1  Malaika slams user who trolled her for 'divorc...  Malaika Arora slammed an Instagram user who tr...\n",
              "2  'Virgin' now corrected to 'Unmarried' in IGIMS...  The Indira Gandhi Institute of Medical Science...\n",
              "3  Aaj aapne pakad liya: LeT man Dujana before be...  Lashkar-e-Taiba's Kashmir commander Abu Dujana...\n",
              "4  Hotel staff to get training to spot signs of s...  Hotels in Maharashtra will train their staff t..."
            ]
          },
          "metadata": {
            "tags": []
          },
          "execution_count": 13
        }
      ]
    },
    {
      "cell_type": "code",
      "metadata": {
        "colab": {
          "base_uri": "https://localhost:8080/"
        },
        "id": "wam8DNK4QOux",
        "outputId": "2dc93dc7-74f7-4f10-cc4f-f5b5a8a44520"
      },
      "source": [
        "selected_features.isnull().values.any()\n"
      ],
      "execution_count": null,
      "outputs": [
        {
          "output_type": "execute_result",
          "data": {
            "text/plain": [
              "False"
            ]
          },
          "metadata": {
            "tags": []
          },
          "execution_count": 14
        }
      ]
    },
    {
      "cell_type": "code",
      "metadata": {
        "colab": {
          "base_uri": "https://localhost:8080/"
        },
        "id": "grRXXpoMQO5a",
        "outputId": "cf0266ee-510b-4ebc-f869-9df9df1af760"
      },
      "source": [
        "X = selected_features['text'].values\n",
        "Y = selected_features['headlines'].values\n",
        "type(X)"
      ],
      "execution_count": null,
      "outputs": [
        {
          "output_type": "execute_result",
          "data": {
            "text/plain": [
              "numpy.ndarray"
            ]
          },
          "metadata": {
            "tags": []
          },
          "execution_count": 15
        }
      ]
    },
    {
      "cell_type": "markdown",
      "metadata": {
        "id": "HFxrcnsVca-w"
      },
      "source": [
        "**This part (train_test_split) is mainly for the abstractive models and nothing to do with the extracctive models.**"
      ]
    },
    {
      "cell_type": "code",
      "metadata": {
        "colab": {
          "base_uri": "https://localhost:8080/"
        },
        "id": "W7WlgZS2QSAv",
        "outputId": "d0541dbf-8fd2-438c-a417-bff375ea358f"
      },
      "source": [
        "X_train, X_test, y_train, y_test = train_test_split(X,Y, test_size = 0.2, random_state = 25)\n",
        "X_train.shape, X_test.shape"
      ],
      "execution_count": null,
      "outputs": [
        {
          "output_type": "execute_result",
          "data": {
            "text/plain": [
              "((3611,), (903,))"
            ]
          },
          "metadata": {
            "tags": []
          },
          "execution_count": 36
        }
      ]
    },
    {
      "cell_type": "markdown",
      "metadata": {
        "id": "PIr7YR5jRweG"
      },
      "source": [
        "# **Extractive Approach : TF-IDF**"
      ]
    },
    {
      "cell_type": "markdown",
      "metadata": {
        "id": "uag9jCQgSPIj"
      },
      "source": [
        "## **Main Functions**"
      ]
    },
    {
      "cell_type": "code",
      "metadata": {
        "id": "VXN8md6QQoRx"
      },
      "source": [
        "def apply_preprocessing(text):\n",
        "    original_sentences = sent_tokenize(text.lower())\n",
        "    sentences = []\n",
        "    # Sentences Pre-processing\n",
        "    for sent in original_sentences:\n",
        "        tokens = [item for item in word_tokenize(sent) if item not in my_stopwords and item != '.' and item.isalpha()] # Preprocessing\n",
        "        sentences.append(' '.join([stemmer.stem(token) for token in tokens])) # Stemming\n",
        "    return original_sentences, sentences\n",
        "\n",
        "def word_tf(word,sentence):\n",
        "    #tf_score =  sentence.count(word)/ len(sentence)\n",
        "    return sentence.count(word)/ len(sentence)\n",
        "\n",
        "def word_idf(word, sentences):\n",
        "    return math.log10(' '.join(sentences).count(word)/ len(sentences))\n",
        "\n",
        "def word_in_sentence_tfidf(word, sentence, sentences):\n",
        "    return word_tf(word,sentence)*word_idf(word, sentences)\n",
        "\n",
        "def sentence_score(sentence, sentences):\n",
        "    return sum([word_in_sentence_tfidf(word, sentence, sentences) for word in sentence])\n",
        "\n",
        "def sentences_scores(sentences):\n",
        "    return [sentence_score(sent, sentences) for sent in sentences]\n",
        "\n",
        "def get_best_k_sentences_indecies(k, sentences, original_sentences):\n",
        "    #lista = sorted(list(np.argsort(sentences_scores(sentences))[-k:-1]))\n",
        "    return sorted(list(np.argsort(sentences_scores(sentences))[-k:]))\n",
        "\n",
        "def get_best_k_sentences(k, sentences, original_sentences):\n",
        "    return [original_sentences[idx] for idx in get_best_k_sentences_indecies(k, sentences, original_sentences)]\n",
        "\n",
        "def summarize(text, k):\n",
        "    # Apply preprocessing\n",
        "    original_sentences, sentences = apply_preprocessing(text)\n",
        "    # Summariez\n",
        "    return ' '.join(get_best_k_sentences(k, sentences, original_sentences))"
      ],
      "execution_count": null,
      "outputs": []
    },
    {
      "cell_type": "markdown",
      "metadata": {
        "id": "MNNDtE3LVGbz"
      },
      "source": [
        "## **Experiments & Results**"
      ]
    },
    {
      "cell_type": "code",
      "metadata": {
        "colab": {
          "base_uri": "https://localhost:8080/"
        },
        "id": "j6If1CVXTzbo",
        "outputId": "600d2b02-8a6e-4122-e9f3-02c440b1f11c"
      },
      "source": [
        "ext_summaries = []\n",
        "n_sentences = 1\n",
        "start_time = time.time()\n",
        "for txt in X_train:\n",
        "    ext_summaries.append(summarize(txt, n_sentences))\n",
        "print('Elapsed time is {:.3f} seconds'.format(time.time()-start_time))"
      ],
      "execution_count": null,
      "outputs": [
        {
          "output_type": "stream",
          "text": [
            "Elapsed time is 22.816 seconds\n"
          ],
          "name": "stdout"
        }
      ]
    },
    {
      "cell_type": "code",
      "metadata": {
        "colab": {
          "base_uri": "https://localhost:8080/"
        },
        "id": "0MYAohLda9_W",
        "outputId": "c250739b-4b6e-42a9-b0d6-7611015421c6"
      },
      "source": [
        "#Take a look at the output\n",
        "print('the news: ', X_train[19])\n",
        "print('===========================================')\n",
        "print('the generated summary: ', ext_summaries[19])"
      ],
      "execution_count": null,
      "outputs": [
        {
          "output_type": "stream",
          "text": [
            "the news:  Tamil Nadu Milk and Dairy Products Development Minister Rajenthra Bhalaji has alleged that products of private milk producers are adulterated. In a press briefing, Bhalaji held milk products by Nestle and Reliance, affirming that he had laboratory results which show that these are contaminated. He further alleged that there are contents of caustic soda and bleaching powder in the products.\n",
            "===========================================\n",
            "the generated summary:  tamil nadu milk and dairy products development minister rajenthra bhalaji has alleged that products of private milk producers are adulterated.\n"
          ],
          "name": "stdout"
        }
      ]
    },
    {
      "cell_type": "markdown",
      "metadata": {
        "id": "XOBNwn7UbeZf"
      },
      "source": [
        "# **Extractive Approach : TextRank**"
      ]
    },
    {
      "cell_type": "markdown",
      "metadata": {
        "id": "IaG19lrsbeZg"
      },
      "source": [
        "## **Main Functions**"
      ]
    },
    {
      "cell_type": "code",
      "metadata": {
        "id": "AjCNYmvobeZh"
      },
      "source": [
        "def apply_preprocessing(text):\n",
        "    original_sentences = sent_tokenize(text.lower())\n",
        "    sentences = []\n",
        "    # Sentences Pre-processing\n",
        "    for sent in original_sentences:\n",
        "        tokens = [item for item in word_tokenize(sent) if item not in my_stopwords and item != '.' and item.isalpha()] # Preprocessing\n",
        "        sentences.append(' '.join([stemmer.stem(token) for token in tokens])) # Stemming\n",
        "    return original_sentences, sentences\n",
        "\n",
        "def textrank_summarize(text, k):\n",
        "  # apply pre-procssing for each training example\n",
        "  original_sentences, sentences = apply_preprocessing(text)\n",
        "  # Use the word embedding for each in each sentence sentence created with a 1-D vector!\n",
        "  word_embeddings = Word2Vec(sentences, min_count=1, size=1, iter=1000)\n",
        "  # Concatenate the embeddings for each sentence\n",
        "  sentence_embeddings=[[word_embeddings[word][0] for word in words] for words in sentences]\n",
        "  # Get the lenght of the longest sentence in the input text to used later while padding\n",
        "  max_length=max([len(tokens) for tokens in sentences]) \n",
        "  sentence_embeddings=[np.pad(embedding,(0,max_length-len(embedding)),'constant') for embedding in sentence_embeddings]\n",
        "  #Use the cosine similarity metric to compute the distances\n",
        "  similarity_matrix = np.zeros([len(sentences), len(sentences)])\n",
        "  for i,row_embedding in enumerate(sentence_embeddings):\n",
        "    for j,column_embedding in enumerate(sentence_embeddings):\n",
        "      similarity_matrix[i][j]=1-spatial.distance.cosine(row_embedding,column_embedding)\n",
        "  #transforming the similarity matrix to a graph ,So it could be passed to the built in function of PageRank to retreive each sentence score\n",
        "  nx_graph = nx.from_numpy_array(similarity_matrix)\n",
        "  scores = nx.pagerank(nx_graph)\n",
        "  # Creating a dictionary with score of each sentence as a key,then retreiving desired summary size (number of sentences) from top of the dict to bottom\n",
        "  top_sentence={sentence:scores[index] for index,sentence in enumerate(sentences)}\n",
        "  top=dict(sorted(top_sentence.items(), key=lambda x: x[1], reverse=True)[:k])\n",
        "  for sent in sentences:\n",
        "    if sent in top.keys():\n",
        "     return original_sentences[sentences==sent]\n",
        "  return ''"
      ],
      "execution_count": null,
      "outputs": []
    },
    {
      "cell_type": "markdown",
      "metadata": {
        "id": "6w2BJ6exbeZj"
      },
      "source": [
        "## **Experiments & Results**"
      ]
    },
    {
      "cell_type": "code",
      "metadata": {
        "colab": {
          "base_uri": "https://localhost:8080/"
        },
        "id": "kbvYa0wJbeZk",
        "outputId": "a5844b0f-318a-423c-93c2-af1df794858f"
      },
      "source": [
        "txt_summaries = []\n",
        "n_sentences = 1\n",
        "start_time = time.time()\n",
        "for txt in X_train[0:250]:\n",
        "    txt_summaries.append(textrank_summarize(txt, n_sentences))\n",
        "print('Elapsed time is {:.3f} seconds'.format(time.time()-start_time))"
      ],
      "execution_count": null,
      "outputs": [
        {
          "output_type": "stream",
          "text": [
            "/usr/local/lib/python3.7/dist-packages/ipykernel_launcher.py:16: DeprecationWarning: Call to deprecated `__getitem__` (Method will be removed in 4.0.0, use self.wv.__getitem__() instead).\n",
            "  app.launch_new_instance()\n"
          ],
          "name": "stderr"
        },
        {
          "output_type": "stream",
          "text": [
            "Elapsed time is 314.064 seconds\n"
          ],
          "name": "stdout"
        }
      ]
    },
    {
      "cell_type": "code",
      "metadata": {
        "colab": {
          "base_uri": "https://localhost:8080/"
        },
        "id": "vvWuM8GKbeZl",
        "outputId": "c215a196-3281-4cd5-c728-f7d55f8fb528"
      },
      "source": [
        "#Take a look at the output\n",
        "print('the news: ', X_train[19])\n",
        "print('===========================================')\n",
        "print('the generated summary: ', txt_summaries[19])"
      ],
      "execution_count": null,
      "outputs": [
        {
          "output_type": "stream",
          "text": [
            "the news:  Tamil Nadu Milk and Dairy Products Development Minister Rajenthra Bhalaji has alleged that products of private milk producers are adulterated. In a press briefing, Bhalaji held milk products by Nestle and Reliance, affirming that he had laboratory results which show that these are contaminated. He further alleged that there are contents of caustic soda and bleaching powder in the products.\n",
            "===========================================\n",
            "the generated summary:  tamil nadu milk and dairy products development minister rajenthra bhalaji has alleged that products of private milk producers are adulterated.\n"
          ],
          "name": "stdout"
        }
      ]
    },
    {
      "cell_type": "markdown",
      "metadata": {
        "id": "mjw5HH0JbeZm"
      },
      "source": [
        "**To evaluate this approach, we're evaluating its output with the output of TF-IDF based extractive summarization in the next section**"
      ]
    },
    {
      "cell_type": "markdown",
      "metadata": {
        "id": "I4tUQtCSckfO"
      },
      "source": [
        "# **Evaluation**"
      ]
    },
    {
      "cell_type": "markdown",
      "metadata": {
        "id": "W-PtaGHTdI8a"
      },
      "source": [
        "**As we're using Colab, we're comparing the performance of TextRank approach with the IF-IDF approach.**"
      ]
    },
    {
      "cell_type": "code",
      "metadata": {
        "colab": {
          "base_uri": "https://localhost:8080/"
        },
        "id": "076YfVH-cmRx",
        "outputId": "f672e919-6fc3-4d1d-e353-87cc6b0c2617"
      },
      "source": [
        "precision = sum([1 for i in range(len(txt_summaries)) if ext_summaries[i] == txt_summaries[i]])/len(txt_summaries)\n",
        "print(precision)"
      ],
      "execution_count": null,
      "outputs": [
        {
          "output_type": "stream",
          "text": [
            "0.736\n"
          ],
          "name": "stdout"
        }
      ]
    },
    {
      "cell_type": "markdown",
      "metadata": {
        "id": "-874uBL3dqvO"
      },
      "source": [
        "**Let's see the differences!!**"
      ]
    },
    {
      "cell_type": "code",
      "metadata": {
        "colab": {
          "base_uri": "https://localhost:8080/"
        },
        "id": "ls6jseFgdtnw",
        "outputId": "b7be29ba-eb29-4d85-f26a-56e0aa942303"
      },
      "source": [
        "for (x,y) in zip(ext_summaries, txt_summaries):\n",
        "    if x != y:\n",
        "        print('TF-IDF: ', x)\n",
        "        print('TextRank: ', y)\n",
        "        print('=========')"
      ],
      "execution_count": null,
      "outputs": [
        {
          "output_type": "stream",
          "text": [
            "TF-IDF:  hindustan times wrote the film is not \"an all-out-war against patriarchy\" but \"a subdued conversation starter\".\n",
            "TextRank:  'lipstick under my burkha', which released on friday, is \"worth the hype...a must watch\", wrote the quint.\n",
            "=========\n",
            "TF-IDF:  the film also stars jackky bhagnani and prachi desai and focuses on environmental issues like global warming and climate change.\n",
            "TextRank:  nawazuddin siddiqui's first look from the upcoming short film 'carbon' has been released.\n",
            "=========\n",
            "TF-IDF:  while gs road has been renamed as mahapurush srimanta sankerdev path, beltola-khanapara road is renamed as peer azan fakir road.\n",
            "TextRank:  the bjp-led assam government on thursday changed the names of all the major roads of guwahati.\n",
            "=========\n",
            "TF-IDF:  police have arrested two suspects in relation to the first rape incident and have launched an investigation into the second attack.\n",
            "TextRank:  a 14-year-old girl was raped twice in one night in uk's birmingham by different attackers, according to reports.\n",
            "=========\n",
            "TF-IDF:  while the government has been pushing for aadhaar citing that it would ensure subsidy schemes reach the targeted, activists claim that it is vulnerable to data breaches and helps government spy on people.\n",
            "TextRank:  while hearing petitions challenging aadhaar, the supreme court on tuesday appointed a 9-judge bench to decide whether privacy is a fundamental right or not under the constitution.\n",
            "=========\n",
            "TF-IDF:  this reverses rbi's earlier order where it asked the banks to mandatorily remain open on all days from march 25 to april 1, including saturday, sunday and all holidays.\n",
            "TextRank:  the reserve bank of india (rbi) on wednesday exempted banks dealing in government businesses from remaining open on april 1 in view of the annual closing business.\n",
            "=========\n",
            "TF-IDF:  clare and ian fisher said, \"there's no limit on how long we go for,\" while planning their trip starting with thailand, vietnam, cambodia, malaysia, and indonesia.\n",
            "TextRank:  a young couple from wales has made their children quit school and sold most of their possessions to travel the world.\n",
            "=========\n",
            "TF-IDF:  he added, \"mere acting ka alag tareeka hai...uska apna alag tareeka hai.\"\n",
            "TextRank:  actor nawazuddin siddiqui has said that he has no equation or relationship with actor irrfan khan.\n",
            "=========\n",
            "TF-IDF:  she delivered a baby boy at a privately-run hospital in london on december 13. moaza had decided to freeze her ovarian tissue because she was born with a blood disorder called thalassaemia.\n",
            "TextRank:  a 24-year-old woman from dubai, moaza al matrooshi, had a baby using ovary tissues that were frozen from before she reached puberty.\n",
            "=========\n",
            "TF-IDF:  police said they were called after someone noticed a depression had formed under a boat parked outside a house, and \"the hole opened up\" within minutes.\n",
            "TextRank:  a sinkhole swallowed two houses and a boat in florida, united states.\n",
            "=========\n",
            "TF-IDF:  it started in 1992 as an annual bilateral exercise between india and us, while japan was permanently added in 2015, making it a trilateral exercise.\n",
            "TextRank:  the malabar naval exercise is like mock battle involving practice sessions of naval ships, vessels, submarines, etc.\n",
            "=========\n",
            "TF-IDF:  the dalai lama, who was on a nine-day visit to arunachal pradesh, has traveled to the indian state on six earlier occasions since 1983.\n",
            "TextRank:  the 14th dalai lama said that historically the indians and tibetans have had a long, enduring relationship as teachers (gurus) and disciples (chelas).\n",
            "=========\n",
            "TF-IDF:  congress vice president rahul gandhi was also arrested last week for making attempts to enter the area without permission and meet farmers and their families.\n",
            "TextRank:  congress mp jyotiraditya scindia was arrested on tuesday in ratlam of madhya pradesh when he was on his way to visit mandsaur, where several farmers were killed in police firing during protests.\n",
            "=========\n",
            "TF-IDF:  this comes after the ed raided three delhi farmhouses owned by bharti, over a money laundering case against a firm linked to her and her husband shailesh kumar.\n",
            "TextRank:  the enforcement directorate (ed) has reportedly decided to seize a delhi farmhouse owned by lalu prasad's daughter misa bharti.\n",
            "=========\n",
            "TF-IDF:  \"i think people start counting the number of innings when a batsman doesn't score well...i wasn't looking at how many innings i haven't scored...when you are playing all formats you are not thinking which format you have not scored runs,\" said kohli.\n",
            "TextRank:  india captain virat kohli has said he is not affected by people's opinions on his lack of form.\n",
            "=========\n",
            "TF-IDF:  in the cameo appearance by srk in tubelight, he reportedly plays the role of a magician, which was shown in the film's trailer as only a silhouette.\n",
            "TextRank:  pictures showing shah rukh khan's character from the upcoming film tubelight have emerged online.\n",
            "=========\n",
            "TF-IDF:  \"upset that a pretend exercise in an improvisation, from an actual scene...has been written about as if it was a real scenario,\" said jolie.\n",
            "TextRank:  angelina jolie has denied reports of using a cruel casting process while auditioning children for her film.\n",
            "=========\n",
            "TF-IDF:  the ministry for food processing industries said that the subsidy was provided for a scheme run by the government for the establishment and modernisation of slaughterhouses.\n",
            "TextRank:  an rti response revealed that between 2014 and 2017, the modi government has provided nearly ?68 crore as subsidy to states to run slaughterhouses.\n",
            "=========\n",
            "TF-IDF:  mika is known for songs like 'sawan mein lag gayi aag', 'mauja hi mauja', 'gandi baat', among others.\n",
            "TextRank:  mika singh has said that singers should be given priority over actors for playback singing.\n",
            "=========\n",
            "TF-IDF:  pcb chairman shahrayar khan said that the board had no option but to seek compensation from bcci for not playing any bilateral series with pakistan despite a mou signed between the boards.\n",
            "TextRank:  pakistan cricket board has reserved over ?60 crore to bear the legal costs of filing compensation claim against the bcci in the icc disputes resolution committee.\n",
            "=========\n",
            "TF-IDF:  while austria was named the best destination for romance, spain was named the best destination for food and drink and japan was named the best destination for culture.\n",
            "TextRank:  thailand was named the world's best destination for relaxation at the 6th lonely planet india travel awards in mumbai.\n",
            "=========\n",
            "TF-IDF:  maharashtra state lawn tennis association had recently bagged the hosting rights of chennai open which is india's only atp world tour event, and re-branded it as \"maharashtra open\", to be held in pune.\n",
            "TextRank:  india will host its first wta tournament in five years when the city of mumbai stages the ?80 lakh ($125,000) mumbai open in november.\n",
            "=========\n",
            "TF-IDF:  it is also expecting around 3.75 lakh international tourist arrivals during the same duration, a 5% increase when compared to the previous year.\n",
            "TextRank:  the tourism authority of thailand is expecting around 13,200 tourists from india during the new year holiday period.\n",
            "=========\n",
            "TF-IDF:  the passenger, identified as rohit kumar, was intercepted by cisf personnel after his baggage check revealed a suspicious packet containing five envelopes.\n",
            "TextRank:  a russia-bound man was arrested at delhi airport on friday for allegedly carrying ?50,000 (nearly ?40 lakh) in an unauthorised manner, a senior official has said.\n",
            "=========\n",
            "TF-IDF:  the incident had happened in a csd canteen in mumbai in 2013. the general court martial found the officer guilty and instructed him to pay back ?531 as the cost of the wallet.\n",
            "TextRank:  a flight lieutenant has been court-martialled by the indian air force after he was caught stealing a wallet on cctv cameras.\n",
            "=========\n",
            "TF-IDF:  the cross loc trade on chakothi-uri border has been under radar of intelligence and security agencies and terrorists are reportedly using the trade of almonds to push fake indian currency notes, arms into india.\n",
            "TextRank:  the jammu and kashmir police has busted a plot of pakistan-based terrorists to launch attacks, recovering arms and ammunition from a truck carrying goods at loc.\n",
            "=========\n",
            "TF-IDF:  the samajwadi party-congress alliance was a distant second with a lead in 32 seats, while the mayawati-led bahujan samaj party led in 21 seats.\n",
            "TextRank:  the bharatiya janata party was leading in 140 of the 201 counted seats in uttar pradesh, according to the early trends.\n",
            "=========\n",
            "TF-IDF:  as per the proposal, the school kids would be allowed to come to school without school bags so that they can enjoy the creative activities.\n",
            "TextRank:  the uttar pradesh government is considering to make saturdays 'no school bag day' in the state-run schools.\n",
            "=========\n",
            "TF-IDF:  the poll further claimed that the samajwadi party may emerge as the second largest party by bagging between 92-97 seats, followed by bsp with 79-85 seats.\n",
            "TextRank:  the india today-axis opinion poll has predicted that the bjp is expected to secure a majority in the 403-member uttar pradesh assembly by winning between 206-216 seats.\n",
            "=========\n",
            "TF-IDF:  \"a lot has been given into the drs incident i feel and it's time we focus on the remainder of the series,\" kohli said.\n",
            "TextRank:  indian captain virat kohli is willing to put steve smith's drs controversy behind him.\n",
            "=========\n",
            "TF-IDF:  while sheeran's concert in india is scheduled for november 19 in mumbai, he will also perform in other asian cities including singapore, tokyo, hong kong, bangkok and seoul.\n",
            "TextRank:  singer ed sheeran will be coming to india for a concert as part of his asia tour this year.\n",
            "=========\n",
            "TF-IDF:  women made a distress call to the helplines every nine minutes on an average, a molestation complaint was received every two hours and a rape case was registered every four hours, the data revealed.\n",
            "TextRank:  crime in delhi increased for the third straight year in 2016 and three out of every four cases went unsolved, according to official data.\n",
            "=========\n",
            "TF-IDF:  pal was awarded padma bhushan in 1976 and padma vibhushan in 2013. he was known for his contribution to the study of cosmic rays at tata institute of fundamental research.\n",
            "TextRank:  professor yash pal, a renowned scientist, passed away at 90 on monday night in a noida hospital.\n",
            "=========\n",
            "TF-IDF:  \"though the exact reasons behind pradeep's extreme step are still not known, the couple had a minor quarrel last night,\" the inspector said.\n",
            "TextRank:  pradeep kumar, who starred in telugu show 'saptha matrika', allegedly committed suicide at his house in hyderabad, police said on wednesday.\n",
            "=========\n",
            "TF-IDF:  mexican boxer andrés gutiérrez, a former world champion in featherweight and super-bantamweight, was due to fight northern ireland's carl frampton in his home town.\n",
            "TextRank:  a boxing match which was supposed to be a world featherweight title eliminator was cancelled on friday with less than 24-hour notice after a contender fell in the shower, breaking his teeth and injuring his face.\n",
            "=========\n",
            "TF-IDF:  the charges are related to south africa's domestic twenty20 series held in 2015. six other players have already been banned for trying to fix the outcome of matches in the t20 league.\n",
            "TextRank:  pacer lonwabo tsotsobe, who appeared in five tests and 61 one day internationals for south africa, has been charged with match-fixing by the nation's cricket board.\n",
            "=========\n",
            "TF-IDF:  banks have contended that the relationship they have with customers with regard to lockers is that of a lessee (landlord) and lessor (tenant), in which lessors are responsible for their valuables kept in lockers owned by banks.\n",
            "TextRank:  public sector banks cannot be held responsible in case of theft of valuables from lockers, according to an rti response by rbi.\n",
            "=========\n",
            "TF-IDF:  the police have initiated action against the accused under the prevention of cruelty to animals act.\n",
            "TextRank:  a man reportedly severed two legs of a two-month-old puppy after the dog gave him a minor scratch in south-west delhi's dwarka.\n",
            "=========\n",
            "TF-IDF:  later, mayweather pointed out mcgregor's three career losses by tapping out, saying, \"we know mr tapout like to quit and you will.\"\n",
            "TextRank:  ahead of their boxing match, floyd mayweather and ufc champion conor mcgregor came face to face publicly for the first time on tuesday.\n",
            "=========\n",
            "TF-IDF:  \"first news of the year... k9 is producing two comedy shows... hope u will like... stay happy,\" kapil tweeted.\n",
            "TextRank:  comedian kapil sharma has announced that his production house k9 is set to produce two new comedy shows in 2017.\n",
            "=========\n",
            "TF-IDF:  however, they can book tickets only in first ac, second ac and executive class of mail express trains, rajdhani, shatabdi, gatimaan and tejas trains.\n",
            "TextRank:  the indian railways has decided to allow foreigners to book train tickets 360 days in advance, extended from the current 120 days.\n",
            "=========\n",
            "TF-IDF:  farmer sarvesh kumar pal, who raised an alarm but managed to save only ?4,000, said people have suggested he sell the goat to a butcher.\n",
            "TextRank:  a goat in up chewed up currency notes worth ?66,000 while his owner was bathing on monday.\n",
            "=========\n",
            "TF-IDF:  the dinosaur replica, named 'dippy', was cast from original fossil bones discovered in 1898. the replacement aims to raise awareness for blue whales which have gone down from 2.5 lakh in the 1800s to 20,000, officials said.\n",
            "TextRank:  an 82-foot-long blue whale skeleton has replaced a dinosaur skeleton at london's natural history museum, 112 years after the latter was unveiled there.\n",
            "=========\n",
            "TF-IDF:  the couple got married after meeting through a newspaper matrimonial advertisement, with the husband filing for divorce after the wife was arrested for misappropriation of funds.\n",
            "TextRank:  a 53-year-old man and a 49-year-old woman, who were married for 20 days in 1998, have been granted divorce by a delhi court 20 years after their marriage.\n",
            "=========\n",
            "TF-IDF:  a total of 4,120 mlas and 776 mps cast their vote to choose between nda's ram nath kovind and opposition's meira kumar.\n",
            "TextRank:  voting to choose the 14th president of india began at the parliament and state legislative assemblies at 10 am on monday.\n",
            "=========\n",
            "TF-IDF:  not revealing why she called off the wedding, the woman said, \"i started feeling really sick about just throwing away all the food i ordered for the reception.\"\n",
            "TextRank:  a woman in the us state of indiana who called off her $30,000 wedding threw a party for the homeless at an event centre she had booked for the reception.\n",
            "=========\n",
            "TF-IDF:  \"my mother was a good cook but the chapati shape angered my father,\" the couple's four-year-old daughter told the police.\n",
            "TextRank:  a delhi man murdered his 22-year-old pregnant wife on saturday as she could not make perfectly round rotis.\n",
            "=========\n",
            "TF-IDF:  earlier, kunal while announcing soha's pregnancy said, \"soha and i are very happy to announce a joint production coming later this year - our first child!\"\n",
            "TextRank:  actor kunal kemmu has shared a picture of his wife actress soha ali khan, in which her baby bump can be seen.\n",
            "=========\n",
            "TF-IDF:  terming the number \"abnormally high\", jamshed further said that most of these instances have occurred in non-traditional left-wing extremism affected areas, and don?t carry the signature of maoist subversive activities.\n",
            "TextRank:  railway board official mohammed jamshed has reportedly stated that in the first 40 days of 2017, there have already been 16 cases of train sabotage.\n",
            "=========\n",
            "TF-IDF:  the sri lankan board was the only member which supported bcci's stance on governance, while it joined others in opposing bcci's proposal to retain the revenue structure.\n",
            "TextRank:  eight member nations voted against bcci's proposal of retaining icc's old revenue model at the board meeting in dubai on wednesday.\n",
            "=========\n",
            "TF-IDF:  the ntca has stated that all tiger deaths will be treated as poaching unless proven otherwise, making it 65% of the total deaths this year.\n",
            "TextRank:  with 98 reported deaths, there has been a 25% rise in the number of tiger deaths this year, national tiger conservation authority reported.\n",
            "=========\n",
            "TF-IDF:  aam aadmi sena members reportedly took a leaking cylinder to four cng checking centres across delhi and got it cleared.\n",
            "TextRank:  ousted aap minister kapil mishra released a sting operation on monday alleging that the kejriwal government is involved in a cng kit scam.\n",
            "=========\n",
            "TF-IDF:  the two were recently spotted together on their way out of karisma's sister kareena kapoor's house in bandra, mumbai.\n",
            "TextRank:  as per reports, actress karisma kapoor is planning to move in with her rumoured boyfriend sandeep toshniwal.\n",
            "=========\n",
            "TF-IDF:  \"our website and app does not store... credit card details, wallets passwords or bank account information,\" said a mcdonald's spokesperson.\n",
            "TextRank:  mcdonald's has denied reports that financial details of 22 lakh of its indian customers had been leaked by the company.\n",
            "=========\n",
            "TF-IDF:  the previous indian pm to visit spain was rajiv gandhi, in 1988. modi tweeted \"landed in spain, marking the start of a very important visit aimed at improving economic and cultural relations with spain,\" in spanish and english.\n",
            "TextRank:  narendra modi became the first indian pm to visit spain in nearly 30 years, after he reached the country on tuesday night.\n",
            "=========\n",
            "TF-IDF:  this is reportedly the first sea-to-land missile test in the country and also the first time the land-attack variant was fired from a ship.\n",
            "TextRank:  indian navy on friday successfully conducted the first test fire of the land-attack variant of the brahmos supersonic missile.\n",
            "=========\n",
            "TF-IDF:  the woman bought alcohol and made her husband drink during the weekend calling it a treat from her side and murdered him when he passed out.\n",
            "TextRank:  a 32-year-old delhi woman strangulated her husband and reportedly slept next to his dead body in her one-room house for two nights.\n",
            "=========\n",
            "TF-IDF:  the man believed his wife had an affair when he had gone to saudi arabia recently, police officials said.\n",
            "TextRank:  a 37-year-old man on friday allegedly strangled his wife to death over suspicion of an extra-marital affair after the two had an argument in delhi's kotla mubarakpur.\n",
            "=========\n",
            "TF-IDF:  rolls cashed in the shares that have risen over 50% this year alone and are currently up 924% since its ipo in late 2014. after the sale, rolls still owns around 11.2% of the company.\n",
            "TextRank:  charles rolls, the co-founder of upmarket tonic water maker fever-tree, sold a stake of around 4% in the company for £73 million (around ?602 crore).\n",
            "=========\n",
            "TF-IDF:  reportedly, the state government also announced an increase in mlas' local area development fund from ?2 crore to ?2.5 crore.\n",
            "TextRank:  tamil nadu government has almost doubled the salary of mlas in the state from ?55,000 to ?1.05 lakh on wednesday.\n",
            "=========\n",
            "TF-IDF:  \"i would expect that the administration going to be in talks and try and find its place to be part of that (process)... and also wouldn't be surprised if the president participates as well,\" haley stated.\n",
            "TextRank:  us permanent representative to the un nikki haley has said president donald trump may get involved in a peace process between india and pakistan.\n",
            "=========\n",
            "TF-IDF:  \"[s]he's quite a sorted individual who follows a strong instinct... as her mother, i'm always there, but alia knows what she wants both professionally and personally,\" she added.\n",
            "TextRank:  alia bhatt's mother soni razdan has said alia does not need her guidance to choose films.\n",
            "=========\n",
            "TF-IDF:  he also mentioned an incident when on being asked about her gains after the emergency, she replied, \"in those 21 months we comprehensively managed to alienate all sections of people\".\n",
            "TextRank:  outgoing president pranab mukherjee in his farewell speech on sunday remembered indira gandhi, calling her a towering personality.\n",
            "=========\n",
            "TF-IDF:  the us air strike, which was part of a nato mission to support afghan forces against the taliban, attacked the policemen as they were clearing taliban militants from a village.n\n",
            "TextRank:  at least 12 afghan policemen were killed and two others were injured on friday in the province of helmand in a friendly-fire air strike by a us gunship, reports said.\n",
            "=========\n",
            "TF-IDF:  sonarika is known for her portrayal of goddess parvati and adi shakti in the television serial 'devon ke dev...mahadev'.\n",
            "TextRank:  a 23-year-old man has been arrested for sending obscene messages to television actress sonarika bhadoria.\n",
            "=========\n",
            "TF-IDF:  as per reports, the clashes started as four undertrials attacked two jail wardens with plastic pipes, which they had removed from walls.\n",
            "TextRank:  large-scale violence was reported in punjab's gurdaspur jail as the police resorted to firing in the air to bring the situation under control.\n",
            "=========\n"
          ],
          "name": "stdout"
        }
      ]
    }
  ]
}